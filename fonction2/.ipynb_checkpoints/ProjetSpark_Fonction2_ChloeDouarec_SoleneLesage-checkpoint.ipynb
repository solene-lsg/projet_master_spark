{
 "cells": [
  {
   "cell_type": "markdown",
   "metadata": {},
   "source": [
    "# Projet 2 : Accidents de la circulation en France (Spark)"
   ]
  },
  {
   "cell_type": "markdown",
   "metadata": {},
   "source": [
    "#### Chloé Douarec, Solène Lesage - M2 Data Science, données biologiques et numériques - Novembre 2022"
   ]
  },
  {
   "cell_type": "markdown",
   "metadata": {},
   "source": [
    "On s'intéresse à la base de données ONISR, pour les années 2011 à 2018, qui concerne les accidents de la circulation en France.\n",
    "Cette base de données compte 4 rubriques : Caracteristiques, Lieux, Usagers, Vehicules.\n",
    "\n",
    "- Lien vers l'archive contenant l'ensemble des données : https://coursspark.000webhostapp.com/data/accidents.zip \n",
    "- Informations sur la base et description : https://coursspark.000webhostapp.com/data/description-des-bases-de-donnees-onisr-annees-2005-a-2018.pdf"
   ]
  },
  {
   "cell_type": "markdown",
   "metadata": {},
   "source": [
    "Dans cette partie, on souhaite calculer, parmi tous les véhicules impliqués dans un accident, et dont le chauffeur est un homme (resp. une femme), la proportion de ceux dont au moins l’un des occupants a été tué."
   ]
  },
  {
   "cell_type": "code",
   "execution_count": 5,
   "metadata": {},
   "outputs": [],
   "source": [
    "# pip install pyspark"
   ]
  },
  {
   "cell_type": "code",
   "execution_count": 6,
   "metadata": {},
   "outputs": [],
   "source": [
    "from pyspark.sql import SparkSession\n",
    "spark  = SparkSession.builder.master(\"local\").appName('ProjetSpark').getOrCreate()"
   ]
  },
  {
   "cell_type": "markdown",
   "metadata": {},
   "source": [
    "## Chargement des données"
   ]
  },
  {
   "cell_type": "code",
   "execution_count": 7,
   "metadata": {},
   "outputs": [
    {
     "name": "stdout",
     "output_type": "stream",
     "text": [
      "['accidents/usagers_2011.csv', 'accidents/usagers_2012.csv', 'accidents/usagers_2013.csv', 'accidents/usagers_2014.csv', 'accidents/usagers_2015.csv', 'accidents/usagers_2016.csv', 'accidents/usagers_2017.csv', 'accidents/usagers_2018.csv']\n"
     ]
    }
   ],
   "source": [
    " # Listes des années\n",
    "years = range(2011, 2019)\n",
    "\n",
    "# Création d'une liste pour les fichiers csv\n",
    "liste_usagers = []\n",
    "for year in years:\n",
    "    usagers = 'accidents/usagers_{}.csv'.format(year)\n",
    "    liste_usagers.append(usagers)\n",
    "\n",
    "print(liste_usagers)"
   ]
  },
  {
   "cell_type": "markdown",
   "metadata": {},
   "source": [
    "On réalise une jointure des fichiers csv de toutes les années de 2011 à 2018 pour la rubrique Usagers, pour toutes les réunir en un seul dataframe."
   ]
  },
  {
   "cell_type": "code",
   "execution_count": 8,
   "metadata": {},
   "outputs": [],
   "source": [
    "import pandas as pd\n",
    "\n",
    "# Initialisation de df_usagers : le premier .csv de usagers (2011)\n",
    "df_usagers = spark.read.load(liste_usagers[0], format = 'csv',header=True) \n",
    "\n",
    "# On parcourt à compter de la deuxième année pour réaliser les jointures\n",
    "for dataframe in liste_usagers[1:]:\n",
    "    data_usagers = spark.read.load(dataframe, format = 'csv',header=True)                   # Chargement du fichier csv\n",
    "    df_usagers = df_usagers.unionByName(data_usagers)                                       # Jointure"
   ]
  },
  {
   "cell_type": "code",
   "execution_count": 9,
   "metadata": {},
   "outputs": [
    {
     "name": "stdout",
     "output_type": "stream",
     "text": [
      "+------------+-----+----+----+----+------+----+----+----+-----+-------+-------+\n",
      "|     Num_Acc|place|catu|grav|sexe|trajet|secu|locp|actp|etatp|an_nais|num_veh|\n",
      "+------------+-----+----+----+----+------+----+----+----+-----+-------+-------+\n",
      "|201100000001|    1|   1|   3|   1|     5|  21|   0|   0|    0|   1995|    A01|\n",
      "|201100000001|    1|   1|   1|   1|     5|  11|   0|   0|    0|   1949|    B02|\n",
      "|201100000002|    1|   1|   1|   1|     0|  11|   0|   0|    0|   1967|    A01|\n",
      "|201100000002|    1|   1|   3|   1|     0|  21|   0|   0|    0|   1963|    B02|\n",
      "|201100000003|    1|   1|   1|   1|     1|  11|   0|   0|    0|   1989|    A01|\n",
      "|201100000003| null|   3|   3|   2|     2|null|   4|   3|    1|   1993|    A01|\n",
      "|201100000004|    1|   1|   4|   1|     5|  21|   0|   0|    0|   1971|    A01|\n",
      "|201100000004|    1|   1|   3|   1|     5|  22|   0|   0|    0|   1980|    B02|\n",
      "|201100000004|    1|   1|   1|   1|     5|  11|   0|   0|    0|   1980|    C03|\n",
      "|201100000005|    1|   1|   1|   2|     5|  13|   0|   0|    0|   1980|    A01|\n",
      "|201100000005| null|   3|   3|   1|     9|null|   1|   0|    1|   1962|    A01|\n",
      "|201100000006|    1|   1|   3|   1|     1|  21|   0|   0|    0|   1988|    A01|\n",
      "|201100000006|    1|   1|   1|   1|     5|  11|   0|   0|    0|   1952|    B02|\n",
      "|201100000007|    1|   1|   3|   1|     1|  21|   0|   0|    0|   1965|    B02|\n",
      "|201100000007|    1|   1|   1|   2|     2|  11|   0|   0|    0|   1992|    A01|\n",
      "+------------+-----+----+----+----+------+----+----+----+-----+-------+-------+\n",
      "only showing top 15 rows\n",
      "\n"
     ]
    }
   ],
   "source": [
    "# Visualisation du dataframe\n",
    "df_usagers.show(15)"
   ]
  },
  {
   "cell_type": "code",
   "execution_count": 10,
   "metadata": {},
   "outputs": [
    {
     "name": "stdout",
     "output_type": "stream",
     "text": [
      "Il y a au total 1078041 usagers enregistrés dans des accidents de la circulation entre 2011 et 2018.\n"
     ]
    }
   ],
   "source": [
    "print(\"Il y a au total\",df_usagers.count(),\"usagers enregistrés dans des accidents de la circulation entre 2011 et 2018.\")"
   ]
  },
  {
   "cell_type": "markdown",
   "metadata": {},
   "source": [
    "### Ordonner/trier le dataframe selon les colonnes \"Num_Acc\", \"num_veh\" et \"catu\" par ordre croissant"
   ]
  },
  {
   "cell_type": "markdown",
   "metadata": {},
   "source": [
    "Sachant que une ligne du dataframe df_usagers correspond à un usager, on a :\n",
    "- Num_Acc : identifiant de l'accident concerné\n",
    "- num_veh : identifiant du véhicule concerné parmi ceux de l'accident Num_Acc\n",
    "- catu : catégorie de l'usager considéré. Prends les valeurs suivantes :\\\n",
    "       - 1 : Conducteur\\\n",
    "       - 2 : Passager\\\n",
    "       - 3 : Piéton\\\n",
    "       - 4 : Piéton en roller ou en trottinette"
   ]
  },
  {
   "cell_type": "markdown",
   "metadata": {},
   "source": [
    "On souhaite ordonner les colonnes \"Num_Acc\", \"num_veh\" et \"catu\" par ordre croissant.\\\n",
    "Ordonner de cette façon le dataframe permet d'avoir les informations dans un ordre spécifique pour la suite du traitement.\\\n",
    "Pour chaque accidents ordonné par ordre croissant, on a tous les véhicules de l'accident par ordre alphabétique. Pour chacun de ces véhicules, on a tous les usagers associés les uns à la suite des autres, avec en premier le conducteur grâce au tri sur la variable catu."
   ]
  },
  {
   "cell_type": "code",
   "execution_count": 11,
   "metadata": {},
   "outputs": [],
   "source": [
    "df_usagers=df_usagers.sort(\"Num_Acc\",\"num_veh\",\"catu\")"
   ]
  },
  {
   "cell_type": "markdown",
   "metadata": {},
   "source": [
    "### Informations sur les conducteurs et quelques proportions intermédiaires"
   ]
  },
  {
   "cell_type": "markdown",
   "metadata": {},
   "source": [
    "#### Tous les conducteurs"
   ]
  },
  {
   "cell_type": "code",
   "execution_count": 12,
   "metadata": {},
   "outputs": [
    {
     "name": "stdout",
     "output_type": "stream",
     "text": [
      "Nombre de conducteurs parmi les usagers impliqués dans un accident :  802357\n",
      "Proportion de conducteurs parmi tous les usagers impliqués dans un accident : 74.427 %\n"
     ]
    }
   ],
   "source": [
    "n_conduct = df_usagers.filter(df_usagers['catu'] == '1').count()\n",
    "print(\"Nombre de conducteurs parmi les usagers impliqués dans un accident : \", n_conduct)\n",
    "\n",
    "# Proportion de conducteurs sur l'ensemble des usagers : 74.43 %\n",
    "prop_conducteurs=n_conduct*100/df_usagers.count() \n",
    "print(\"Proportion de conducteurs parmi tous les usagers impliqués dans un accident : %.3f\" %prop_conducteurs,\"%\")"
   ]
  },
  {
   "cell_type": "markdown",
   "metadata": {},
   "source": [
    "#### Les conductrices femmes"
   ]
  },
  {
   "cell_type": "markdown",
   "metadata": {},
   "source": [
    "A partir d'ici, on utilise une autre variable de la rubrique Usagers : la variable \"sexe\", qui indique le sexe de l'usager considéré. Elle prend les valeurs suivantes :    \n",
    "- 1 : Homme\n",
    "- 2 : Femme"
   ]
  },
  {
   "cell_type": "code",
   "execution_count": 13,
   "metadata": {},
   "outputs": [
    {
     "name": "stdout",
     "output_type": "stream",
     "text": [
      "Proportion de femmes parmi les conducteurs : 25.882 %\n"
     ]
    }
   ],
   "source": [
    "# Nombre de conductrices parmi les usagers\n",
    "n_conduct_f=df_usagers.filter((df_usagers['sexe'] == '2') &(df_usagers[\"catu\"]=='1') ).count() # nombre d'usagers qui sont des femmes et qui étaient conductrices\n",
    "\n",
    "# Proportion de conductrices parmi l'ensemble des conducteurs (hommes et femmes)\n",
    "prop_conduct_f=n_conduct_f*100/n_conduct\n",
    "\n",
    "print(\"Proportion de femmes parmi les conducteurs : %.3f\" %prop_conduct_f,\"%\") # Proportion de femmes parmi les conducteurs : 25.88 %"
   ]
  },
  {
   "cell_type": "markdown",
   "metadata": {},
   "source": [
    "#### Les conducteurs hommes"
   ]
  },
  {
   "cell_type": "code",
   "execution_count": 14,
   "metadata": {},
   "outputs": [
    {
     "name": "stdout",
     "output_type": "stream",
     "text": [
      "Proportion d'hommes parmi les conducteurs : 74.118 %\n"
     ]
    }
   ],
   "source": [
    "# Nombre de conducteurs (hommes) parmi les usagers\n",
    "n_conduct_h=df_usagers.filter((df_usagers['sexe'] == '1') &(df_usagers[\"catu\"]=='1') ).count() # nombre d'usagers qui sont des hommes et qui étaient conducteurs\n",
    "\n",
    "# Proportion de conducteurs (hommes) parmi l'ensemble des conducteurs (hommes et femmes)\n",
    "prop_conduct_h=n_conduct_h*100/n_conduct\n",
    "print(\"Proportion d'hommes parmi les conducteurs : %.3f\" %prop_conduct_h,\"%\") # Proportion d'hommes parmi les conducteurs : 74.118 %"
   ]
  },
  {
   "cell_type": "markdown",
   "metadata": {},
   "source": [
    "### Les usagers tués"
   ]
  },
  {
   "cell_type": "markdown",
   "metadata": {},
   "source": [
    "On utilise la variable \"grav\", qui indique pour chaque usager son état suite à l'accident. Elle prend les valeurs suivantes : \n",
    "- 1 : Indemne\n",
    "- 2 : Tué\n",
    "- 3 : Blessé hospitalisé\n",
    "- 4 : Blessé léger"
   ]
  },
  {
   "cell_type": "code",
   "execution_count": 15,
   "metadata": {},
   "outputs": [],
   "source": [
    "df_usagers_tues = df_usagers.filter(df_usagers['grav'] == '2') # grav = 2 : usager tué"
   ]
  },
  {
   "cell_type": "code",
   "execution_count": 16,
   "metadata": {},
   "outputs": [
    {
     "name": "stdout",
     "output_type": "stream",
     "text": [
      "Parmi les 1078041 usagers enregistrés, 29200 ont été tués du fait de l'accident\n"
     ]
    }
   ],
   "source": [
    "nombre_usagers=df_usagers.count()\n",
    "nombre_tues=df_usagers_tues.count()\n",
    "\n",
    "print(\"Parmi les\",nombre_usagers,\"usagers enregistrés,\",nombre_tues,\"ont été tués du fait de l'accident\")"
   ]
  },
  {
   "cell_type": "markdown",
   "metadata": {},
   "source": [
    "### Ajout colonne sexe du conducteur dans pd_usagers"
   ]
  },
  {
   "cell_type": "code",
   "execution_count": 17,
   "metadata": {},
   "outputs": [],
   "source": [
    "# Conversion du dataframe spark en dataframe pandas\n",
    "pd_usagers=df_usagers.toPandas()"
   ]
  },
  {
   "cell_type": "markdown",
   "metadata": {},
   "source": [
    "On ajoute la variable sexe_conduct, apportant l'information du sexe du conducteur du véhicule dans lequel se trouvait l'usager, au moment de l'accident.\\\n",
    "On calcule la valeur de cette variable à partir de la variable \"sexe\" et de la variable \"catu\". Plus précisement, le dataframe ayant été ordonné par accident, par véhicule, puis par la catégorie des usagers pour chaque véhicule, on sait que le premier usager décrit pour chaque véhicule est le conducteur. Cela est du au fait que la plus petite valeur de \"catu\" est 1, et que ça correspond au fait d'être le conducteur. "
   ]
  },
  {
   "cell_type": "markdown",
   "metadata": {},
   "source": [
    "#### Calcul des valeurs de sexe_conduct et ajout dans une liste"
   ]
  },
  {
   "cell_type": "code",
   "execution_count": 18,
   "metadata": {},
   "outputs": [],
   "source": [
    "sexe_conduct=[]\n",
    "for index, row in pd_usagers.iterrows():\n",
    "    if row[\"catu\"]==\"1\":\n",
    "        sexe_conduct.append(row[\"sexe\"])\n",
    "        sexe_conducteur_courant=row[\"sexe\"]\n",
    "    else:\n",
    "        sexe_conduct.append(sexe_conducteur_courant)"
   ]
  },
  {
   "cell_type": "markdown",
   "metadata": {},
   "source": [
    "#### On affecte cette liste comme étant la variable \"sexe_conduct\" du dataframe pd_usagers"
   ]
  },
  {
   "cell_type": "code",
   "execution_count": 19,
   "metadata": {},
   "outputs": [],
   "source": [
    "pd_usagers[\"sexe_conduct\"]=sexe_conduct"
   ]
  },
  {
   "cell_type": "code",
   "execution_count": 20,
   "metadata": {},
   "outputs": [
    {
     "data": {
      "text/html": [
       "<div>\n",
       "<style scoped>\n",
       "    .dataframe tbody tr th:only-of-type {\n",
       "        vertical-align: middle;\n",
       "    }\n",
       "\n",
       "    .dataframe tbody tr th {\n",
       "        vertical-align: top;\n",
       "    }\n",
       "\n",
       "    .dataframe thead th {\n",
       "        text-align: right;\n",
       "    }\n",
       "</style>\n",
       "<table border=\"1\" class=\"dataframe\">\n",
       "  <thead>\n",
       "    <tr style=\"text-align: right;\">\n",
       "      <th></th>\n",
       "      <th>Num_Acc</th>\n",
       "      <th>place</th>\n",
       "      <th>catu</th>\n",
       "      <th>grav</th>\n",
       "      <th>sexe</th>\n",
       "      <th>trajet</th>\n",
       "      <th>secu</th>\n",
       "      <th>locp</th>\n",
       "      <th>actp</th>\n",
       "      <th>etatp</th>\n",
       "      <th>an_nais</th>\n",
       "      <th>num_veh</th>\n",
       "      <th>sexe_conduct</th>\n",
       "    </tr>\n",
       "  </thead>\n",
       "  <tbody>\n",
       "    <tr>\n",
       "      <th>0</th>\n",
       "      <td>201100000001</td>\n",
       "      <td>1</td>\n",
       "      <td>1</td>\n",
       "      <td>3</td>\n",
       "      <td>1</td>\n",
       "      <td>5</td>\n",
       "      <td>21</td>\n",
       "      <td>0</td>\n",
       "      <td>0</td>\n",
       "      <td>0</td>\n",
       "      <td>1995</td>\n",
       "      <td>A01</td>\n",
       "      <td>1</td>\n",
       "    </tr>\n",
       "    <tr>\n",
       "      <th>1</th>\n",
       "      <td>201100000001</td>\n",
       "      <td>1</td>\n",
       "      <td>1</td>\n",
       "      <td>1</td>\n",
       "      <td>1</td>\n",
       "      <td>5</td>\n",
       "      <td>11</td>\n",
       "      <td>0</td>\n",
       "      <td>0</td>\n",
       "      <td>0</td>\n",
       "      <td>1949</td>\n",
       "      <td>B02</td>\n",
       "      <td>1</td>\n",
       "    </tr>\n",
       "    <tr>\n",
       "      <th>2</th>\n",
       "      <td>201100000002</td>\n",
       "      <td>1</td>\n",
       "      <td>1</td>\n",
       "      <td>1</td>\n",
       "      <td>1</td>\n",
       "      <td>0</td>\n",
       "      <td>11</td>\n",
       "      <td>0</td>\n",
       "      <td>0</td>\n",
       "      <td>0</td>\n",
       "      <td>1967</td>\n",
       "      <td>A01</td>\n",
       "      <td>1</td>\n",
       "    </tr>\n",
       "    <tr>\n",
       "      <th>3</th>\n",
       "      <td>201100000002</td>\n",
       "      <td>1</td>\n",
       "      <td>1</td>\n",
       "      <td>3</td>\n",
       "      <td>1</td>\n",
       "      <td>0</td>\n",
       "      <td>21</td>\n",
       "      <td>0</td>\n",
       "      <td>0</td>\n",
       "      <td>0</td>\n",
       "      <td>1963</td>\n",
       "      <td>B02</td>\n",
       "      <td>1</td>\n",
       "    </tr>\n",
       "    <tr>\n",
       "      <th>4</th>\n",
       "      <td>201100000003</td>\n",
       "      <td>1</td>\n",
       "      <td>1</td>\n",
       "      <td>1</td>\n",
       "      <td>1</td>\n",
       "      <td>1</td>\n",
       "      <td>11</td>\n",
       "      <td>0</td>\n",
       "      <td>0</td>\n",
       "      <td>0</td>\n",
       "      <td>1989</td>\n",
       "      <td>A01</td>\n",
       "      <td>1</td>\n",
       "    </tr>\n",
       "    <tr>\n",
       "      <th>5</th>\n",
       "      <td>201100000003</td>\n",
       "      <td>None</td>\n",
       "      <td>3</td>\n",
       "      <td>3</td>\n",
       "      <td>2</td>\n",
       "      <td>2</td>\n",
       "      <td>None</td>\n",
       "      <td>4</td>\n",
       "      <td>3</td>\n",
       "      <td>1</td>\n",
       "      <td>1993</td>\n",
       "      <td>A01</td>\n",
       "      <td>1</td>\n",
       "    </tr>\n",
       "    <tr>\n",
       "      <th>6</th>\n",
       "      <td>201100000004</td>\n",
       "      <td>1</td>\n",
       "      <td>1</td>\n",
       "      <td>4</td>\n",
       "      <td>1</td>\n",
       "      <td>5</td>\n",
       "      <td>21</td>\n",
       "      <td>0</td>\n",
       "      <td>0</td>\n",
       "      <td>0</td>\n",
       "      <td>1971</td>\n",
       "      <td>A01</td>\n",
       "      <td>1</td>\n",
       "    </tr>\n",
       "    <tr>\n",
       "      <th>7</th>\n",
       "      <td>201100000004</td>\n",
       "      <td>1</td>\n",
       "      <td>1</td>\n",
       "      <td>3</td>\n",
       "      <td>1</td>\n",
       "      <td>5</td>\n",
       "      <td>22</td>\n",
       "      <td>0</td>\n",
       "      <td>0</td>\n",
       "      <td>0</td>\n",
       "      <td>1980</td>\n",
       "      <td>B02</td>\n",
       "      <td>1</td>\n",
       "    </tr>\n",
       "    <tr>\n",
       "      <th>8</th>\n",
       "      <td>201100000004</td>\n",
       "      <td>1</td>\n",
       "      <td>1</td>\n",
       "      <td>1</td>\n",
       "      <td>1</td>\n",
       "      <td>5</td>\n",
       "      <td>11</td>\n",
       "      <td>0</td>\n",
       "      <td>0</td>\n",
       "      <td>0</td>\n",
       "      <td>1980</td>\n",
       "      <td>C03</td>\n",
       "      <td>1</td>\n",
       "    </tr>\n",
       "    <tr>\n",
       "      <th>9</th>\n",
       "      <td>201100000005</td>\n",
       "      <td>1</td>\n",
       "      <td>1</td>\n",
       "      <td>1</td>\n",
       "      <td>2</td>\n",
       "      <td>5</td>\n",
       "      <td>13</td>\n",
       "      <td>0</td>\n",
       "      <td>0</td>\n",
       "      <td>0</td>\n",
       "      <td>1980</td>\n",
       "      <td>A01</td>\n",
       "      <td>2</td>\n",
       "    </tr>\n",
       "    <tr>\n",
       "      <th>10</th>\n",
       "      <td>201100000005</td>\n",
       "      <td>None</td>\n",
       "      <td>3</td>\n",
       "      <td>3</td>\n",
       "      <td>1</td>\n",
       "      <td>9</td>\n",
       "      <td>None</td>\n",
       "      <td>1</td>\n",
       "      <td>0</td>\n",
       "      <td>1</td>\n",
       "      <td>1962</td>\n",
       "      <td>A01</td>\n",
       "      <td>2</td>\n",
       "    </tr>\n",
       "    <tr>\n",
       "      <th>11</th>\n",
       "      <td>201100000006</td>\n",
       "      <td>1</td>\n",
       "      <td>1</td>\n",
       "      <td>3</td>\n",
       "      <td>1</td>\n",
       "      <td>1</td>\n",
       "      <td>21</td>\n",
       "      <td>0</td>\n",
       "      <td>0</td>\n",
       "      <td>0</td>\n",
       "      <td>1988</td>\n",
       "      <td>A01</td>\n",
       "      <td>1</td>\n",
       "    </tr>\n",
       "    <tr>\n",
       "      <th>12</th>\n",
       "      <td>201100000006</td>\n",
       "      <td>1</td>\n",
       "      <td>1</td>\n",
       "      <td>1</td>\n",
       "      <td>1</td>\n",
       "      <td>5</td>\n",
       "      <td>11</td>\n",
       "      <td>0</td>\n",
       "      <td>0</td>\n",
       "      <td>0</td>\n",
       "      <td>1952</td>\n",
       "      <td>B02</td>\n",
       "      <td>1</td>\n",
       "    </tr>\n",
       "    <tr>\n",
       "      <th>13</th>\n",
       "      <td>201100000007</td>\n",
       "      <td>1</td>\n",
       "      <td>1</td>\n",
       "      <td>1</td>\n",
       "      <td>2</td>\n",
       "      <td>2</td>\n",
       "      <td>11</td>\n",
       "      <td>0</td>\n",
       "      <td>0</td>\n",
       "      <td>0</td>\n",
       "      <td>1992</td>\n",
       "      <td>A01</td>\n",
       "      <td>2</td>\n",
       "    </tr>\n",
       "    <tr>\n",
       "      <th>14</th>\n",
       "      <td>201100000007</td>\n",
       "      <td>1</td>\n",
       "      <td>1</td>\n",
       "      <td>3</td>\n",
       "      <td>1</td>\n",
       "      <td>1</td>\n",
       "      <td>21</td>\n",
       "      <td>0</td>\n",
       "      <td>0</td>\n",
       "      <td>0</td>\n",
       "      <td>1965</td>\n",
       "      <td>B02</td>\n",
       "      <td>1</td>\n",
       "    </tr>\n",
       "  </tbody>\n",
       "</table>\n",
       "</div>"
      ],
      "text/plain": [
       "         Num_Acc place catu grav sexe trajet  secu locp actp etatp an_nais  \\\n",
       "0   201100000001     1    1    3    1      5    21    0    0     0    1995   \n",
       "1   201100000001     1    1    1    1      5    11    0    0     0    1949   \n",
       "2   201100000002     1    1    1    1      0    11    0    0     0    1967   \n",
       "3   201100000002     1    1    3    1      0    21    0    0     0    1963   \n",
       "4   201100000003     1    1    1    1      1    11    0    0     0    1989   \n",
       "5   201100000003  None    3    3    2      2  None    4    3     1    1993   \n",
       "6   201100000004     1    1    4    1      5    21    0    0     0    1971   \n",
       "7   201100000004     1    1    3    1      5    22    0    0     0    1980   \n",
       "8   201100000004     1    1    1    1      5    11    0    0     0    1980   \n",
       "9   201100000005     1    1    1    2      5    13    0    0     0    1980   \n",
       "10  201100000005  None    3    3    1      9  None    1    0     1    1962   \n",
       "11  201100000006     1    1    3    1      1    21    0    0     0    1988   \n",
       "12  201100000006     1    1    1    1      5    11    0    0     0    1952   \n",
       "13  201100000007     1    1    1    2      2    11    0    0     0    1992   \n",
       "14  201100000007     1    1    3    1      1    21    0    0     0    1965   \n",
       "\n",
       "   num_veh sexe_conduct  \n",
       "0      A01            1  \n",
       "1      B02            1  \n",
       "2      A01            1  \n",
       "3      B02            1  \n",
       "4      A01            1  \n",
       "5      A01            1  \n",
       "6      A01            1  \n",
       "7      B02            1  \n",
       "8      C03            1  \n",
       "9      A01            2  \n",
       "10     A01            2  \n",
       "11     A01            1  \n",
       "12     B02            1  \n",
       "13     A01            2  \n",
       "14     B02            1  "
      ]
     },
     "execution_count": 20,
     "metadata": {},
     "output_type": "execute_result"
    }
   ],
   "source": [
    "pd_usagers.head(15)"
   ]
  },
  {
   "cell_type": "markdown",
   "metadata": {},
   "source": [
    "## Calcul de la proportion de véhicules dont au moins un des occupants a été tué, selon si le conducteur était un homme ou une femme"
   ]
  },
  {
   "cell_type": "markdown",
   "metadata": {},
   "source": [
    "#### On sélectionne uniquement les usagers occupants de véhicules. Autrement dit, on retire les piétons du dataframe."
   ]
  },
  {
   "cell_type": "markdown",
   "metadata": {},
   "source": [
    "Cela revient à sélectionner les usagers dont la valeur pour la colonne \"catu\" est \"1\" ou \"2\", correspondant respectivement à \"conducteur\" et \"passager\" comme décrit plus tôt."
   ]
  },
  {
   "cell_type": "code",
   "execution_count": 21,
   "metadata": {},
   "outputs": [],
   "source": [
    "tableau_occupants=pd_usagers[(pd_usagers['catu']=='1') | (pd_usagers['catu']=='2')]"
   ]
  },
  {
   "cell_type": "code",
   "execution_count": 22,
   "metadata": {},
   "outputs": [
    {
     "data": {
      "text/html": [
       "<div>\n",
       "<style scoped>\n",
       "    .dataframe tbody tr th:only-of-type {\n",
       "        vertical-align: middle;\n",
       "    }\n",
       "\n",
       "    .dataframe tbody tr th {\n",
       "        vertical-align: top;\n",
       "    }\n",
       "\n",
       "    .dataframe thead th {\n",
       "        text-align: right;\n",
       "    }\n",
       "</style>\n",
       "<table border=\"1\" class=\"dataframe\">\n",
       "  <thead>\n",
       "    <tr style=\"text-align: right;\">\n",
       "      <th></th>\n",
       "      <th>Num_Acc</th>\n",
       "      <th>place</th>\n",
       "      <th>catu</th>\n",
       "      <th>grav</th>\n",
       "      <th>sexe</th>\n",
       "      <th>trajet</th>\n",
       "      <th>secu</th>\n",
       "      <th>locp</th>\n",
       "      <th>actp</th>\n",
       "      <th>etatp</th>\n",
       "      <th>an_nais</th>\n",
       "      <th>num_veh</th>\n",
       "      <th>sexe_conduct</th>\n",
       "    </tr>\n",
       "  </thead>\n",
       "  <tbody>\n",
       "    <tr>\n",
       "      <th>17</th>\n",
       "      <td>201100000009</td>\n",
       "      <td>1</td>\n",
       "      <td>1</td>\n",
       "      <td>3</td>\n",
       "      <td>1</td>\n",
       "      <td>5</td>\n",
       "      <td>11</td>\n",
       "      <td>0</td>\n",
       "      <td>0</td>\n",
       "      <td>0</td>\n",
       "      <td>1963</td>\n",
       "      <td>A01</td>\n",
       "      <td>1</td>\n",
       "    </tr>\n",
       "    <tr>\n",
       "      <th>18</th>\n",
       "      <td>201100000010</td>\n",
       "      <td>1</td>\n",
       "      <td>1</td>\n",
       "      <td>1</td>\n",
       "      <td>1</td>\n",
       "      <td>1</td>\n",
       "      <td>13</td>\n",
       "      <td>0</td>\n",
       "      <td>0</td>\n",
       "      <td>0</td>\n",
       "      <td>1954</td>\n",
       "      <td>A01</td>\n",
       "      <td>1</td>\n",
       "    </tr>\n",
       "    <tr>\n",
       "      <th>20</th>\n",
       "      <td>201100000011</td>\n",
       "      <td>1</td>\n",
       "      <td>1</td>\n",
       "      <td>3</td>\n",
       "      <td>1</td>\n",
       "      <td>5</td>\n",
       "      <td>21</td>\n",
       "      <td>0</td>\n",
       "      <td>0</td>\n",
       "      <td>0</td>\n",
       "      <td>1961</td>\n",
       "      <td>A01</td>\n",
       "      <td>1</td>\n",
       "    </tr>\n",
       "    <tr>\n",
       "      <th>21</th>\n",
       "      <td>201100000012</td>\n",
       "      <td>1</td>\n",
       "      <td>1</td>\n",
       "      <td>3</td>\n",
       "      <td>1</td>\n",
       "      <td>5</td>\n",
       "      <td>11</td>\n",
       "      <td>0</td>\n",
       "      <td>0</td>\n",
       "      <td>0</td>\n",
       "      <td>1946</td>\n",
       "      <td>A01</td>\n",
       "      <td>1</td>\n",
       "    </tr>\n",
       "    <tr>\n",
       "      <th>22</th>\n",
       "      <td>201100000012</td>\n",
       "      <td>1</td>\n",
       "      <td>1</td>\n",
       "      <td>1</td>\n",
       "      <td>1</td>\n",
       "      <td>5</td>\n",
       "      <td>11</td>\n",
       "      <td>0</td>\n",
       "      <td>0</td>\n",
       "      <td>0</td>\n",
       "      <td>1936</td>\n",
       "      <td>B02</td>\n",
       "      <td>1</td>\n",
       "    </tr>\n",
       "    <tr>\n",
       "      <th>23</th>\n",
       "      <td>201100000013</td>\n",
       "      <td>1</td>\n",
       "      <td>1</td>\n",
       "      <td>1</td>\n",
       "      <td>1</td>\n",
       "      <td>0</td>\n",
       "      <td>11</td>\n",
       "      <td>0</td>\n",
       "      <td>0</td>\n",
       "      <td>0</td>\n",
       "      <td>1993</td>\n",
       "      <td>A01</td>\n",
       "      <td>1</td>\n",
       "    </tr>\n",
       "    <tr>\n",
       "      <th>24</th>\n",
       "      <td>201100000013</td>\n",
       "      <td>2</td>\n",
       "      <td>2</td>\n",
       "      <td>1</td>\n",
       "      <td>1</td>\n",
       "      <td>0</td>\n",
       "      <td>11</td>\n",
       "      <td>0</td>\n",
       "      <td>0</td>\n",
       "      <td>0</td>\n",
       "      <td>1992</td>\n",
       "      <td>A01</td>\n",
       "      <td>1</td>\n",
       "    </tr>\n",
       "    <tr>\n",
       "      <th>25</th>\n",
       "      <td>201100000013</td>\n",
       "      <td>2</td>\n",
       "      <td>2</td>\n",
       "      <td>1</td>\n",
       "      <td>1</td>\n",
       "      <td>0</td>\n",
       "      <td>11</td>\n",
       "      <td>0</td>\n",
       "      <td>0</td>\n",
       "      <td>0</td>\n",
       "      <td>1994</td>\n",
       "      <td>A01</td>\n",
       "      <td>1</td>\n",
       "    </tr>\n",
       "    <tr>\n",
       "      <th>26</th>\n",
       "      <td>201100000013</td>\n",
       "      <td>4</td>\n",
       "      <td>2</td>\n",
       "      <td>3</td>\n",
       "      <td>1</td>\n",
       "      <td>0</td>\n",
       "      <td>11</td>\n",
       "      <td>0</td>\n",
       "      <td>0</td>\n",
       "      <td>0</td>\n",
       "      <td>1991</td>\n",
       "      <td>A01</td>\n",
       "      <td>1</td>\n",
       "    </tr>\n",
       "    <tr>\n",
       "      <th>27</th>\n",
       "      <td>201100000014</td>\n",
       "      <td>1</td>\n",
       "      <td>1</td>\n",
       "      <td>3</td>\n",
       "      <td>1</td>\n",
       "      <td>5</td>\n",
       "      <td>21</td>\n",
       "      <td>0</td>\n",
       "      <td>0</td>\n",
       "      <td>0</td>\n",
       "      <td>1987</td>\n",
       "      <td>A01</td>\n",
       "      <td>1</td>\n",
       "    </tr>\n",
       "  </tbody>\n",
       "</table>\n",
       "</div>"
      ],
      "text/plain": [
       "         Num_Acc place catu grav sexe trajet secu locp actp etatp an_nais  \\\n",
       "17  201100000009     1    1    3    1      5   11    0    0     0    1963   \n",
       "18  201100000010     1    1    1    1      1   13    0    0     0    1954   \n",
       "20  201100000011     1    1    3    1      5   21    0    0     0    1961   \n",
       "21  201100000012     1    1    3    1      5   11    0    0     0    1946   \n",
       "22  201100000012     1    1    1    1      5   11    0    0     0    1936   \n",
       "23  201100000013     1    1    1    1      0   11    0    0     0    1993   \n",
       "24  201100000013     2    2    1    1      0   11    0    0     0    1992   \n",
       "25  201100000013     2    2    1    1      0   11    0    0     0    1994   \n",
       "26  201100000013     4    2    3    1      0   11    0    0     0    1991   \n",
       "27  201100000014     1    1    3    1      5   21    0    0     0    1987   \n",
       "\n",
       "   num_veh sexe_conduct  \n",
       "17     A01            1  \n",
       "18     A01            1  \n",
       "20     A01            1  \n",
       "21     A01            1  \n",
       "22     B02            1  \n",
       "23     A01            1  \n",
       "24     A01            1  \n",
       "25     A01            1  \n",
       "26     A01            1  \n",
       "27     A01            1  "
      ]
     },
     "execution_count": 22,
     "metadata": {},
     "output_type": "execute_result"
    }
   ],
   "source": [
    "tableau_occupants[15:25] # Chaque ligne correspond à un occupant de véhicule"
   ]
  },
  {
   "cell_type": "markdown",
   "metadata": {},
   "source": [
    "Dans ce tableau, on trouve bien une ligne par occupant. En effet, on constate que le filtre sur \"catu\" = \"1\" ou \"2\" a bien fonctionné, puisqu'on trouve immédiatement des lignes où les occupants sont des conducteurs, et on repère un premier passager à la ligne 21.\n",
    "On affiche le tableau seulement sur une portion contenant à la fois des conducteurs et des passagers pour illustrer."
   ]
  },
  {
   "cell_type": "markdown",
   "metadata": {},
   "source": [
    "### Tableau des véhicules triés selon le sexe du conducteur et la gravité de l'état des occupants"
   ]
  },
  {
   "cell_type": "markdown",
   "metadata": {},
   "source": [
    "- grav = 1 : indemne\n",
    "- grav = 2 : tué\n",
    "- grav = 3 : blessé hospitalisé \n",
    "- grav = 4 : blessé léger"
   ]
  },
  {
   "cell_type": "markdown",
   "metadata": {},
   "source": [
    "On récupère, pour chaque véhicule, la liste de l'état de gravité de ses occupants"
   ]
  },
  {
   "cell_type": "code",
   "execution_count": 23,
   "metadata": {},
   "outputs": [],
   "source": [
    "tableau_listes=tableau_occupants.groupby(['sexe_conduct','Num_Acc','num_veh'])[\"grav\"].agg(list)"
   ]
  },
  {
   "cell_type": "code",
   "execution_count": 24,
   "metadata": {},
   "outputs": [
    {
     "data": {
      "text/html": [
       "<div>\n",
       "<style scoped>\n",
       "    .dataframe tbody tr th:only-of-type {\n",
       "        vertical-align: middle;\n",
       "    }\n",
       "\n",
       "    .dataframe tbody tr th {\n",
       "        vertical-align: top;\n",
       "    }\n",
       "\n",
       "    .dataframe thead th {\n",
       "        text-align: right;\n",
       "    }\n",
       "</style>\n",
       "<table border=\"1\" class=\"dataframe\">\n",
       "  <thead>\n",
       "    <tr style=\"text-align: right;\">\n",
       "      <th></th>\n",
       "      <th></th>\n",
       "      <th></th>\n",
       "      <th>grav</th>\n",
       "    </tr>\n",
       "    <tr>\n",
       "      <th>sexe_conduct</th>\n",
       "      <th>Num_Acc</th>\n",
       "      <th>num_veh</th>\n",
       "      <th></th>\n",
       "    </tr>\n",
       "  </thead>\n",
       "  <tbody>\n",
       "    <tr>\n",
       "      <th rowspan=\"10\" valign=\"top\">1</th>\n",
       "      <th>201100000011</th>\n",
       "      <th>A01</th>\n",
       "      <td>[3]</td>\n",
       "    </tr>\n",
       "    <tr>\n",
       "      <th rowspan=\"2\" valign=\"top\">201100000012</th>\n",
       "      <th>A01</th>\n",
       "      <td>[3]</td>\n",
       "    </tr>\n",
       "    <tr>\n",
       "      <th>B02</th>\n",
       "      <td>[1]</td>\n",
       "    </tr>\n",
       "    <tr>\n",
       "      <th>201100000013</th>\n",
       "      <th>A01</th>\n",
       "      <td>[1, 1, 1, 3]</td>\n",
       "    </tr>\n",
       "    <tr>\n",
       "      <th rowspan=\"2\" valign=\"top\">201100000014</th>\n",
       "      <th>A01</th>\n",
       "      <td>[3, 1]</td>\n",
       "    </tr>\n",
       "    <tr>\n",
       "      <th>B02</th>\n",
       "      <td>[3, 3]</td>\n",
       "    </tr>\n",
       "    <tr>\n",
       "      <th>201100000015</th>\n",
       "      <th>A01</th>\n",
       "      <td>[1]</td>\n",
       "    </tr>\n",
       "    <tr>\n",
       "      <th>201100000016</th>\n",
       "      <th>B02</th>\n",
       "      <td>[3]</td>\n",
       "    </tr>\n",
       "    <tr>\n",
       "      <th>201100000017</th>\n",
       "      <th>B02</th>\n",
       "      <td>[3]</td>\n",
       "    </tr>\n",
       "    <tr>\n",
       "      <th>201100000018</th>\n",
       "      <th>A01</th>\n",
       "      <td>[2]</td>\n",
       "    </tr>\n",
       "  </tbody>\n",
       "</table>\n",
       "</div>"
      ],
      "text/plain": [
       "                                           grav\n",
       "sexe_conduct Num_Acc      num_veh              \n",
       "1            201100000011 A01               [3]\n",
       "             201100000012 A01               [3]\n",
       "                          B02               [1]\n",
       "             201100000013 A01      [1, 1, 1, 3]\n",
       "             201100000014 A01            [3, 1]\n",
       "                          B02            [3, 3]\n",
       "             201100000015 A01               [1]\n",
       "             201100000016 B02               [3]\n",
       "             201100000017 B02               [3]\n",
       "             201100000018 A01               [2]"
      ]
     },
     "execution_count": 24,
     "metadata": {},
     "output_type": "execute_result"
    }
   ],
   "source": [
    "pd.DataFrame(tableau_listes[15:25])"
   ]
  },
  {
   "cell_type": "markdown",
   "metadata": {},
   "source": [
    "#### Nombre de véhicules renseignés"
   ]
  },
  {
   "cell_type": "code",
   "execution_count": 25,
   "metadata": {},
   "outputs": [
    {
     "name": "stdout",
     "output_type": "stream",
     "text": [
      "803494\n"
     ]
    }
   ],
   "source": [
    "total_vehicules_renseignes=tableau_listes[:].count() \n",
    "print(total_vehicules_renseignes)"
   ]
  },
  {
   "cell_type": "markdown",
   "metadata": {},
   "source": [
    "#### Nombre de véhicules ayant au moins un occupant tué"
   ]
  },
  {
   "cell_type": "code",
   "execution_count": 26,
   "metadata": {},
   "outputs": [
    {
     "name": "stdout",
     "output_type": "stream",
     "text": [
      "23254 véhicules ont des occupants qui ont été tués\n"
     ]
    }
   ],
   "source": [
    "vehicules_usagers_tues=0\n",
    "for gravites in tableau_listes:\n",
    "    if '2' in gravites:\n",
    "        vehicules_usagers_tues+=1\n",
    "\n",
    "print(vehicules_usagers_tues,\"véhicules ont des occupants qui ont été tués\")"
   ]
  },
  {
   "cell_type": "markdown",
   "metadata": {},
   "source": [
    "#### Véhicules conduits par des hommes"
   ]
  },
  {
   "cell_type": "code",
   "execution_count": 27,
   "metadata": {},
   "outputs": [
    {
     "data": {
      "text/html": [
       "<div>\n",
       "<style scoped>\n",
       "    .dataframe tbody tr th:only-of-type {\n",
       "        vertical-align: middle;\n",
       "    }\n",
       "\n",
       "    .dataframe tbody tr th {\n",
       "        vertical-align: top;\n",
       "    }\n",
       "\n",
       "    .dataframe thead th {\n",
       "        text-align: right;\n",
       "    }\n",
       "</style>\n",
       "<table border=\"1\" class=\"dataframe\">\n",
       "  <thead>\n",
       "    <tr style=\"text-align: right;\">\n",
       "      <th></th>\n",
       "      <th></th>\n",
       "      <th>grav</th>\n",
       "    </tr>\n",
       "    <tr>\n",
       "      <th>Num_Acc</th>\n",
       "      <th>num_veh</th>\n",
       "      <th></th>\n",
       "    </tr>\n",
       "  </thead>\n",
       "  <tbody>\n",
       "    <tr>\n",
       "      <th rowspan=\"2\" valign=\"top\">201100000001</th>\n",
       "      <th>A01</th>\n",
       "      <td>[3]</td>\n",
       "    </tr>\n",
       "    <tr>\n",
       "      <th>B02</th>\n",
       "      <td>[1]</td>\n",
       "    </tr>\n",
       "    <tr>\n",
       "      <th rowspan=\"2\" valign=\"top\">201100000002</th>\n",
       "      <th>A01</th>\n",
       "      <td>[1]</td>\n",
       "    </tr>\n",
       "    <tr>\n",
       "      <th>B02</th>\n",
       "      <td>[3]</td>\n",
       "    </tr>\n",
       "    <tr>\n",
       "      <th>201100000003</th>\n",
       "      <th>A01</th>\n",
       "      <td>[1]</td>\n",
       "    </tr>\n",
       "    <tr>\n",
       "      <th>...</th>\n",
       "      <th>...</th>\n",
       "      <td>...</td>\n",
       "    </tr>\n",
       "    <tr>\n",
       "      <th>201800057779</th>\n",
       "      <th>A01</th>\n",
       "      <td>[1]</td>\n",
       "    </tr>\n",
       "    <tr>\n",
       "      <th>201800057780</th>\n",
       "      <th>A01</th>\n",
       "      <td>[4]</td>\n",
       "    </tr>\n",
       "    <tr>\n",
       "      <th>201800057781</th>\n",
       "      <th>A01</th>\n",
       "      <td>[1]</td>\n",
       "    </tr>\n",
       "    <tr>\n",
       "      <th>201800057782</th>\n",
       "      <th>B01</th>\n",
       "      <td>[4]</td>\n",
       "    </tr>\n",
       "    <tr>\n",
       "      <th>201800057783</th>\n",
       "      <th>B01</th>\n",
       "      <td>[4]</td>\n",
       "    </tr>\n",
       "  </tbody>\n",
       "</table>\n",
       "<p>595564 rows × 1 columns</p>\n",
       "</div>"
      ],
      "text/plain": [
       "                     grav\n",
       "Num_Acc      num_veh     \n",
       "201100000001 A01      [3]\n",
       "             B02      [1]\n",
       "201100000002 A01      [1]\n",
       "             B02      [3]\n",
       "201100000003 A01      [1]\n",
       "...                   ...\n",
       "201800057779 A01      [1]\n",
       "201800057780 A01      [4]\n",
       "201800057781 A01      [1]\n",
       "201800057782 B01      [4]\n",
       "201800057783 B01      [4]\n",
       "\n",
       "[595564 rows x 1 columns]"
      ]
     },
     "execution_count": 27,
     "metadata": {},
     "output_type": "execute_result"
    }
   ],
   "source": [
    "pd.DataFrame(tableau_listes['1'])"
   ]
  },
  {
   "cell_type": "code",
   "execution_count": 28,
   "metadata": {},
   "outputs": [
    {
     "name": "stdout",
     "output_type": "stream",
     "text": [
      "595564 véhicules sont conduits par des hommes\n"
     ]
    }
   ],
   "source": [
    "n_veh_conduct_h=tableau_listes['1'].count()\n",
    "print(n_veh_conduct_h, \"véhicules sont conduits par des hommes\")"
   ]
  },
  {
   "cell_type": "markdown",
   "metadata": {},
   "source": [
    "Compte du nombre d'occupants tués lorsque le conducteur est un homme, et calcul de la proportion associée"
   ]
  },
  {
   "cell_type": "code",
   "execution_count": 29,
   "metadata": {},
   "outputs": [],
   "source": [
    "liste_n_tues_conduct_h=[]\n",
    "\n",
    "# On compte dans chaque liste de gravités le nombre de fois que '2' apparait\n",
    "for gravites in tableau_listes['1']:\n",
    "    compte=list(gravites).count('2')\n",
    "    liste_n_tues_conduct_h.append(compte)"
   ]
  },
  {
   "cell_type": "markdown",
   "metadata": {},
   "source": [
    "La proportion d'occupants tués lorsque le conducteur était un homme est donnée par la somme du nombre de personnes tuées lorsque le conducteur est un homme, multiplié par 100 et divisé par le nombre de véhicules conduits par un homme."
   ]
  },
  {
   "cell_type": "code",
   "execution_count": 61,
   "metadata": {},
   "outputs": [
    {
     "name": "stdout",
     "output_type": "stream",
     "text": [
      "3.515 % des occupants ont été tués lorsque le conducteur était un homme\n"
     ]
    }
   ],
   "source": [
    "prop_tues_conduct_h=sum(liste_n_tues_conduct_h)*100/n_veh_conduct_h\n",
    "print(\"%.3f\"%prop_tues_conduct_h,\"% des occupants ont été tués lorsque le conducteur était un homme\")"
   ]
  },
  {
   "cell_type": "code",
   "execution_count": 31,
   "metadata": {},
   "outputs": [
    {
     "name": "stdout",
     "output_type": "stream",
     "text": [
      "Parmi les 595564 véhicules conduits par des hommes, 3.515 % sont liés au décès d'au moins un de leurs occupants, soit 18434 véhicules\n"
     ]
    }
   ],
   "source": [
    "print(\"Parmi les\", n_veh_conduct_h, \"véhicules conduits par des hommes, %.3f\" %prop_tues_conduct_h ,\"% sont liés au décès d'au moins un de leurs occupants, soit\", liste_n_tues_conduct_h.count(1), \"véhicules\")"
   ]
  },
  {
   "cell_type": "markdown",
   "metadata": {},
   "source": [
    "#### Véhicules conduits par des femmes"
   ]
  },
  {
   "cell_type": "markdown",
   "metadata": {},
   "source": [
    "On procède de la même façon que pour les véhicules conduits par des hommes."
   ]
  },
  {
   "cell_type": "code",
   "execution_count": 32,
   "metadata": {},
   "outputs": [
    {
     "data": {
      "text/html": [
       "<div>\n",
       "<style scoped>\n",
       "    .dataframe tbody tr th:only-of-type {\n",
       "        vertical-align: middle;\n",
       "    }\n",
       "\n",
       "    .dataframe tbody tr th {\n",
       "        vertical-align: top;\n",
       "    }\n",
       "\n",
       "    .dataframe thead th {\n",
       "        text-align: right;\n",
       "    }\n",
       "</style>\n",
       "<table border=\"1\" class=\"dataframe\">\n",
       "  <thead>\n",
       "    <tr style=\"text-align: right;\">\n",
       "      <th></th>\n",
       "      <th></th>\n",
       "      <th>grav</th>\n",
       "    </tr>\n",
       "    <tr>\n",
       "      <th>Num_Acc</th>\n",
       "      <th>num_veh</th>\n",
       "      <th></th>\n",
       "    </tr>\n",
       "  </thead>\n",
       "  <tbody>\n",
       "    <tr>\n",
       "      <th>201100000005</th>\n",
       "      <th>A01</th>\n",
       "      <td>[1]</td>\n",
       "    </tr>\n",
       "    <tr>\n",
       "      <th>201100000007</th>\n",
       "      <th>A01</th>\n",
       "      <td>[1]</td>\n",
       "    </tr>\n",
       "    <tr>\n",
       "      <th>201100000016</th>\n",
       "      <th>A01</th>\n",
       "      <td>[1]</td>\n",
       "    </tr>\n",
       "    <tr>\n",
       "      <th>201100000017</th>\n",
       "      <th>A01</th>\n",
       "      <td>[1]</td>\n",
       "    </tr>\n",
       "    <tr>\n",
       "      <th>201100000020</th>\n",
       "      <th>A01</th>\n",
       "      <td>[1]</td>\n",
       "    </tr>\n",
       "    <tr>\n",
       "      <th>...</th>\n",
       "      <th>...</th>\n",
       "      <td>...</td>\n",
       "    </tr>\n",
       "    <tr>\n",
       "      <th>201800057769</th>\n",
       "      <th>A01</th>\n",
       "      <td>[3]</td>\n",
       "    </tr>\n",
       "    <tr>\n",
       "      <th>201800057776</th>\n",
       "      <th>B01</th>\n",
       "      <td>[4]</td>\n",
       "    </tr>\n",
       "    <tr>\n",
       "      <th>201800057778</th>\n",
       "      <th>B01</th>\n",
       "      <td>[1]</td>\n",
       "    </tr>\n",
       "    <tr>\n",
       "      <th>201800057782</th>\n",
       "      <th>A01</th>\n",
       "      <td>[4]</td>\n",
       "    </tr>\n",
       "    <tr>\n",
       "      <th>201800057783</th>\n",
       "      <th>A01</th>\n",
       "      <td>[4]</td>\n",
       "    </tr>\n",
       "  </tbody>\n",
       "</table>\n",
       "<p>207930 rows × 1 columns</p>\n",
       "</div>"
      ],
      "text/plain": [
       "                     grav\n",
       "Num_Acc      num_veh     \n",
       "201100000005 A01      [1]\n",
       "201100000007 A01      [1]\n",
       "201100000016 A01      [1]\n",
       "201100000017 A01      [1]\n",
       "201100000020 A01      [1]\n",
       "...                   ...\n",
       "201800057769 A01      [3]\n",
       "201800057776 B01      [4]\n",
       "201800057778 B01      [1]\n",
       "201800057782 A01      [4]\n",
       "201800057783 A01      [4]\n",
       "\n",
       "[207930 rows x 1 columns]"
      ]
     },
     "execution_count": 32,
     "metadata": {},
     "output_type": "execute_result"
    }
   ],
   "source": [
    "pd.DataFrame(tableau_listes['2'])"
   ]
  },
  {
   "cell_type": "code",
   "execution_count": 33,
   "metadata": {},
   "outputs": [
    {
     "name": "stdout",
     "output_type": "stream",
     "text": [
      "207930 véhicules sont conduits par des femmes\n"
     ]
    }
   ],
   "source": [
    "n_veh_conduct_f=tableau_listes['2'].count()\n",
    "print(n_veh_conduct_f, \"véhicules sont conduits par des femmes\")"
   ]
  },
  {
   "cell_type": "markdown",
   "metadata": {},
   "source": [
    "Compte du nombre d'occupants tués lorsque le conducteur est une femme, et calcul de la proportion associée"
   ]
  },
  {
   "cell_type": "code",
   "execution_count": 34,
   "metadata": {},
   "outputs": [],
   "source": [
    "liste_n_tues_conduct_f=[]\n",
    "\n",
    "# On compte dans chaque liste de gravités le nombre de fois que '2' apparait\n",
    "for gravites in tableau_listes['2']:\n",
    "    compte=list(gravites).count('2')\n",
    "    liste_n_tues_conduct_f.append(compte)"
   ]
  },
  {
   "cell_type": "code",
   "execution_count": 62,
   "metadata": {},
   "outputs": [
    {
     "name": "stdout",
     "output_type": "stream",
     "text": [
      "1.923 % des occupants ont été tués lorsque le conducteur était une femme\n"
     ]
    }
   ],
   "source": [
    "prop_tues_conduct_f=sum(liste_n_tues_conduct_f)*100/n_veh_conduct_f\n",
    "print(\"%.3f\"%prop_tues_conduct_f,\"% des occupants ont été tués lorsque le conducteur était une femme\")"
   ]
  },
  {
   "cell_type": "code",
   "execution_count": 36,
   "metadata": {},
   "outputs": [
    {
     "name": "stdout",
     "output_type": "stream",
     "text": [
      "Parmi les 207930 véhicules conduits par des femmes, 1.923 % sont liés au décès d'au moins un de leurs occupants, soit 3453 véhicules\n"
     ]
    }
   ],
   "source": [
    "print(\"Parmi les\", n_veh_conduct_f, \"véhicules conduits par des femmes, %.3f\" %prop_tues_conduct_f ,\"% sont liés au décès d'au moins un de leurs occupants, soit\",liste_n_tues_conduct_f.count(1), \"véhicules\")"
   ]
  },
  {
   "cell_type": "markdown",
   "metadata": {},
   "source": [
    "## Première représentation - avec plotly.graph_objects"
   ]
  },
  {
   "cell_type": "markdown",
   "metadata": {},
   "source": [
    "Le package plotly permet de réaliser des graphiques plus dynamiques, par exemple une représentation interactive ou un plus grand choix de personnalisation\n",
    "- bibliothèque d'exemples : https://plotly.com/python/ \n",
    "\n",
    "On peut utiliser plotly.express, qui permet de réaliser rapidement des graphes, mais offre moins de possibilités de personnalisation que plotly.graph_objects"
   ]
  },
  {
   "cell_type": "code",
   "execution_count": 37,
   "metadata": {},
   "outputs": [],
   "source": [
    "import plotly.graph_objects as go\n",
    "import numpy as np"
   ]
  },
  {
   "cell_type": "code",
   "execution_count": 38,
   "metadata": {},
   "outputs": [
    {
     "data": {
      "application/vnd.plotly.v1+json": {
       "config": {
        "plotlyServerURL": "https://plot.ly"
       },
       "data": [
        {
         "marker": {
          "color": [
           "rgb(160,97,119)",
           "rgb(128,177,211)"
          ],
          "line": {
           "color": "white",
           "width": 2
          }
         },
         "opacity": 0.7,
         "type": "bar",
         "x": [
          "Femme",
          "Homme"
         ],
         "y": [
          1.9227624681383158,
          3.5146516579242535
         ]
        }
       ],
       "layout": {
        "bargap": 0.55,
        "height": 600,
        "margin": {
         "b": 10,
         "l": 50,
         "r": 20,
         "t": 60
        },
        "paper_bgcolor": "#f2f5f9",
        "template": {
         "data": {
          "bar": [
           {
            "error_x": {
             "color": "#2a3f5f"
            },
            "error_y": {
             "color": "#2a3f5f"
            },
            "marker": {
             "line": {
              "color": "#E5ECF6",
              "width": 0.5
             },
             "pattern": {
              "fillmode": "overlay",
              "size": 10,
              "solidity": 0.2
             }
            },
            "type": "bar"
           }
          ],
          "barpolar": [
           {
            "marker": {
             "line": {
              "color": "#E5ECF6",
              "width": 0.5
             },
             "pattern": {
              "fillmode": "overlay",
              "size": 10,
              "solidity": 0.2
             }
            },
            "type": "barpolar"
           }
          ],
          "carpet": [
           {
            "aaxis": {
             "endlinecolor": "#2a3f5f",
             "gridcolor": "white",
             "linecolor": "white",
             "minorgridcolor": "white",
             "startlinecolor": "#2a3f5f"
            },
            "baxis": {
             "endlinecolor": "#2a3f5f",
             "gridcolor": "white",
             "linecolor": "white",
             "minorgridcolor": "white",
             "startlinecolor": "#2a3f5f"
            },
            "type": "carpet"
           }
          ],
          "choropleth": [
           {
            "colorbar": {
             "outlinewidth": 0,
             "ticks": ""
            },
            "type": "choropleth"
           }
          ],
          "contour": [
           {
            "colorbar": {
             "outlinewidth": 0,
             "ticks": ""
            },
            "colorscale": [
             [
              0,
              "#0d0887"
             ],
             [
              0.1111111111111111,
              "#46039f"
             ],
             [
              0.2222222222222222,
              "#7201a8"
             ],
             [
              0.3333333333333333,
              "#9c179e"
             ],
             [
              0.4444444444444444,
              "#bd3786"
             ],
             [
              0.5555555555555556,
              "#d8576b"
             ],
             [
              0.6666666666666666,
              "#ed7953"
             ],
             [
              0.7777777777777778,
              "#fb9f3a"
             ],
             [
              0.8888888888888888,
              "#fdca26"
             ],
             [
              1,
              "#f0f921"
             ]
            ],
            "type": "contour"
           }
          ],
          "contourcarpet": [
           {
            "colorbar": {
             "outlinewidth": 0,
             "ticks": ""
            },
            "type": "contourcarpet"
           }
          ],
          "heatmap": [
           {
            "colorbar": {
             "outlinewidth": 0,
             "ticks": ""
            },
            "colorscale": [
             [
              0,
              "#0d0887"
             ],
             [
              0.1111111111111111,
              "#46039f"
             ],
             [
              0.2222222222222222,
              "#7201a8"
             ],
             [
              0.3333333333333333,
              "#9c179e"
             ],
             [
              0.4444444444444444,
              "#bd3786"
             ],
             [
              0.5555555555555556,
              "#d8576b"
             ],
             [
              0.6666666666666666,
              "#ed7953"
             ],
             [
              0.7777777777777778,
              "#fb9f3a"
             ],
             [
              0.8888888888888888,
              "#fdca26"
             ],
             [
              1,
              "#f0f921"
             ]
            ],
            "type": "heatmap"
           }
          ],
          "heatmapgl": [
           {
            "colorbar": {
             "outlinewidth": 0,
             "ticks": ""
            },
            "colorscale": [
             [
              0,
              "#0d0887"
             ],
             [
              0.1111111111111111,
              "#46039f"
             ],
             [
              0.2222222222222222,
              "#7201a8"
             ],
             [
              0.3333333333333333,
              "#9c179e"
             ],
             [
              0.4444444444444444,
              "#bd3786"
             ],
             [
              0.5555555555555556,
              "#d8576b"
             ],
             [
              0.6666666666666666,
              "#ed7953"
             ],
             [
              0.7777777777777778,
              "#fb9f3a"
             ],
             [
              0.8888888888888888,
              "#fdca26"
             ],
             [
              1,
              "#f0f921"
             ]
            ],
            "type": "heatmapgl"
           }
          ],
          "histogram": [
           {
            "marker": {
             "pattern": {
              "fillmode": "overlay",
              "size": 10,
              "solidity": 0.2
             }
            },
            "type": "histogram"
           }
          ],
          "histogram2d": [
           {
            "colorbar": {
             "outlinewidth": 0,
             "ticks": ""
            },
            "colorscale": [
             [
              0,
              "#0d0887"
             ],
             [
              0.1111111111111111,
              "#46039f"
             ],
             [
              0.2222222222222222,
              "#7201a8"
             ],
             [
              0.3333333333333333,
              "#9c179e"
             ],
             [
              0.4444444444444444,
              "#bd3786"
             ],
             [
              0.5555555555555556,
              "#d8576b"
             ],
             [
              0.6666666666666666,
              "#ed7953"
             ],
             [
              0.7777777777777778,
              "#fb9f3a"
             ],
             [
              0.8888888888888888,
              "#fdca26"
             ],
             [
              1,
              "#f0f921"
             ]
            ],
            "type": "histogram2d"
           }
          ],
          "histogram2dcontour": [
           {
            "colorbar": {
             "outlinewidth": 0,
             "ticks": ""
            },
            "colorscale": [
             [
              0,
              "#0d0887"
             ],
             [
              0.1111111111111111,
              "#46039f"
             ],
             [
              0.2222222222222222,
              "#7201a8"
             ],
             [
              0.3333333333333333,
              "#9c179e"
             ],
             [
              0.4444444444444444,
              "#bd3786"
             ],
             [
              0.5555555555555556,
              "#d8576b"
             ],
             [
              0.6666666666666666,
              "#ed7953"
             ],
             [
              0.7777777777777778,
              "#fb9f3a"
             ],
             [
              0.8888888888888888,
              "#fdca26"
             ],
             [
              1,
              "#f0f921"
             ]
            ],
            "type": "histogram2dcontour"
           }
          ],
          "mesh3d": [
           {
            "colorbar": {
             "outlinewidth": 0,
             "ticks": ""
            },
            "type": "mesh3d"
           }
          ],
          "parcoords": [
           {
            "line": {
             "colorbar": {
              "outlinewidth": 0,
              "ticks": ""
             }
            },
            "type": "parcoords"
           }
          ],
          "pie": [
           {
            "automargin": true,
            "type": "pie"
           }
          ],
          "scatter": [
           {
            "fillpattern": {
             "fillmode": "overlay",
             "size": 10,
             "solidity": 0.2
            },
            "type": "scatter"
           }
          ],
          "scatter3d": [
           {
            "line": {
             "colorbar": {
              "outlinewidth": 0,
              "ticks": ""
             }
            },
            "marker": {
             "colorbar": {
              "outlinewidth": 0,
              "ticks": ""
             }
            },
            "type": "scatter3d"
           }
          ],
          "scattercarpet": [
           {
            "marker": {
             "colorbar": {
              "outlinewidth": 0,
              "ticks": ""
             }
            },
            "type": "scattercarpet"
           }
          ],
          "scattergeo": [
           {
            "marker": {
             "colorbar": {
              "outlinewidth": 0,
              "ticks": ""
             }
            },
            "type": "scattergeo"
           }
          ],
          "scattergl": [
           {
            "marker": {
             "colorbar": {
              "outlinewidth": 0,
              "ticks": ""
             }
            },
            "type": "scattergl"
           }
          ],
          "scattermapbox": [
           {
            "marker": {
             "colorbar": {
              "outlinewidth": 0,
              "ticks": ""
             }
            },
            "type": "scattermapbox"
           }
          ],
          "scatterpolar": [
           {
            "marker": {
             "colorbar": {
              "outlinewidth": 0,
              "ticks": ""
             }
            },
            "type": "scatterpolar"
           }
          ],
          "scatterpolargl": [
           {
            "marker": {
             "colorbar": {
              "outlinewidth": 0,
              "ticks": ""
             }
            },
            "type": "scatterpolargl"
           }
          ],
          "scatterternary": [
           {
            "marker": {
             "colorbar": {
              "outlinewidth": 0,
              "ticks": ""
             }
            },
            "type": "scatterternary"
           }
          ],
          "surface": [
           {
            "colorbar": {
             "outlinewidth": 0,
             "ticks": ""
            },
            "colorscale": [
             [
              0,
              "#0d0887"
             ],
             [
              0.1111111111111111,
              "#46039f"
             ],
             [
              0.2222222222222222,
              "#7201a8"
             ],
             [
              0.3333333333333333,
              "#9c179e"
             ],
             [
              0.4444444444444444,
              "#bd3786"
             ],
             [
              0.5555555555555556,
              "#d8576b"
             ],
             [
              0.6666666666666666,
              "#ed7953"
             ],
             [
              0.7777777777777778,
              "#fb9f3a"
             ],
             [
              0.8888888888888888,
              "#fdca26"
             ],
             [
              1,
              "#f0f921"
             ]
            ],
            "type": "surface"
           }
          ],
          "table": [
           {
            "cells": {
             "fill": {
              "color": "#EBF0F8"
             },
             "line": {
              "color": "white"
             }
            },
            "header": {
             "fill": {
              "color": "#C8D4E3"
             },
             "line": {
              "color": "white"
             }
            },
            "type": "table"
           }
          ]
         },
         "layout": {
          "annotationdefaults": {
           "arrowcolor": "#2a3f5f",
           "arrowhead": 0,
           "arrowwidth": 1
          },
          "autotypenumbers": "strict",
          "coloraxis": {
           "colorbar": {
            "outlinewidth": 0,
            "ticks": ""
           }
          },
          "colorscale": {
           "diverging": [
            [
             0,
             "#8e0152"
            ],
            [
             0.1,
             "#c51b7d"
            ],
            [
             0.2,
             "#de77ae"
            ],
            [
             0.3,
             "#f1b6da"
            ],
            [
             0.4,
             "#fde0ef"
            ],
            [
             0.5,
             "#f7f7f7"
            ],
            [
             0.6,
             "#e6f5d0"
            ],
            [
             0.7,
             "#b8e186"
            ],
            [
             0.8,
             "#7fbc41"
            ],
            [
             0.9,
             "#4d9221"
            ],
            [
             1,
             "#276419"
            ]
           ],
           "sequential": [
            [
             0,
             "#0d0887"
            ],
            [
             0.1111111111111111,
             "#46039f"
            ],
            [
             0.2222222222222222,
             "#7201a8"
            ],
            [
             0.3333333333333333,
             "#9c179e"
            ],
            [
             0.4444444444444444,
             "#bd3786"
            ],
            [
             0.5555555555555556,
             "#d8576b"
            ],
            [
             0.6666666666666666,
             "#ed7953"
            ],
            [
             0.7777777777777778,
             "#fb9f3a"
            ],
            [
             0.8888888888888888,
             "#fdca26"
            ],
            [
             1,
             "#f0f921"
            ]
           ],
           "sequentialminus": [
            [
             0,
             "#0d0887"
            ],
            [
             0.1111111111111111,
             "#46039f"
            ],
            [
             0.2222222222222222,
             "#7201a8"
            ],
            [
             0.3333333333333333,
             "#9c179e"
            ],
            [
             0.4444444444444444,
             "#bd3786"
            ],
            [
             0.5555555555555556,
             "#d8576b"
            ],
            [
             0.6666666666666666,
             "#ed7953"
            ],
            [
             0.7777777777777778,
             "#fb9f3a"
            ],
            [
             0.8888888888888888,
             "#fdca26"
            ],
            [
             1,
             "#f0f921"
            ]
           ]
          },
          "colorway": [
           "#636efa",
           "#EF553B",
           "#00cc96",
           "#ab63fa",
           "#FFA15A",
           "#19d3f3",
           "#FF6692",
           "#B6E880",
           "#FF97FF",
           "#FECB52"
          ],
          "font": {
           "color": "#2a3f5f"
          },
          "geo": {
           "bgcolor": "white",
           "lakecolor": "white",
           "landcolor": "#E5ECF6",
           "showlakes": true,
           "showland": true,
           "subunitcolor": "white"
          },
          "hoverlabel": {
           "align": "left"
          },
          "hovermode": "closest",
          "mapbox": {
           "style": "light"
          },
          "paper_bgcolor": "white",
          "plot_bgcolor": "#E5ECF6",
          "polar": {
           "angularaxis": {
            "gridcolor": "white",
            "linecolor": "white",
            "ticks": ""
           },
           "bgcolor": "#E5ECF6",
           "radialaxis": {
            "gridcolor": "white",
            "linecolor": "white",
            "ticks": ""
           }
          },
          "scene": {
           "xaxis": {
            "backgroundcolor": "#E5ECF6",
            "gridcolor": "white",
            "gridwidth": 2,
            "linecolor": "white",
            "showbackground": true,
            "ticks": "",
            "zerolinecolor": "white"
           },
           "yaxis": {
            "backgroundcolor": "#E5ECF6",
            "gridcolor": "white",
            "gridwidth": 2,
            "linecolor": "white",
            "showbackground": true,
            "ticks": "",
            "zerolinecolor": "white"
           },
           "zaxis": {
            "backgroundcolor": "#E5ECF6",
            "gridcolor": "white",
            "gridwidth": 2,
            "linecolor": "white",
            "showbackground": true,
            "ticks": "",
            "zerolinecolor": "white"
           }
          },
          "shapedefaults": {
           "line": {
            "color": "#2a3f5f"
           }
          },
          "ternary": {
           "aaxis": {
            "gridcolor": "white",
            "linecolor": "white",
            "ticks": ""
           },
           "baxis": {
            "gridcolor": "white",
            "linecolor": "white",
            "ticks": ""
           },
           "bgcolor": "#E5ECF6",
           "caxis": {
            "gridcolor": "white",
            "linecolor": "white",
            "ticks": ""
           }
          },
          "title": {
           "x": 0.05
          },
          "xaxis": {
           "automargin": true,
           "gridcolor": "white",
           "linecolor": "white",
           "ticks": "",
           "title": {
            "standoff": 15
           },
           "zerolinecolor": "white",
           "zerolinewidth": 2
          },
          "yaxis": {
           "automargin": true,
           "gridcolor": "white",
           "linecolor": "white",
           "ticks": "",
           "title": {
            "standoff": 15
           },
           "zerolinecolor": "white",
           "zerolinewidth": 2
          }
         }
        },
        "title": {
         "text": "Proportion de véhicules dont au moins un des occupants a été tué, selon le sexe du conducteur"
        },
        "width": 900,
        "xaxis": {
         "title": {
          "font": {
           "size": 15
          },
          "text": "Sexe du conducteur"
         }
        },
        "yaxis": {
         "tickvals": [
          0,
          0.2,
          0.4,
          0.6000000000000001,
          0.8,
          1,
          1.2000000000000002,
          1.4000000000000001,
          1.6,
          1.8,
          2,
          2.2,
          2.4000000000000004,
          2.6,
          2.8000000000000003,
          3,
          3.2,
          3.4000000000000004,
          3.6,
          3.8000000000000003
         ],
         "title": {
          "font": {
           "size": 15
          },
          "text": "Proportion (%)"
         }
        }
       }
      }
     },
     "metadata": {},
     "output_type": "display_data"
    }
   ],
   "source": [
    "# Liste des genres\n",
    "genre=[\"Femme\",\"Homme\"]\n",
    " \n",
    "# Création du graphique\n",
    "fig1 = go.Figure( data=[go.Bar(x=genre, y=[prop_tues_conduct_f,prop_tues_conduct_h])] )\n",
    "\n",
    "# Paramètres des colonnes\n",
    "fig1.update_traces(\n",
    "        marker_color=[\"rgb(160,97,119)\",\"rgb(128,177,211)\"],    # couleur des colonnes\n",
    "        marker_line_color=\"white\",                     # couleur du contour des colonnes\n",
    "        marker_line_width=2,                           # épaisseur du contour des colonnes\n",
    "        opacity=0.7,                                   # opacité des colonnes (compris entre 0 et 1)\n",
    "        )\n",
    "\n",
    "# Paramètres de la fenêtre graphique et des axes\n",
    "fig1.update_layout(\n",
    "    title_text='Proportion de véhicules dont au moins un des occupants a été tué, selon le sexe du conducteur',\n",
    "    margin=dict(l=50, r=20, t=60, b=10), # marges du graphique\n",
    "    paper_bgcolor=\"#f2f5f9\",             # couleur de fond\n",
    "    width=900,                           # largeur du graphique\n",
    "    height=600,                          # hauteur du graphique\n",
    "    bargap=0.55,                          # écart entre les colonnes\n",
    "\n",
    "    yaxis=dict(\n",
    "        title_text=\"Proportion (%)\",\n",
    "        tickvals=np.arange(0,4,0.2),    # valeurs pour l'axe y et graduation\n",
    "        titlefont=dict(size=15),\n",
    "    ),\n",
    "    xaxis=dict(\n",
    "        title_text=\"Sexe du conducteur\",\n",
    "        titlefont=dict(size=15),\n",
    "    )\n",
    ")\n",
    "\n",
    "# Affichage du graphique\n",
    "fig1.show()"
   ]
  },
  {
   "cell_type": "markdown",
   "metadata": {},
   "source": [
    "Ce premier graphique nous montre que la proportion de véhicules dont au moins un des occupants a été tué, lorsque les conducteurs étaient des hommes, est presque 2 fois plus grande que lorsque ce sont des femmes qui conduisaient.\\\n",
    "Les accidents semblent donc moins mortels lorsque ce sont des femmes qui conduisaient, sur la période 2011-2018.\\\n",
    "Pour avoir plus de détails sur ces différences et voir si le propos peut être nuancé, on propose de regarder les comptes exacts de personnes tués par véhicules, au lieu de seulement regarder les proportions de véhicules dont au moins 1 occupant a été tué."
   ]
  },
  {
   "cell_type": "markdown",
   "metadata": {},
   "source": [
    "## Graphique de la proportion de véhicules dont un certain nombre d'occupants ont été tués, selon le sexe du conducteur"
   ]
  },
  {
   "cell_type": "markdown",
   "metadata": {},
   "source": [
    "### Mise en forme des données pour le graphique"
   ]
  },
  {
   "cell_type": "markdown",
   "metadata": {},
   "source": [
    "Compte du nombre de véhicules conduit par un homme/une femme dont 1/2/3 occupants ont été tués"
   ]
  },
  {
   "cell_type": "code",
   "execution_count": 39,
   "metadata": {},
   "outputs": [],
   "source": [
    "femmes1=liste_n_tues_conduct_f.count(1)\n",
    "femmes2=liste_n_tues_conduct_f.count(2)\n",
    "femmes3=liste_n_tues_conduct_f.count(3)\n",
    "\n",
    "hommes1=liste_n_tues_conduct_h.count(1)\n",
    "hommes2=liste_n_tues_conduct_h.count(2)\n",
    "hommes3=liste_n_tues_conduct_h.count(3)"
   ]
  },
  {
   "cell_type": "markdown",
   "metadata": {},
   "source": [
    "Compte du nombre de véhicules conduit par un homme/une femme dont 4 occupants ou plus ont été tués"
   ]
  },
  {
   "cell_type": "code",
   "execution_count": 40,
   "metadata": {},
   "outputs": [],
   "source": [
    "k=0\n",
    "for i in liste_n_tues_conduct_f:\n",
    "    if i >=4: k+=1\n",
    "femmes4=k"
   ]
  },
  {
   "cell_type": "code",
   "execution_count": 41,
   "metadata": {},
   "outputs": [],
   "source": [
    "k=0\n",
    "for i in liste_n_tues_conduct_h:\n",
    "    if i >=4: k+=1\n",
    "\n",
    "hommes4=k"
   ]
  },
  {
   "cell_type": "markdown",
   "metadata": {},
   "source": [
    "Tableau avec le nombre de véhicules concernés par catégorie"
   ]
  },
  {
   "cell_type": "code",
   "execution_count": 42,
   "metadata": {},
   "outputs": [
    {
     "data": {
      "text/html": [
       "<div>\n",
       "<style scoped>\n",
       "    .dataframe tbody tr th:only-of-type {\n",
       "        vertical-align: middle;\n",
       "    }\n",
       "\n",
       "    .dataframe tbody tr th {\n",
       "        vertical-align: top;\n",
       "    }\n",
       "\n",
       "    .dataframe thead th {\n",
       "        text-align: right;\n",
       "    }\n",
       "</style>\n",
       "<table border=\"1\" class=\"dataframe\">\n",
       "  <thead>\n",
       "    <tr style=\"text-align: right;\">\n",
       "      <th></th>\n",
       "      <th>Femmes</th>\n",
       "      <th>Hommes</th>\n",
       "    </tr>\n",
       "  </thead>\n",
       "  <tbody>\n",
       "    <tr>\n",
       "      <th>1</th>\n",
       "      <td>3453</td>\n",
       "      <td>18434</td>\n",
       "    </tr>\n",
       "    <tr>\n",
       "      <th>2</th>\n",
       "      <td>221</td>\n",
       "      <td>945</td>\n",
       "    </tr>\n",
       "    <tr>\n",
       "      <th>3</th>\n",
       "      <td>23</td>\n",
       "      <td>130</td>\n",
       "    </tr>\n",
       "    <tr>\n",
       "      <th>4+</th>\n",
       "      <td>7</td>\n",
       "      <td>41</td>\n",
       "    </tr>\n",
       "  </tbody>\n",
       "</table>\n",
       "</div>"
      ],
      "text/plain": [
       "    Femmes  Hommes\n",
       "1     3453   18434\n",
       "2      221     945\n",
       "3       23     130\n",
       "4+       7      41"
      ]
     },
     "execution_count": 42,
     "metadata": {},
     "output_type": "execute_result"
    }
   ],
   "source": [
    "df_exact = pd.DataFrame({'Femmes': [femmes1,femmes2,femmes3,femmes4], 'Hommes': [hommes1,hommes2,hommes3,hommes4]}, index=['1','2','3','4+'])\n",
    "df_exact"
   ]
  },
  {
   "cell_type": "markdown",
   "metadata": {},
   "source": [
    "Tableau avec la proportion de véhicules concernés par catégorie"
   ]
  },
  {
   "cell_type": "code",
   "execution_count": 43,
   "metadata": {},
   "outputs": [],
   "source": [
    "df_exact[\"Femmes\"]=df_exact[\"Femmes\"]*100/n_veh_conduct_f\n",
    "df_exact[\"Hommes\"]=df_exact[\"Hommes\"]*100/n_veh_conduct_h"
   ]
  },
  {
   "cell_type": "code",
   "execution_count": 44,
   "metadata": {},
   "outputs": [
    {
     "data": {
      "text/html": [
       "<div>\n",
       "<style scoped>\n",
       "    .dataframe tbody tr th:only-of-type {\n",
       "        vertical-align: middle;\n",
       "    }\n",
       "\n",
       "    .dataframe tbody tr th {\n",
       "        vertical-align: top;\n",
       "    }\n",
       "\n",
       "    .dataframe thead th {\n",
       "        text-align: right;\n",
       "    }\n",
       "</style>\n",
       "<table border=\"1\" class=\"dataframe\">\n",
       "  <thead>\n",
       "    <tr style=\"text-align: right;\">\n",
       "      <th></th>\n",
       "      <th>Femmes</th>\n",
       "      <th>Hommes</th>\n",
       "    </tr>\n",
       "  </thead>\n",
       "  <tbody>\n",
       "    <tr>\n",
       "      <th>1</th>\n",
       "      <td>1.660655</td>\n",
       "      <td>3.095217</td>\n",
       "    </tr>\n",
       "    <tr>\n",
       "      <th>2</th>\n",
       "      <td>0.106286</td>\n",
       "      <td>0.158673</td>\n",
       "    </tr>\n",
       "    <tr>\n",
       "      <th>3</th>\n",
       "      <td>0.011061</td>\n",
       "      <td>0.021828</td>\n",
       "    </tr>\n",
       "    <tr>\n",
       "      <th>4+</th>\n",
       "      <td>0.003367</td>\n",
       "      <td>0.006884</td>\n",
       "    </tr>\n",
       "  </tbody>\n",
       "</table>\n",
       "</div>"
      ],
      "text/plain": [
       "      Femmes    Hommes\n",
       "1   1.660655  3.095217\n",
       "2   0.106286  0.158673\n",
       "3   0.011061  0.021828\n",
       "4+  0.003367  0.006884"
      ]
     },
     "execution_count": 44,
     "metadata": {},
     "output_type": "execute_result"
    }
   ],
   "source": [
    "df_exact"
   ]
  },
  {
   "cell_type": "code",
   "execution_count": 45,
   "metadata": {},
   "outputs": [
    {
     "data": {
      "application/vnd.plotly.v1+json": {
       "config": {
        "plotlyServerURL": "https://plot.ly"
       },
       "data": [
        {
         "marker": {
          "color": "#AC9FBB",
          "line": {
           "color": "rgb(190,186,218)",
           "width": 1.5
          }
         },
         "name": "Femmes",
         "opacity": 0.8,
         "type": "bar",
         "x": [
          "1",
          "2",
          "3",
          "4+"
         ],
         "y": [
          1.6606550281344683,
          0.10628576924926658,
          0.011061414899244938,
          0.003366517578031068
         ]
        },
        {
         "marker": {
          "color": "#033F63",
          "line": {
           "color": "rgb(190,186,218)",
           "width": 1.5
          }
         },
         "name": "Hommes",
         "opacity": 0.8,
         "type": "bar",
         "x": [
          "1",
          "2",
          "3",
          "4+"
         ],
         "y": [
          3.0952173066202793,
          0.1586731232915354,
          0.021828048706772067,
          0.00688423074598196
         ]
        }
       ],
       "layout": {
        "bargap": 0.4,
        "barmode": "group",
        "height": 600,
        "margin": {
         "b": 10,
         "l": 50,
         "r": 20,
         "t": 60
        },
        "paper_bgcolor": "#f2f5f9",
        "template": {
         "data": {
          "bar": [
           {
            "error_x": {
             "color": "#2a3f5f"
            },
            "error_y": {
             "color": "#2a3f5f"
            },
            "marker": {
             "line": {
              "color": "#E5ECF6",
              "width": 0.5
             },
             "pattern": {
              "fillmode": "overlay",
              "size": 10,
              "solidity": 0.2
             }
            },
            "type": "bar"
           }
          ],
          "barpolar": [
           {
            "marker": {
             "line": {
              "color": "#E5ECF6",
              "width": 0.5
             },
             "pattern": {
              "fillmode": "overlay",
              "size": 10,
              "solidity": 0.2
             }
            },
            "type": "barpolar"
           }
          ],
          "carpet": [
           {
            "aaxis": {
             "endlinecolor": "#2a3f5f",
             "gridcolor": "white",
             "linecolor": "white",
             "minorgridcolor": "white",
             "startlinecolor": "#2a3f5f"
            },
            "baxis": {
             "endlinecolor": "#2a3f5f",
             "gridcolor": "white",
             "linecolor": "white",
             "minorgridcolor": "white",
             "startlinecolor": "#2a3f5f"
            },
            "type": "carpet"
           }
          ],
          "choropleth": [
           {
            "colorbar": {
             "outlinewidth": 0,
             "ticks": ""
            },
            "type": "choropleth"
           }
          ],
          "contour": [
           {
            "colorbar": {
             "outlinewidth": 0,
             "ticks": ""
            },
            "colorscale": [
             [
              0,
              "#0d0887"
             ],
             [
              0.1111111111111111,
              "#46039f"
             ],
             [
              0.2222222222222222,
              "#7201a8"
             ],
             [
              0.3333333333333333,
              "#9c179e"
             ],
             [
              0.4444444444444444,
              "#bd3786"
             ],
             [
              0.5555555555555556,
              "#d8576b"
             ],
             [
              0.6666666666666666,
              "#ed7953"
             ],
             [
              0.7777777777777778,
              "#fb9f3a"
             ],
             [
              0.8888888888888888,
              "#fdca26"
             ],
             [
              1,
              "#f0f921"
             ]
            ],
            "type": "contour"
           }
          ],
          "contourcarpet": [
           {
            "colorbar": {
             "outlinewidth": 0,
             "ticks": ""
            },
            "type": "contourcarpet"
           }
          ],
          "heatmap": [
           {
            "colorbar": {
             "outlinewidth": 0,
             "ticks": ""
            },
            "colorscale": [
             [
              0,
              "#0d0887"
             ],
             [
              0.1111111111111111,
              "#46039f"
             ],
             [
              0.2222222222222222,
              "#7201a8"
             ],
             [
              0.3333333333333333,
              "#9c179e"
             ],
             [
              0.4444444444444444,
              "#bd3786"
             ],
             [
              0.5555555555555556,
              "#d8576b"
             ],
             [
              0.6666666666666666,
              "#ed7953"
             ],
             [
              0.7777777777777778,
              "#fb9f3a"
             ],
             [
              0.8888888888888888,
              "#fdca26"
             ],
             [
              1,
              "#f0f921"
             ]
            ],
            "type": "heatmap"
           }
          ],
          "heatmapgl": [
           {
            "colorbar": {
             "outlinewidth": 0,
             "ticks": ""
            },
            "colorscale": [
             [
              0,
              "#0d0887"
             ],
             [
              0.1111111111111111,
              "#46039f"
             ],
             [
              0.2222222222222222,
              "#7201a8"
             ],
             [
              0.3333333333333333,
              "#9c179e"
             ],
             [
              0.4444444444444444,
              "#bd3786"
             ],
             [
              0.5555555555555556,
              "#d8576b"
             ],
             [
              0.6666666666666666,
              "#ed7953"
             ],
             [
              0.7777777777777778,
              "#fb9f3a"
             ],
             [
              0.8888888888888888,
              "#fdca26"
             ],
             [
              1,
              "#f0f921"
             ]
            ],
            "type": "heatmapgl"
           }
          ],
          "histogram": [
           {
            "marker": {
             "pattern": {
              "fillmode": "overlay",
              "size": 10,
              "solidity": 0.2
             }
            },
            "type": "histogram"
           }
          ],
          "histogram2d": [
           {
            "colorbar": {
             "outlinewidth": 0,
             "ticks": ""
            },
            "colorscale": [
             [
              0,
              "#0d0887"
             ],
             [
              0.1111111111111111,
              "#46039f"
             ],
             [
              0.2222222222222222,
              "#7201a8"
             ],
             [
              0.3333333333333333,
              "#9c179e"
             ],
             [
              0.4444444444444444,
              "#bd3786"
             ],
             [
              0.5555555555555556,
              "#d8576b"
             ],
             [
              0.6666666666666666,
              "#ed7953"
             ],
             [
              0.7777777777777778,
              "#fb9f3a"
             ],
             [
              0.8888888888888888,
              "#fdca26"
             ],
             [
              1,
              "#f0f921"
             ]
            ],
            "type": "histogram2d"
           }
          ],
          "histogram2dcontour": [
           {
            "colorbar": {
             "outlinewidth": 0,
             "ticks": ""
            },
            "colorscale": [
             [
              0,
              "#0d0887"
             ],
             [
              0.1111111111111111,
              "#46039f"
             ],
             [
              0.2222222222222222,
              "#7201a8"
             ],
             [
              0.3333333333333333,
              "#9c179e"
             ],
             [
              0.4444444444444444,
              "#bd3786"
             ],
             [
              0.5555555555555556,
              "#d8576b"
             ],
             [
              0.6666666666666666,
              "#ed7953"
             ],
             [
              0.7777777777777778,
              "#fb9f3a"
             ],
             [
              0.8888888888888888,
              "#fdca26"
             ],
             [
              1,
              "#f0f921"
             ]
            ],
            "type": "histogram2dcontour"
           }
          ],
          "mesh3d": [
           {
            "colorbar": {
             "outlinewidth": 0,
             "ticks": ""
            },
            "type": "mesh3d"
           }
          ],
          "parcoords": [
           {
            "line": {
             "colorbar": {
              "outlinewidth": 0,
              "ticks": ""
             }
            },
            "type": "parcoords"
           }
          ],
          "pie": [
           {
            "automargin": true,
            "type": "pie"
           }
          ],
          "scatter": [
           {
            "fillpattern": {
             "fillmode": "overlay",
             "size": 10,
             "solidity": 0.2
            },
            "type": "scatter"
           }
          ],
          "scatter3d": [
           {
            "line": {
             "colorbar": {
              "outlinewidth": 0,
              "ticks": ""
             }
            },
            "marker": {
             "colorbar": {
              "outlinewidth": 0,
              "ticks": ""
             }
            },
            "type": "scatter3d"
           }
          ],
          "scattercarpet": [
           {
            "marker": {
             "colorbar": {
              "outlinewidth": 0,
              "ticks": ""
             }
            },
            "type": "scattercarpet"
           }
          ],
          "scattergeo": [
           {
            "marker": {
             "colorbar": {
              "outlinewidth": 0,
              "ticks": ""
             }
            },
            "type": "scattergeo"
           }
          ],
          "scattergl": [
           {
            "marker": {
             "colorbar": {
              "outlinewidth": 0,
              "ticks": ""
             }
            },
            "type": "scattergl"
           }
          ],
          "scattermapbox": [
           {
            "marker": {
             "colorbar": {
              "outlinewidth": 0,
              "ticks": ""
             }
            },
            "type": "scattermapbox"
           }
          ],
          "scatterpolar": [
           {
            "marker": {
             "colorbar": {
              "outlinewidth": 0,
              "ticks": ""
             }
            },
            "type": "scatterpolar"
           }
          ],
          "scatterpolargl": [
           {
            "marker": {
             "colorbar": {
              "outlinewidth": 0,
              "ticks": ""
             }
            },
            "type": "scatterpolargl"
           }
          ],
          "scatterternary": [
           {
            "marker": {
             "colorbar": {
              "outlinewidth": 0,
              "ticks": ""
             }
            },
            "type": "scatterternary"
           }
          ],
          "surface": [
           {
            "colorbar": {
             "outlinewidth": 0,
             "ticks": ""
            },
            "colorscale": [
             [
              0,
              "#0d0887"
             ],
             [
              0.1111111111111111,
              "#46039f"
             ],
             [
              0.2222222222222222,
              "#7201a8"
             ],
             [
              0.3333333333333333,
              "#9c179e"
             ],
             [
              0.4444444444444444,
              "#bd3786"
             ],
             [
              0.5555555555555556,
              "#d8576b"
             ],
             [
              0.6666666666666666,
              "#ed7953"
             ],
             [
              0.7777777777777778,
              "#fb9f3a"
             ],
             [
              0.8888888888888888,
              "#fdca26"
             ],
             [
              1,
              "#f0f921"
             ]
            ],
            "type": "surface"
           }
          ],
          "table": [
           {
            "cells": {
             "fill": {
              "color": "#EBF0F8"
             },
             "line": {
              "color": "white"
             }
            },
            "header": {
             "fill": {
              "color": "#C8D4E3"
             },
             "line": {
              "color": "white"
             }
            },
            "type": "table"
           }
          ]
         },
         "layout": {
          "annotationdefaults": {
           "arrowcolor": "#2a3f5f",
           "arrowhead": 0,
           "arrowwidth": 1
          },
          "autotypenumbers": "strict",
          "coloraxis": {
           "colorbar": {
            "outlinewidth": 0,
            "ticks": ""
           }
          },
          "colorscale": {
           "diverging": [
            [
             0,
             "#8e0152"
            ],
            [
             0.1,
             "#c51b7d"
            ],
            [
             0.2,
             "#de77ae"
            ],
            [
             0.3,
             "#f1b6da"
            ],
            [
             0.4,
             "#fde0ef"
            ],
            [
             0.5,
             "#f7f7f7"
            ],
            [
             0.6,
             "#e6f5d0"
            ],
            [
             0.7,
             "#b8e186"
            ],
            [
             0.8,
             "#7fbc41"
            ],
            [
             0.9,
             "#4d9221"
            ],
            [
             1,
             "#276419"
            ]
           ],
           "sequential": [
            [
             0,
             "#0d0887"
            ],
            [
             0.1111111111111111,
             "#46039f"
            ],
            [
             0.2222222222222222,
             "#7201a8"
            ],
            [
             0.3333333333333333,
             "#9c179e"
            ],
            [
             0.4444444444444444,
             "#bd3786"
            ],
            [
             0.5555555555555556,
             "#d8576b"
            ],
            [
             0.6666666666666666,
             "#ed7953"
            ],
            [
             0.7777777777777778,
             "#fb9f3a"
            ],
            [
             0.8888888888888888,
             "#fdca26"
            ],
            [
             1,
             "#f0f921"
            ]
           ],
           "sequentialminus": [
            [
             0,
             "#0d0887"
            ],
            [
             0.1111111111111111,
             "#46039f"
            ],
            [
             0.2222222222222222,
             "#7201a8"
            ],
            [
             0.3333333333333333,
             "#9c179e"
            ],
            [
             0.4444444444444444,
             "#bd3786"
            ],
            [
             0.5555555555555556,
             "#d8576b"
            ],
            [
             0.6666666666666666,
             "#ed7953"
            ],
            [
             0.7777777777777778,
             "#fb9f3a"
            ],
            [
             0.8888888888888888,
             "#fdca26"
            ],
            [
             1,
             "#f0f921"
            ]
           ]
          },
          "colorway": [
           "#636efa",
           "#EF553B",
           "#00cc96",
           "#ab63fa",
           "#FFA15A",
           "#19d3f3",
           "#FF6692",
           "#B6E880",
           "#FF97FF",
           "#FECB52"
          ],
          "font": {
           "color": "#2a3f5f"
          },
          "geo": {
           "bgcolor": "white",
           "lakecolor": "white",
           "landcolor": "#E5ECF6",
           "showlakes": true,
           "showland": true,
           "subunitcolor": "white"
          },
          "hoverlabel": {
           "align": "left"
          },
          "hovermode": "closest",
          "mapbox": {
           "style": "light"
          },
          "paper_bgcolor": "white",
          "plot_bgcolor": "#E5ECF6",
          "polar": {
           "angularaxis": {
            "gridcolor": "white",
            "linecolor": "white",
            "ticks": ""
           },
           "bgcolor": "#E5ECF6",
           "radialaxis": {
            "gridcolor": "white",
            "linecolor": "white",
            "ticks": ""
           }
          },
          "scene": {
           "xaxis": {
            "backgroundcolor": "#E5ECF6",
            "gridcolor": "white",
            "gridwidth": 2,
            "linecolor": "white",
            "showbackground": true,
            "ticks": "",
            "zerolinecolor": "white"
           },
           "yaxis": {
            "backgroundcolor": "#E5ECF6",
            "gridcolor": "white",
            "gridwidth": 2,
            "linecolor": "white",
            "showbackground": true,
            "ticks": "",
            "zerolinecolor": "white"
           },
           "zaxis": {
            "backgroundcolor": "#E5ECF6",
            "gridcolor": "white",
            "gridwidth": 2,
            "linecolor": "white",
            "showbackground": true,
            "ticks": "",
            "zerolinecolor": "white"
           }
          },
          "shapedefaults": {
           "line": {
            "color": "#2a3f5f"
           }
          },
          "ternary": {
           "aaxis": {
            "gridcolor": "white",
            "linecolor": "white",
            "ticks": ""
           },
           "baxis": {
            "gridcolor": "white",
            "linecolor": "white",
            "ticks": ""
           },
           "bgcolor": "#E5ECF6",
           "caxis": {
            "gridcolor": "white",
            "linecolor": "white",
            "ticks": ""
           }
          },
          "title": {
           "x": 0.05
          },
          "xaxis": {
           "automargin": true,
           "gridcolor": "white",
           "linecolor": "white",
           "ticks": "",
           "title": {
            "standoff": 15
           },
           "zerolinecolor": "white",
           "zerolinewidth": 2
          },
          "yaxis": {
           "automargin": true,
           "gridcolor": "white",
           "linecolor": "white",
           "ticks": "",
           "title": {
            "standoff": 15
           },
           "zerolinecolor": "white",
           "zerolinewidth": 2
          }
         }
        },
        "title": {
         "text": "Proportion de véhicules dont un certain nombre d'occupants ont été tués, selon le sexe du conducteur"
        },
        "width": 1000,
        "xaxis": {
         "title": {
          "font": {
           "size": 15
          },
          "text": "Nombre d'occupants tués"
         }
        },
        "yaxis": {
         "tickvals": [
          0,
          0.1,
          0.2,
          0.30000000000000004,
          0.4,
          0.5,
          0.6000000000000001,
          0.7000000000000001,
          0.8,
          0.9,
          1,
          1.1,
          1.2000000000000002,
          1.3,
          1.4000000000000001,
          1.5,
          1.6,
          1.7000000000000002,
          1.8,
          1.9000000000000001,
          2,
          2.1,
          2.2,
          2.3000000000000003,
          2.4000000000000004,
          2.5,
          2.6,
          2.7,
          2.8000000000000003,
          2.9000000000000004,
          3,
          3.1,
          3.2
         ],
         "title": {
          "font": {
           "size": 15
          },
          "text": "Proportion de véhicules (%)"
         }
        }
       }
      }
     },
     "metadata": {},
     "output_type": "display_data"
    }
   ],
   "source": [
    "niveaux=['1','2','3','4+']\n",
    "\n",
    "fig2 = go.Figure()\n",
    "fig2.add_trace( go.Bar(name='Femmes', x=niveaux, y=df_exact[\"Femmes\"], marker_color=\"#AC9FBB\") )\n",
    "fig2.add_trace( go.Bar(name='Hommes', x=niveaux, y=df_exact[\"Hommes\"], marker_color=\"#033F63\") )\n",
    "\n",
    "# Paramètres des colonnes\n",
    "fig2.update_traces(\n",
    "            marker_line_color='rgb(190,186,218)',   # couleur du contour des colonnes\n",
    "            marker_line_width=1.5,                  # épaisseur du contour des colonnes\n",
    "            opacity=0.8                             # opacité des colonnes (compris entre 0 et 1)\n",
    "        )\n",
    "\n",
    "# Paramètres de la fenêtre graphique et des axes\n",
    "fig2.update_layout(\n",
    "    barmode='group',\n",
    "    title_text=\"Proportion de véhicules dont un certain nombre d'occupants ont été tués, selon le sexe du conducteur\",\n",
    "    margin=dict(l=50, r=20, t=60, b=10), # marges du graphique\n",
    "    paper_bgcolor=\"#f2f5f9\",             # couleur de fond\n",
    "    width=1000,                          # largeur du graphique\n",
    "    height=600,\n",
    "    bargap=0.4,                          # écart entre les colonnes\n",
    "\n",
    "    yaxis=dict(\n",
    "        title_text=\"Proportion de véhicules (%)\",\n",
    "        tickvals=np.arange(0,3.3,0.10),    # valeurs pour l'axe y et graduation\n",
    "        titlefont=dict(size=15),\n",
    "    ),\n",
    "    xaxis=dict(\n",
    "        title_text=\"Nombre d'occupants tués\",\n",
    "        titlefont=dict(size=15),\n",
    "    )\n",
    ")\n",
    "fig2.show()"
   ]
  },
  {
   "cell_type": "markdown",
   "metadata": {},
   "source": [
    "Les graphes plotly sont des graphes interactifs. En particulier, on peut sélectionner une zone particulière du graphique que l'on souhaite mieux voir en cliquant sur \"box select\". Par exemple ici, c'est très utile pour mieux visualiser les colonnes concernant les véhicules dont 3 occupants ont été tués, et 4 et plus, étant donné que les valeurs de proportions sont très petites, par rapport à celles obtenues pour les véhicules ayant eu un seul occupant tué. Ensuite, une fois la zone sélectionné, on peut facilement observer les valeurs exactes des colonnes concernées, en passant la souris dessus."
   ]
  },
  {
   "cell_type": "markdown",
   "metadata": {},
   "source": [
    "Ce second graphique montre qu'une majorité des véhicules dont des occupants ont été tués, sont en fait des véhicules où il n'y a eu qu'un seul occupant tué du fait de l'accident. Pour les véhicules où il y a eu deux occupants tués, cela représente seulement 0.11% des véhicules accidentés conduits par une femme, et 0.16% de ceux conduits par un homme.\\\n",
    "Ce graphique nous montre également que la différence observée entre les conducteurs hommes et femmes se maintient, lorsqu'on regarde plus en détail les différences selon le nombre exact d'occupants tués, bien que l'écart est très atténué à partir de 3 et plus.\n",
    "On peut donc considérer qu'à compter de 3 occupants et plus tués, le sexe du conducteur a beaucoup moins d'influence. On peut supposer que ces accidents sont ceux étant les plus graves, et donc que le sexe du conducteur aurait peu d'influence sur ces accidents très mortels, s'ils sont du à une autre cause extérieure que le conducteur en premier lieu."
   ]
  },
  {
   "cell_type": "markdown",
   "metadata": {},
   "source": [
    "On peut donc déduire des deux graphiques que les accidents semblent plus mortels lorsque ce sont des hommes qui conduisent, plutôt que des femmes. Néanmoins, on garde en tête que pour les accidents les plus mortels, la différence est plus faible."
   ]
  },
  {
   "cell_type": "markdown",
   "metadata": {},
   "source": [
    "## Calcul de la proportion d'occupants tués, selon s'ils étaient conducteurs ou passagers, en prenant en compte le sexe du conducteur "
   ]
  },
  {
   "cell_type": "markdown",
   "metadata": {},
   "source": [
    "On propose de regarder la différence de proportions de personnes tuées, selon qu'ils étaient conducteurs ou passagers, toujours en fonction du sexe du conducteur. Cela nous permettra éventuellement de nuancer les résultats précédents, et d'observer quel type d'occupants sont les plus tués, entre les conducteurs eux-mêmes et leurs passagers."
   ]
  },
  {
   "cell_type": "markdown",
   "metadata": {},
   "source": [
    "Pour cela, on reprend le tableau \"tableau_occupants\" représentant tous les occupants de véhicules, avec l'ensemble des variables traitées précédemment pour les premiers graphiques. On va considérer en plus la variable \"catu\", qui va permettre de distinguer les occupants, selon s'ils étaient conducteur ou passager."
   ]
  },
  {
   "cell_type": "code",
   "execution_count": 46,
   "metadata": {},
   "outputs": [
    {
     "data": {
      "text/html": [
       "<div>\n",
       "<style scoped>\n",
       "    .dataframe tbody tr th:only-of-type {\n",
       "        vertical-align: middle;\n",
       "    }\n",
       "\n",
       "    .dataframe tbody tr th {\n",
       "        vertical-align: top;\n",
       "    }\n",
       "\n",
       "    .dataframe thead th {\n",
       "        text-align: right;\n",
       "    }\n",
       "</style>\n",
       "<table border=\"1\" class=\"dataframe\">\n",
       "  <thead>\n",
       "    <tr style=\"text-align: right;\">\n",
       "      <th></th>\n",
       "      <th>Num_Acc</th>\n",
       "      <th>place</th>\n",
       "      <th>catu</th>\n",
       "      <th>grav</th>\n",
       "      <th>sexe</th>\n",
       "      <th>trajet</th>\n",
       "      <th>secu</th>\n",
       "      <th>locp</th>\n",
       "      <th>actp</th>\n",
       "      <th>etatp</th>\n",
       "      <th>an_nais</th>\n",
       "      <th>num_veh</th>\n",
       "      <th>sexe_conduct</th>\n",
       "    </tr>\n",
       "  </thead>\n",
       "  <tbody>\n",
       "    <tr>\n",
       "      <th>0</th>\n",
       "      <td>201100000001</td>\n",
       "      <td>1</td>\n",
       "      <td>1</td>\n",
       "      <td>3</td>\n",
       "      <td>1</td>\n",
       "      <td>5</td>\n",
       "      <td>21</td>\n",
       "      <td>0</td>\n",
       "      <td>0</td>\n",
       "      <td>0</td>\n",
       "      <td>1995</td>\n",
       "      <td>A01</td>\n",
       "      <td>1</td>\n",
       "    </tr>\n",
       "    <tr>\n",
       "      <th>1</th>\n",
       "      <td>201100000001</td>\n",
       "      <td>1</td>\n",
       "      <td>1</td>\n",
       "      <td>1</td>\n",
       "      <td>1</td>\n",
       "      <td>5</td>\n",
       "      <td>11</td>\n",
       "      <td>0</td>\n",
       "      <td>0</td>\n",
       "      <td>0</td>\n",
       "      <td>1949</td>\n",
       "      <td>B02</td>\n",
       "      <td>1</td>\n",
       "    </tr>\n",
       "    <tr>\n",
       "      <th>2</th>\n",
       "      <td>201100000002</td>\n",
       "      <td>1</td>\n",
       "      <td>1</td>\n",
       "      <td>1</td>\n",
       "      <td>1</td>\n",
       "      <td>0</td>\n",
       "      <td>11</td>\n",
       "      <td>0</td>\n",
       "      <td>0</td>\n",
       "      <td>0</td>\n",
       "      <td>1967</td>\n",
       "      <td>A01</td>\n",
       "      <td>1</td>\n",
       "    </tr>\n",
       "    <tr>\n",
       "      <th>3</th>\n",
       "      <td>201100000002</td>\n",
       "      <td>1</td>\n",
       "      <td>1</td>\n",
       "      <td>3</td>\n",
       "      <td>1</td>\n",
       "      <td>0</td>\n",
       "      <td>21</td>\n",
       "      <td>0</td>\n",
       "      <td>0</td>\n",
       "      <td>0</td>\n",
       "      <td>1963</td>\n",
       "      <td>B02</td>\n",
       "      <td>1</td>\n",
       "    </tr>\n",
       "    <tr>\n",
       "      <th>4</th>\n",
       "      <td>201100000003</td>\n",
       "      <td>1</td>\n",
       "      <td>1</td>\n",
       "      <td>1</td>\n",
       "      <td>1</td>\n",
       "      <td>1</td>\n",
       "      <td>11</td>\n",
       "      <td>0</td>\n",
       "      <td>0</td>\n",
       "      <td>0</td>\n",
       "      <td>1989</td>\n",
       "      <td>A01</td>\n",
       "      <td>1</td>\n",
       "    </tr>\n",
       "  </tbody>\n",
       "</table>\n",
       "</div>"
      ],
      "text/plain": [
       "        Num_Acc place catu grav sexe trajet secu locp actp etatp an_nais  \\\n",
       "0  201100000001     1    1    3    1      5   21    0    0     0    1995   \n",
       "1  201100000001     1    1    1    1      5   11    0    0     0    1949   \n",
       "2  201100000002     1    1    1    1      0   11    0    0     0    1967   \n",
       "3  201100000002     1    1    3    1      0   21    0    0     0    1963   \n",
       "4  201100000003     1    1    1    1      1   11    0    0     0    1989   \n",
       "\n",
       "  num_veh sexe_conduct  \n",
       "0     A01            1  \n",
       "1     B02            1  \n",
       "2     A01            1  \n",
       "3     B02            1  \n",
       "4     A01            1  "
      ]
     },
     "execution_count": 46,
     "metadata": {},
     "output_type": "execute_result"
    }
   ],
   "source": [
    "tableau_occupants.head()"
   ]
  },
  {
   "cell_type": "markdown",
   "metadata": {},
   "source": [
    "On procède de la même façon que précédemment, avec un groupby permettant de créer une liste des gravités, en ajoutant la différenciation des occupants selon la valeur de \"catu\", c'est-à-dire entre conducteurs (\"catu\"=1) et passagers (\"catu\"=\"2\") tel que nous venons de l'expliquer. On compare toujours les résultats selon le sexe du conducteur."
   ]
  },
  {
   "cell_type": "code",
   "execution_count": 47,
   "metadata": {},
   "outputs": [],
   "source": [
    "sep_conduct_passager=tableau_occupants.groupby(['sexe_conduct','Num_Acc','num_veh','catu'])[\"grav\"].agg(list)"
   ]
  },
  {
   "cell_type": "code",
   "execution_count": 48,
   "metadata": {},
   "outputs": [
    {
     "data": {
      "text/html": [
       "<div>\n",
       "<style scoped>\n",
       "    .dataframe tbody tr th:only-of-type {\n",
       "        vertical-align: middle;\n",
       "    }\n",
       "\n",
       "    .dataframe tbody tr th {\n",
       "        vertical-align: top;\n",
       "    }\n",
       "\n",
       "    .dataframe thead th {\n",
       "        text-align: right;\n",
       "    }\n",
       "</style>\n",
       "<table border=\"1\" class=\"dataframe\">\n",
       "  <thead>\n",
       "    <tr style=\"text-align: right;\">\n",
       "      <th></th>\n",
       "      <th></th>\n",
       "      <th></th>\n",
       "      <th></th>\n",
       "      <th>grav</th>\n",
       "    </tr>\n",
       "    <tr>\n",
       "      <th>sexe_conduct</th>\n",
       "      <th>Num_Acc</th>\n",
       "      <th>num_veh</th>\n",
       "      <th>catu</th>\n",
       "      <th></th>\n",
       "    </tr>\n",
       "  </thead>\n",
       "  <tbody>\n",
       "    <tr>\n",
       "      <th rowspan=\"10\" valign=\"top\">1</th>\n",
       "      <th>201100000011</th>\n",
       "      <th>A01</th>\n",
       "      <th>1</th>\n",
       "      <td>[3]</td>\n",
       "    </tr>\n",
       "    <tr>\n",
       "      <th rowspan=\"2\" valign=\"top\">201100000012</th>\n",
       "      <th>A01</th>\n",
       "      <th>1</th>\n",
       "      <td>[3]</td>\n",
       "    </tr>\n",
       "    <tr>\n",
       "      <th>B02</th>\n",
       "      <th>1</th>\n",
       "      <td>[1]</td>\n",
       "    </tr>\n",
       "    <tr>\n",
       "      <th rowspan=\"2\" valign=\"top\">201100000013</th>\n",
       "      <th rowspan=\"2\" valign=\"top\">A01</th>\n",
       "      <th>1</th>\n",
       "      <td>[1]</td>\n",
       "    </tr>\n",
       "    <tr>\n",
       "      <th>2</th>\n",
       "      <td>[1, 1, 3]</td>\n",
       "    </tr>\n",
       "    <tr>\n",
       "      <th rowspan=\"4\" valign=\"top\">201100000014</th>\n",
       "      <th rowspan=\"2\" valign=\"top\">A01</th>\n",
       "      <th>1</th>\n",
       "      <td>[3]</td>\n",
       "    </tr>\n",
       "    <tr>\n",
       "      <th>2</th>\n",
       "      <td>[1]</td>\n",
       "    </tr>\n",
       "    <tr>\n",
       "      <th rowspan=\"2\" valign=\"top\">B02</th>\n",
       "      <th>1</th>\n",
       "      <td>[3]</td>\n",
       "    </tr>\n",
       "    <tr>\n",
       "      <th>2</th>\n",
       "      <td>[3]</td>\n",
       "    </tr>\n",
       "    <tr>\n",
       "      <th>201100000015</th>\n",
       "      <th>A01</th>\n",
       "      <th>1</th>\n",
       "      <td>[1]</td>\n",
       "    </tr>\n",
       "  </tbody>\n",
       "</table>\n",
       "</div>"
      ],
      "text/plain": [
       "                                             grav\n",
       "sexe_conduct Num_Acc      num_veh catu           \n",
       "1            201100000011 A01     1           [3]\n",
       "             201100000012 A01     1           [3]\n",
       "                          B02     1           [1]\n",
       "             201100000013 A01     1           [1]\n",
       "                                  2     [1, 1, 3]\n",
       "             201100000014 A01     1           [3]\n",
       "                                  2           [1]\n",
       "                          B02     1           [3]\n",
       "                                  2           [3]\n",
       "             201100000015 A01     1           [1]"
      ]
     },
     "execution_count": 48,
     "metadata": {},
     "output_type": "execute_result"
    }
   ],
   "source": [
    "pd.DataFrame(sep_conduct_passager[15:25])"
   ]
  },
  {
   "cell_type": "markdown",
   "metadata": {},
   "source": [
    "On récupère séparemment la partie où \"sexe_conduct\" vaut 1 (conduteurs hommes), et celle valant 2 (condutrices femmes)."
   ]
  },
  {
   "cell_type": "code",
   "execution_count": 49,
   "metadata": {},
   "outputs": [],
   "source": [
    "sep_conduct_passager_h=sep_conduct_passager['1'] # Tableau des cas où le conducteur est un homme\n",
    "sep_conduct_passager_f=sep_conduct_passager['2'] # Tableau des cas où le conducteur est une femme"
   ]
  },
  {
   "cell_type": "markdown",
   "metadata": {},
   "source": [
    "On transforme le tableau sous forme de \"groupby\" en vrai tableau, sans cases vides dûes à la commande groupby."
   ]
  },
  {
   "cell_type": "code",
   "execution_count": 50,
   "metadata": {},
   "outputs": [],
   "source": [
    "sep_conduct_passager_h=sep_conduct_passager_h.reset_index()\n",
    "sep_conduct_passager_f=sep_conduct_passager_f.reset_index()"
   ]
  },
  {
   "cell_type": "markdown",
   "metadata": {},
   "source": [
    "#### Cas conducteurs"
   ]
  },
  {
   "cell_type": "code",
   "execution_count": 51,
   "metadata": {},
   "outputs": [],
   "source": [
    "conduct_h_conduct_tues=[]       # Conducteurs hommes\n",
    "conduct_h_passagers_tues=[]     # Passagers dont le conducteur est homme\n",
    "\n",
    "# On parcourt le dataframe\n",
    "for index,row in sep_conduct_passager_h.iterrows():\n",
    "    if row[\"catu\"]=='1': \n",
    "        # Si c'est un conducteur\n",
    "        compte=list(row[\"grav\"]).count('2') \n",
    "        conduct_h_conduct_tues.append(compte)\n",
    "        \n",
    "    elif row[\"catu\"]=='2': \n",
    "        # Si c'est un passager\n",
    "        compte=list(row[\"grav\"]).count('2') \n",
    "        conduct_h_passagers_tues.append(compte)"
   ]
  },
  {
   "cell_type": "markdown",
   "metadata": {},
   "source": [
    "Proportion de conducteurs tués lorsque celui-ci était un homme"
   ]
  },
  {
   "cell_type": "code",
   "execution_count": 52,
   "metadata": {},
   "outputs": [
    {
     "name": "stdout",
     "output_type": "stream",
     "text": [
      "2.880 % des conducteurs ont été tués sachant qu'ils étaient des hommes\n"
     ]
    }
   ],
   "source": [
    "prop_conduct_h_c_tues=sum(conduct_h_conduct_tues)*100/n_veh_conduct_h # n_veh_conduct_h a été calculé auparavant\n",
    "\n",
    "print(\"%.3f\"%prop_conduct_h_c_tues,\"% des conducteurs ont été tués sachant qu'ils étaient des hommes\")"
   ]
  },
  {
   "cell_type": "markdown",
   "metadata": {},
   "source": [
    "Proportion de passagers tués lorsque le conducteur était un homme"
   ]
  },
  {
   "cell_type": "code",
   "execution_count": 53,
   "metadata": {},
   "outputs": [
    {
     "name": "stdout",
     "output_type": "stream",
     "text": [
      "0.6349 % des passagers ont été tués lorsque le conducteur du véhicule était un homme\n"
     ]
    }
   ],
   "source": [
    "prop_conduct_h_p_tues=sum(conduct_h_passagers_tues)*100/n_veh_conduct_h # n_veh_conduct_h a été calculé auparavant\n",
    "\n",
    "print(\"%.4f\"%prop_conduct_h_p_tues,\"% des passagers ont été tués lorsque le conducteur du véhicule était un homme\")"
   ]
  },
  {
   "cell_type": "markdown",
   "metadata": {},
   "source": [
    "#### Cas conductrices"
   ]
  },
  {
   "cell_type": "code",
   "execution_count": 54,
   "metadata": {},
   "outputs": [],
   "source": [
    "conduct_f_conduct_tues=[]   # Conducteurs femmes\n",
    "conduct_f_passagers_tues=[] # Passagers de véhicules dont le conducteur était une femme\n",
    "\n",
    "# On parcourt le dataframe\n",
    "for index,row in sep_conduct_passager_f.iterrows():\n",
    "    if row[\"catu\"]=='1':\n",
    "        # Si c'est une conductrice\n",
    "        compte=list(row[\"grav\"]).count('2') \n",
    "        conduct_f_conduct_tues.append(compte)\n",
    "\n",
    "    elif row[\"catu\"]=='2': \n",
    "        # Si c'est un passager\n",
    "        compte=list(row[\"grav\"]).count('2') \n",
    "        conduct_f_passagers_tues.append(compte)"
   ]
  },
  {
   "cell_type": "markdown",
   "metadata": {},
   "source": [
    "Proportion de conductrices tuées"
   ]
  },
  {
   "cell_type": "code",
   "execution_count": 55,
   "metadata": {},
   "outputs": [
    {
     "name": "stdout",
     "output_type": "stream",
     "text": [
      "1.4760 % des conductrices ont été tuées\n"
     ]
    }
   ],
   "source": [
    "prop_conduct_f_c_tues=sum(conduct_f_conduct_tues)*100/n_veh_conduct_f # n_veh_conduct_f a été calculé auparavant\n",
    "\n",
    "print(\"%.4f\"%prop_conduct_f_c_tues,\"% des conductrices ont été tuées\")"
   ]
  },
  {
   "cell_type": "markdown",
   "metadata": {},
   "source": [
    "Proportion de passagers tués lorsque le conducteur était une femme"
   ]
  },
  {
   "cell_type": "code",
   "execution_count": 56,
   "metadata": {},
   "outputs": [
    {
     "name": "stdout",
     "output_type": "stream",
     "text": [
      "0.4468 % des passagers ont été tués lorsque le conducteur du véhicule était une femme\n"
     ]
    }
   ],
   "source": [
    "prop_conduct_f_p_tues=sum(conduct_f_passagers_tues)*100/n_veh_conduct_f # n_veh_conduct_f a été calculé auparavant\n",
    "\n",
    "print(\"%.4f\"%prop_conduct_f_p_tues,\"% des passagers ont été tués lorsque le conducteur du véhicule était une femme\")"
   ]
  },
  {
   "cell_type": "markdown",
   "metadata": {},
   "source": [
    "## Graphique de la proportion d'occupants tués, selon s'ils étaient conducteurs ou passagers, en prenant en compte le sexe du conducteur "
   ]
  },
  {
   "cell_type": "markdown",
   "metadata": {},
   "source": [
    "On met sous forme d'un dataframe les proportions que l'on vient de calculer, dans le but de réaliser un graphique. "
   ]
  },
  {
   "cell_type": "code",
   "execution_count": 57,
   "metadata": {},
   "outputs": [],
   "source": [
    "df_conduct_passagers = pd.DataFrame({'Conductrice (F)': [prop_conduct_f_c_tues,prop_conduct_f_p_tues], 'Conducteur (H)': [prop_conduct_h_c_tues,prop_conduct_h_p_tues]}, index=['Conducteurs tués','Passagers tués'])"
   ]
  },
  {
   "cell_type": "code",
   "execution_count": 58,
   "metadata": {},
   "outputs": [
    {
     "data": {
      "text/html": [
       "<div>\n",
       "<style scoped>\n",
       "    .dataframe tbody tr th:only-of-type {\n",
       "        vertical-align: middle;\n",
       "    }\n",
       "\n",
       "    .dataframe tbody tr th {\n",
       "        vertical-align: top;\n",
       "    }\n",
       "\n",
       "    .dataframe thead th {\n",
       "        text-align: right;\n",
       "    }\n",
       "</style>\n",
       "<table border=\"1\" class=\"dataframe\">\n",
       "  <thead>\n",
       "    <tr style=\"text-align: right;\">\n",
       "      <th></th>\n",
       "      <th>Conductrice (F)</th>\n",
       "      <th>Conducteur (H)</th>\n",
       "    </tr>\n",
       "  </thead>\n",
       "  <tbody>\n",
       "    <tr>\n",
       "      <th>Conducteurs tués</th>\n",
       "      <td>1.475977</td>\n",
       "      <td>2.879791</td>\n",
       "    </tr>\n",
       "    <tr>\n",
       "      <th>Passagers tués</th>\n",
       "      <td>0.446785</td>\n",
       "      <td>0.634860</td>\n",
       "    </tr>\n",
       "  </tbody>\n",
       "</table>\n",
       "</div>"
      ],
      "text/plain": [
       "                  Conductrice (F)  Conducteur (H)\n",
       "Conducteurs tués         1.475977        2.879791\n",
       "Passagers tués           0.446785        0.634860"
      ]
     },
     "execution_count": 58,
     "metadata": {},
     "output_type": "execute_result"
    }
   ],
   "source": [
    "df_conduct_passagers"
   ]
  },
  {
   "cell_type": "markdown",
   "metadata": {},
   "source": [
    "Réalisation du graphique"
   ]
  },
  {
   "cell_type": "code",
   "execution_count": 59,
   "metadata": {},
   "outputs": [
    {
     "data": {
      "application/vnd.plotly.v1+json": {
       "config": {
        "plotlyServerURL": "https://plot.ly"
       },
       "data": [
        {
         "marker": {
          "color": "darkslateblue",
          "line": {
           "color": "white",
           "width": 2
          }
         },
         "name": "Conducteur (H)",
         "opacity": 0.75,
         "type": "bar",
         "x": [
          "Conducteur",
          "Passager"
         ],
         "y": [
          2.8797912566911363,
          0.6348604012331168
         ]
        },
        {
         "marker": {
          "color": "darkorange",
          "line": {
           "color": "white",
           "width": 2
          }
         },
         "name": "Conductrice (F)",
         "opacity": 0.75,
         "type": "bar",
         "x": [
          "Conducteur",
          "Passager"
         ],
         "y": [
          1.4759774924253355,
          0.4467849757129803
         ]
        }
       ],
       "layout": {
        "bargap": 0.5,
        "barmode": "group",
        "height": 600,
        "margin": {
         "b": 10,
         "l": 50,
         "r": 20,
         "t": 60
        },
        "paper_bgcolor": "#f2f5f9",
        "template": {
         "data": {
          "bar": [
           {
            "error_x": {
             "color": "#2a3f5f"
            },
            "error_y": {
             "color": "#2a3f5f"
            },
            "marker": {
             "line": {
              "color": "#E5ECF6",
              "width": 0.5
             },
             "pattern": {
              "fillmode": "overlay",
              "size": 10,
              "solidity": 0.2
             }
            },
            "type": "bar"
           }
          ],
          "barpolar": [
           {
            "marker": {
             "line": {
              "color": "#E5ECF6",
              "width": 0.5
             },
             "pattern": {
              "fillmode": "overlay",
              "size": 10,
              "solidity": 0.2
             }
            },
            "type": "barpolar"
           }
          ],
          "carpet": [
           {
            "aaxis": {
             "endlinecolor": "#2a3f5f",
             "gridcolor": "white",
             "linecolor": "white",
             "minorgridcolor": "white",
             "startlinecolor": "#2a3f5f"
            },
            "baxis": {
             "endlinecolor": "#2a3f5f",
             "gridcolor": "white",
             "linecolor": "white",
             "minorgridcolor": "white",
             "startlinecolor": "#2a3f5f"
            },
            "type": "carpet"
           }
          ],
          "choropleth": [
           {
            "colorbar": {
             "outlinewidth": 0,
             "ticks": ""
            },
            "type": "choropleth"
           }
          ],
          "contour": [
           {
            "colorbar": {
             "outlinewidth": 0,
             "ticks": ""
            },
            "colorscale": [
             [
              0,
              "#0d0887"
             ],
             [
              0.1111111111111111,
              "#46039f"
             ],
             [
              0.2222222222222222,
              "#7201a8"
             ],
             [
              0.3333333333333333,
              "#9c179e"
             ],
             [
              0.4444444444444444,
              "#bd3786"
             ],
             [
              0.5555555555555556,
              "#d8576b"
             ],
             [
              0.6666666666666666,
              "#ed7953"
             ],
             [
              0.7777777777777778,
              "#fb9f3a"
             ],
             [
              0.8888888888888888,
              "#fdca26"
             ],
             [
              1,
              "#f0f921"
             ]
            ],
            "type": "contour"
           }
          ],
          "contourcarpet": [
           {
            "colorbar": {
             "outlinewidth": 0,
             "ticks": ""
            },
            "type": "contourcarpet"
           }
          ],
          "heatmap": [
           {
            "colorbar": {
             "outlinewidth": 0,
             "ticks": ""
            },
            "colorscale": [
             [
              0,
              "#0d0887"
             ],
             [
              0.1111111111111111,
              "#46039f"
             ],
             [
              0.2222222222222222,
              "#7201a8"
             ],
             [
              0.3333333333333333,
              "#9c179e"
             ],
             [
              0.4444444444444444,
              "#bd3786"
             ],
             [
              0.5555555555555556,
              "#d8576b"
             ],
             [
              0.6666666666666666,
              "#ed7953"
             ],
             [
              0.7777777777777778,
              "#fb9f3a"
             ],
             [
              0.8888888888888888,
              "#fdca26"
             ],
             [
              1,
              "#f0f921"
             ]
            ],
            "type": "heatmap"
           }
          ],
          "heatmapgl": [
           {
            "colorbar": {
             "outlinewidth": 0,
             "ticks": ""
            },
            "colorscale": [
             [
              0,
              "#0d0887"
             ],
             [
              0.1111111111111111,
              "#46039f"
             ],
             [
              0.2222222222222222,
              "#7201a8"
             ],
             [
              0.3333333333333333,
              "#9c179e"
             ],
             [
              0.4444444444444444,
              "#bd3786"
             ],
             [
              0.5555555555555556,
              "#d8576b"
             ],
             [
              0.6666666666666666,
              "#ed7953"
             ],
             [
              0.7777777777777778,
              "#fb9f3a"
             ],
             [
              0.8888888888888888,
              "#fdca26"
             ],
             [
              1,
              "#f0f921"
             ]
            ],
            "type": "heatmapgl"
           }
          ],
          "histogram": [
           {
            "marker": {
             "pattern": {
              "fillmode": "overlay",
              "size": 10,
              "solidity": 0.2
             }
            },
            "type": "histogram"
           }
          ],
          "histogram2d": [
           {
            "colorbar": {
             "outlinewidth": 0,
             "ticks": ""
            },
            "colorscale": [
             [
              0,
              "#0d0887"
             ],
             [
              0.1111111111111111,
              "#46039f"
             ],
             [
              0.2222222222222222,
              "#7201a8"
             ],
             [
              0.3333333333333333,
              "#9c179e"
             ],
             [
              0.4444444444444444,
              "#bd3786"
             ],
             [
              0.5555555555555556,
              "#d8576b"
             ],
             [
              0.6666666666666666,
              "#ed7953"
             ],
             [
              0.7777777777777778,
              "#fb9f3a"
             ],
             [
              0.8888888888888888,
              "#fdca26"
             ],
             [
              1,
              "#f0f921"
             ]
            ],
            "type": "histogram2d"
           }
          ],
          "histogram2dcontour": [
           {
            "colorbar": {
             "outlinewidth": 0,
             "ticks": ""
            },
            "colorscale": [
             [
              0,
              "#0d0887"
             ],
             [
              0.1111111111111111,
              "#46039f"
             ],
             [
              0.2222222222222222,
              "#7201a8"
             ],
             [
              0.3333333333333333,
              "#9c179e"
             ],
             [
              0.4444444444444444,
              "#bd3786"
             ],
             [
              0.5555555555555556,
              "#d8576b"
             ],
             [
              0.6666666666666666,
              "#ed7953"
             ],
             [
              0.7777777777777778,
              "#fb9f3a"
             ],
             [
              0.8888888888888888,
              "#fdca26"
             ],
             [
              1,
              "#f0f921"
             ]
            ],
            "type": "histogram2dcontour"
           }
          ],
          "mesh3d": [
           {
            "colorbar": {
             "outlinewidth": 0,
             "ticks": ""
            },
            "type": "mesh3d"
           }
          ],
          "parcoords": [
           {
            "line": {
             "colorbar": {
              "outlinewidth": 0,
              "ticks": ""
             }
            },
            "type": "parcoords"
           }
          ],
          "pie": [
           {
            "automargin": true,
            "type": "pie"
           }
          ],
          "scatter": [
           {
            "fillpattern": {
             "fillmode": "overlay",
             "size": 10,
             "solidity": 0.2
            },
            "type": "scatter"
           }
          ],
          "scatter3d": [
           {
            "line": {
             "colorbar": {
              "outlinewidth": 0,
              "ticks": ""
             }
            },
            "marker": {
             "colorbar": {
              "outlinewidth": 0,
              "ticks": ""
             }
            },
            "type": "scatter3d"
           }
          ],
          "scattercarpet": [
           {
            "marker": {
             "colorbar": {
              "outlinewidth": 0,
              "ticks": ""
             }
            },
            "type": "scattercarpet"
           }
          ],
          "scattergeo": [
           {
            "marker": {
             "colorbar": {
              "outlinewidth": 0,
              "ticks": ""
             }
            },
            "type": "scattergeo"
           }
          ],
          "scattergl": [
           {
            "marker": {
             "colorbar": {
              "outlinewidth": 0,
              "ticks": ""
             }
            },
            "type": "scattergl"
           }
          ],
          "scattermapbox": [
           {
            "marker": {
             "colorbar": {
              "outlinewidth": 0,
              "ticks": ""
             }
            },
            "type": "scattermapbox"
           }
          ],
          "scatterpolar": [
           {
            "marker": {
             "colorbar": {
              "outlinewidth": 0,
              "ticks": ""
             }
            },
            "type": "scatterpolar"
           }
          ],
          "scatterpolargl": [
           {
            "marker": {
             "colorbar": {
              "outlinewidth": 0,
              "ticks": ""
             }
            },
            "type": "scatterpolargl"
           }
          ],
          "scatterternary": [
           {
            "marker": {
             "colorbar": {
              "outlinewidth": 0,
              "ticks": ""
             }
            },
            "type": "scatterternary"
           }
          ],
          "surface": [
           {
            "colorbar": {
             "outlinewidth": 0,
             "ticks": ""
            },
            "colorscale": [
             [
              0,
              "#0d0887"
             ],
             [
              0.1111111111111111,
              "#46039f"
             ],
             [
              0.2222222222222222,
              "#7201a8"
             ],
             [
              0.3333333333333333,
              "#9c179e"
             ],
             [
              0.4444444444444444,
              "#bd3786"
             ],
             [
              0.5555555555555556,
              "#d8576b"
             ],
             [
              0.6666666666666666,
              "#ed7953"
             ],
             [
              0.7777777777777778,
              "#fb9f3a"
             ],
             [
              0.8888888888888888,
              "#fdca26"
             ],
             [
              1,
              "#f0f921"
             ]
            ],
            "type": "surface"
           }
          ],
          "table": [
           {
            "cells": {
             "fill": {
              "color": "#EBF0F8"
             },
             "line": {
              "color": "white"
             }
            },
            "header": {
             "fill": {
              "color": "#C8D4E3"
             },
             "line": {
              "color": "white"
             }
            },
            "type": "table"
           }
          ]
         },
         "layout": {
          "annotationdefaults": {
           "arrowcolor": "#2a3f5f",
           "arrowhead": 0,
           "arrowwidth": 1
          },
          "autotypenumbers": "strict",
          "coloraxis": {
           "colorbar": {
            "outlinewidth": 0,
            "ticks": ""
           }
          },
          "colorscale": {
           "diverging": [
            [
             0,
             "#8e0152"
            ],
            [
             0.1,
             "#c51b7d"
            ],
            [
             0.2,
             "#de77ae"
            ],
            [
             0.3,
             "#f1b6da"
            ],
            [
             0.4,
             "#fde0ef"
            ],
            [
             0.5,
             "#f7f7f7"
            ],
            [
             0.6,
             "#e6f5d0"
            ],
            [
             0.7,
             "#b8e186"
            ],
            [
             0.8,
             "#7fbc41"
            ],
            [
             0.9,
             "#4d9221"
            ],
            [
             1,
             "#276419"
            ]
           ],
           "sequential": [
            [
             0,
             "#0d0887"
            ],
            [
             0.1111111111111111,
             "#46039f"
            ],
            [
             0.2222222222222222,
             "#7201a8"
            ],
            [
             0.3333333333333333,
             "#9c179e"
            ],
            [
             0.4444444444444444,
             "#bd3786"
            ],
            [
             0.5555555555555556,
             "#d8576b"
            ],
            [
             0.6666666666666666,
             "#ed7953"
            ],
            [
             0.7777777777777778,
             "#fb9f3a"
            ],
            [
             0.8888888888888888,
             "#fdca26"
            ],
            [
             1,
             "#f0f921"
            ]
           ],
           "sequentialminus": [
            [
             0,
             "#0d0887"
            ],
            [
             0.1111111111111111,
             "#46039f"
            ],
            [
             0.2222222222222222,
             "#7201a8"
            ],
            [
             0.3333333333333333,
             "#9c179e"
            ],
            [
             0.4444444444444444,
             "#bd3786"
            ],
            [
             0.5555555555555556,
             "#d8576b"
            ],
            [
             0.6666666666666666,
             "#ed7953"
            ],
            [
             0.7777777777777778,
             "#fb9f3a"
            ],
            [
             0.8888888888888888,
             "#fdca26"
            ],
            [
             1,
             "#f0f921"
            ]
           ]
          },
          "colorway": [
           "#636efa",
           "#EF553B",
           "#00cc96",
           "#ab63fa",
           "#FFA15A",
           "#19d3f3",
           "#FF6692",
           "#B6E880",
           "#FF97FF",
           "#FECB52"
          ],
          "font": {
           "color": "#2a3f5f"
          },
          "geo": {
           "bgcolor": "white",
           "lakecolor": "white",
           "landcolor": "#E5ECF6",
           "showlakes": true,
           "showland": true,
           "subunitcolor": "white"
          },
          "hoverlabel": {
           "align": "left"
          },
          "hovermode": "closest",
          "mapbox": {
           "style": "light"
          },
          "paper_bgcolor": "white",
          "plot_bgcolor": "#E5ECF6",
          "polar": {
           "angularaxis": {
            "gridcolor": "white",
            "linecolor": "white",
            "ticks": ""
           },
           "bgcolor": "#E5ECF6",
           "radialaxis": {
            "gridcolor": "white",
            "linecolor": "white",
            "ticks": ""
           }
          },
          "scene": {
           "xaxis": {
            "backgroundcolor": "#E5ECF6",
            "gridcolor": "white",
            "gridwidth": 2,
            "linecolor": "white",
            "showbackground": true,
            "ticks": "",
            "zerolinecolor": "white"
           },
           "yaxis": {
            "backgroundcolor": "#E5ECF6",
            "gridcolor": "white",
            "gridwidth": 2,
            "linecolor": "white",
            "showbackground": true,
            "ticks": "",
            "zerolinecolor": "white"
           },
           "zaxis": {
            "backgroundcolor": "#E5ECF6",
            "gridcolor": "white",
            "gridwidth": 2,
            "linecolor": "white",
            "showbackground": true,
            "ticks": "",
            "zerolinecolor": "white"
           }
          },
          "shapedefaults": {
           "line": {
            "color": "#2a3f5f"
           }
          },
          "ternary": {
           "aaxis": {
            "gridcolor": "white",
            "linecolor": "white",
            "ticks": ""
           },
           "baxis": {
            "gridcolor": "white",
            "linecolor": "white",
            "ticks": ""
           },
           "bgcolor": "#E5ECF6",
           "caxis": {
            "gridcolor": "white",
            "linecolor": "white",
            "ticks": ""
           }
          },
          "title": {
           "x": 0.05
          },
          "xaxis": {
           "automargin": true,
           "gridcolor": "white",
           "linecolor": "white",
           "ticks": "",
           "title": {
            "standoff": 15
           },
           "zerolinecolor": "white",
           "zerolinewidth": 2
          },
          "yaxis": {
           "automargin": true,
           "gridcolor": "white",
           "linecolor": "white",
           "ticks": "",
           "title": {
            "standoff": 15
           },
           "zerolinecolor": "white",
           "zerolinewidth": 2
          }
         }
        },
        "title": {
         "text": "Proportion de conducteurs (resp. passagers) tués, selon le sexe du conducteur"
        },
        "width": 1000,
        "xaxis": {
         "title": {
          "font": {
           "size": 15
          },
          "text": "Place de l'occupant"
         }
        },
        "yaxis": {
         "tickvals": [
          0,
          0.15,
          0.3,
          0.44999999999999996,
          0.6,
          0.75,
          0.8999999999999999,
          1.05,
          1.2,
          1.3499999999999999,
          1.5,
          1.65,
          1.7999999999999998,
          1.95,
          2.1,
          2.25,
          2.4,
          2.55,
          2.6999999999999997,
          2.85,
          3,
          3.15,
          3.3,
          3.4499999999999997,
          3.5999999999999996,
          3.75,
          3.9,
          4.05,
          4.2,
          4.35
         ],
         "title": {
          "font": {
           "size": 15
          },
          "text": "Proportion (%)"
         }
        }
       }
      }
     },
     "metadata": {},
     "output_type": "display_data"
    }
   ],
   "source": [
    "place=[\"Conducteur\",\"Passager\"]\n",
    "\n",
    "# Création de la figure\n",
    "fig3 = go.Figure()\n",
    "\n",
    "# Colonnes avec conducteurs hommes\n",
    "fig3.add_trace( go.Bar(name='Conducteur (H)', x=place, y=df_conduct_passagers[\"Conducteur (H)\"], marker_color=\"darkslateblue\") )\n",
    "# Colonnes avec conductrices\n",
    "fig3.add_trace( go.Bar(name='Conductrice (F)', x=place, y=df_conduct_passagers[\"Conductrice (F)\"], marker_color=\"darkorange\") )\n",
    "\n",
    "\n",
    "# Paramètres des colonnes\n",
    "fig3.update_traces(\n",
    "            marker_line_color='white',        # couleur du contour des colonnes\n",
    "            marker_line_width=2,              # épaisseur du contour des colonnes\n",
    "            opacity=0.75                      # opacité des colonnes (compris entre 0 et 1)\n",
    "        )\n",
    "\n",
    "# Paramètres de la fenêtre graphique et des axes\n",
    "fig3.update_layout(\n",
    "    barmode='group',\n",
    "    title_text=\"Proportion de conducteurs (resp. passagers) tués, selon le sexe du conducteur\",\n",
    "    margin=dict(l=50, r=20, t=60, b=10),  # marges du graphique\n",
    "    paper_bgcolor=\"#f2f5f9\",              # couleur de fond\n",
    "    width=1000,                           # largeur du graphique\n",
    "    height=600,                           # hauteur du graphique\n",
    "    bargap=0.5,                           # écart entre les colonnes\n",
    "\n",
    "    yaxis=dict(\n",
    "        title_text=\"Proportion (%)\",\n",
    "        tickvals=np.arange(0,4.5,0.15),   # graduations de l'axe y\n",
    "        titlefont=dict(size=15),\n",
    "    ),\n",
    "    xaxis=dict(\n",
    "        title_text=\"Place de l'occupant\",\n",
    "        titlefont=dict(size=15),\n",
    "    ))\n",
    "\n",
    "fig3.show()"
   ]
  },
  {
   "cell_type": "markdown",
   "metadata": {},
   "source": [
    "Ce graphique mets en avant qu'il y a plus de conducteurs tués que de passagers en terme de proportion.\n",
    "On voit aussi qu'il y a un maintient de l'écart entre les hommes et les femmes concernant les proportions de conducteurs tués : les conductrices sont moins tuées que les conducteurs. Parcontre, on constate que concernant les passagers tués, la différence est moins importante selon que le conducteur soit un homme ou une femme, en comparaison avec les conducteurs tués, puisqu'on obtient une différence de seulement environ 0.18% contre 1.40% de différence pour les conducteurs."
   ]
  },
  {
   "cell_type": "markdown",
   "metadata": {},
   "source": [
    "Ce graphique permet donc de compléter les informations obtenues avec les précédents, et nous permet de nuancer le propos concernant les différences en termes de proportions d'occupants tués, entre les conducteurs hommes et les conductrices. On conclut donc que de manière générale, les accidents semblent plus mortels lorsque le conducteur est un homme plutôt qu'une femme. Néanmoins, pour les accidents les plus mortels pour les occupants de véhicules (à compter de 3 occupants tués et plus), la différence est peu marquée entre les conducteurs hommes et femmes. De plus, on constate que généralement, il y a plus de conducteurs tués que de passagers tués en terme de proportion."
   ]
  }
 ],
 "metadata": {
  "kernelspec": {
   "display_name": "Python 3 (ipykernel)",
   "language": "python",
   "name": "python3"
  },
  "language_info": {
   "codemirror_mode": {
    "name": "ipython",
    "version": 3
   },
   "file_extension": ".py",
   "mimetype": "text/x-python",
   "name": "python",
   "nbconvert_exporter": "python",
   "pygments_lexer": "ipython3",
   "version": "3.10.3"
  },
  "vscode": {
   "interpreter": {
    "hash": "68a94d0b7709fbc038a49b279b99387e453bdbaff8311c6caf647d62ecba4bb1"
   }
  }
 },
 "nbformat": 4,
 "nbformat_minor": 2
}
