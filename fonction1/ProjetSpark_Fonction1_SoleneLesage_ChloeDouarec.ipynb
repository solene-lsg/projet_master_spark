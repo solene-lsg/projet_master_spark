{
 "cells": [
  {
   "cell_type": "code",
   "execution_count": 1,
   "metadata": {
    "colab": {
     "base_uri": "https://localhost:8080/"
    },
    "id": "buGMmyAXvjXe",
    "outputId": "3bd3f1c2-56be-49dc-8e19-a0faa7c2dbed"
   },
   "outputs": [
    {
     "name": "stdout",
     "output_type": "stream",
     "text": [
      "Looking in indexes: https://pypi.org/simple, https://us-python.pkg.dev/colab-wheels/public/simple/\n",
      "Collecting pyspark\n",
      "  Downloading pyspark-3.3.1.tar.gz (281.4 MB)\n",
      "\u001b[K     |████████████████████████████████| 281.4 MB 42 kB/s \n",
      "\u001b[?25hCollecting py4j==0.10.9.5\n",
      "  Downloading py4j-0.10.9.5-py2.py3-none-any.whl (199 kB)\n",
      "\u001b[K     |████████████████████████████████| 199 kB 56.6 MB/s \n",
      "\u001b[?25hBuilding wheels for collected packages: pyspark\n",
      "  Building wheel for pyspark (setup.py) ... \u001b[?25l\u001b[?25hdone\n",
      "  Created wheel for pyspark: filename=pyspark-3.3.1-py2.py3-none-any.whl size=281845514 sha256=b664a46500de0f2f750cbed70b0b5c54257aa2a7d233c644deb5e2c0e58608af\n",
      "  Stored in directory: /root/.cache/pip/wheels/42/59/f5/79a5bf931714dcd201b26025347785f087370a10a3329a899c\n",
      "Successfully built pyspark\n",
      "Installing collected packages: py4j, pyspark\n",
      "Successfully installed py4j-0.10.9.5 pyspark-3.3.1\n"
     ]
    }
   ],
   "source": [
    "pip install pyspark"
   ]
  },
  {
   "cell_type": "code",
   "execution_count": 2,
   "metadata": {
    "id": "LOdMp5o7jAQq"
   },
   "outputs": [],
   "source": [
    "import pandas as pd\n",
    "import numpy as np\n",
    "import matplotlib.pyplot as plt\n",
    "import matplotlib.axis\n",
    "import plotly.graph_objects as go\n",
    "\n",
    "from pyspark.sql import SparkSession\n",
    "spark  = SparkSession.builder.master(\"local\").appName('ProjetSpark').getOrCreate()\n",
    "\n",
    "from pyspark.sql.functions import *\n",
    "from pyspark.ml.feature import VectorAssembler\n",
    "from pyspark.ml.regression import LinearRegression"
   ]
  },
  {
   "cell_type": "markdown",
   "metadata": {
    "id": "mU1-UMRfGZUw"
   },
   "source": [
    "# Projet 2 : Accidents de la circulation en France"
   ]
  },
  {
   "cell_type": "markdown",
   "metadata": {
    "id": "rNUC5nbhw-es"
   },
   "source": [
    "## Première partie : Nombre d'accidents suivant l'éclairage\n",
    "**Objectif :**\n",
    "\n",
    "On souhaite représenter graphiquement le nombre d’accident en fonction de la catégorie d’éclairage. \n",
    "\n",
    "On dispose de la colonne Num_Acc du jeu de données caracteristiques qui correspond au numéro de l'enregistrement de l'accident.\n",
    "\n",
    "Par ailleurs, on distingue 5 conditions différentes d'éclairage suivant l'accident produit (donné par la variable lum du jeu de données caracteristiques également) : \n",
    "- Plein jour\n",
    "- Crépuscule ou aube\n",
    "- Nuit sans éclairage public\n",
    "- Nuit avec éclairage public non allumé\n",
    "- Nuit avec éclairage public allumé"
   ]
  },
  {
   "cell_type": "markdown",
   "metadata": {
    "id": "URuza8VQyQpe"
   },
   "source": [
    "### On parcourt l'ensemble des fichiers .csv année par année pour l'ensemble des rubriques"
   ]
  },
  {
   "cell_type": "code",
   "execution_count": 3,
   "metadata": {
    "colab": {
     "base_uri": "https://localhost:8080/"
    },
    "id": "9Mgk-d0dk3sP",
    "outputId": "4dd9bbbb-4718-44cc-def0-de698e725115"
   },
   "outputs": [
    {
     "name": "stdout",
     "output_type": "stream",
     "text": [
      "listecaract ['accidents/caracteristiques_2011.csv', 'accidents/caracteristiques_2012.csv', 'accidents/caracteristiques_2013.csv', 'accidents/caracteristiques_2014.csv', 'accidents/caracteristiques_2015.csv', 'accidents/caracteristiques_2016.csv', 'accidents/caracteristiques_2017.csv', 'accidents/caracteristiques_2018.csv']\n"
     ]
    }
   ],
   "source": [
    "# Construction des 4 bases de données\n",
    "\n",
    "years = range(2011, 2019) # listes des années\n",
    "\n",
    "liste_caract = []\n",
    "liste_lieux = []\n",
    "liste_usagers = []\n",
    "liste_vehicules = []\n",
    "\n",
    "for year in years:\n",
    "    caracteristiques = 'accidents/caracteristiques_{}.csv'.format(year)\n",
    "    liste_caract.append(caracteristiques)\n",
    "\n",
    "    lieux = 'accidents/lieux_{}.csv'.format(year)\n",
    "    liste_lieux.append(lieux)\n",
    "\n",
    "    usagers = 'accidents/usagers_{}.csv'.format(year)\n",
    "    liste_usagers.append(usagers)\n",
    "\n",
    "    vehicules = 'accidents/vehicules_{}.csv'.format(year)\n",
    "    liste_vehicules.append(vehicules)\n",
    "\n",
    "# Affichage des fichiers qui composent la base de données caracteristiques\n",
    "print(\"listecaract\", liste_caract)"
   ]
  },
  {
   "cell_type": "markdown",
   "metadata": {
    "id": "EMwql-bKC-6D"
   },
   "source": [
    "### Visualisation du jeu de données caractéristiques \n",
    "\n",
    "Nous allons seulement utiliser le jeu de données caracteristiques pour cette partie."
   ]
  },
  {
   "cell_type": "code",
   "execution_count": 4,
   "metadata": {
    "colab": {
     "base_uri": "https://localhost:8080/"
    },
    "id": "g_RWBqrRlIhB",
    "outputId": "291d15ea-e55b-4463-f3a6-5e52f1420469"
   },
   "outputs": [
    {
     "name": "stdout",
     "output_type": "stream",
     "text": [
      "+------------+---+----+----+----+---+---+---+---+---+---+--------------------+---+-------+-------+---+\n",
      "|     Num_Acc| an|mois|jour|hrmn|lum|agg|int|atm|col|com|                 adr|gps|    lat|   long|dep|\n",
      "+------------+---+----+----+----+---+---+---+---+---+---+--------------------+---+-------+-------+---+\n",
      "|201100000001| 11|   1|  22|1400|  1|  2|  1|  1|  3|005|     RUE DE L'EGLISE|  M|5053589|0295262|590|\n",
      "|201100000002| 11|   6|  24|1500|  1|  1|  1|  1|  3|011|       Rue de Carvin|  M|5051652|0293898|590|\n",
      "|201100000003| 11|   9|  16| 645|  2|  2|  1|  1|  6|052|      rue de la gare|  M|5051080|0290322|590|\n",
      "|201100000004| 11|   9|  22|1515|  1|  2|  1|  1|  5|011|     rue de Touraine|  M|5051861|0293043|590|\n",
      "|201100000005| 11|  10|  24|1545|  1|  2|  1|  1|  6|011|    90 rue nationale|  M|5052506|0293541|590|\n",
      "|201100000006| 11|  11|  14|1745|  5|  2|  1|  1|  2|011|       RUE NATIONALE|  M|5052684|0293423|590|\n",
      "|201100000007| 11|   4|   8|1600|  1|  1|  1|  1|  3|320|                null|  M|5055959|0283988|590|\n",
      "|201100000008| 11|   4|  13|1830|  1|  1|  1|  8|  3|051|      Route de Lille|  M|5054176|0281974|590|\n",
      "|201100000009| 11|   4|  24| 130|  5|  1|  6|  1|  6|550|                null|  M|5054272|0283791|590|\n",
      "|201100000010| 11|   5|  27|1915|  1|  2|  9|  1|  6|257|           RUE NEUVE|  M|5060795|0285411|590|\n",
      "|201100000011| 11|   6|  13|1900|  1|  2|  1|  1|  6|257|62 rue du Vert to...|  M|5062633|0286057|590|\n",
      "|201100000012| 11|  10|  26|1500|  1|  2|  1|  1|  3|051| 18 Rue Gabriel PERI|  M|5053225|0281286|590|\n",
      "|201100000013| 11|  11|  11| 300|  5|  2|  6|  1|  6|388|   route de sainghin|  M|5055377|0287350|590|\n",
      "|201100000014| 11|  11|  16|1745|  5|  1|  1|  5|  1|320|rd point rte nati...|  M|5055752|0283702|590|\n",
      "|201100000015| 11|  11|  28| 815|  1|  2|  6|  1|  6|051|         Ave Pasteur|  M|5053838|0280836|590|\n",
      "|201100000016| 11|  11|  27|1615|  2|  1|  1|  1|  2|320|       rte nationale|  M|5055706|0283591|590|\n",
      "|201100000017| 11|   1|   7|1730|  5|  1|  1|  2|  3|256|Blvd du Petit Qui...|  M|5057680|0312425|590|\n",
      "|201100000018| 11|   1|  14|2100|  5|  2|  1|  1|  1|256|Bd du petit quinquin|  M|5057687|0312868|590|\n",
      "|201100000019| 11|   1|  20| 700|  2|  1|  1|  9|  7|071|  rue de la Carcasse|  M|5047118|0314093|590|\n",
      "|201100000020| 11|   1|  27|1800|  5|  2|  1|  1|  3|256|8 rue Calmette Gu...|  M|5055818|0313667|590|\n",
      "+------------+---+----+----+----+---+---+---+---+---+---+--------------------+---+-------+-------+---+\n",
      "only showing top 20 rows\n",
      "\n"
     ]
    }
   ],
   "source": [
    "# Initialisation de la variable df1 : le premier .csv de caracteristiques (année 2011)\n",
    "df1 = spark.read.load(liste_caract[0], format = 'csv', header=True) \n",
    "\n",
    "# On parcourt à compter de la deuxième année pour réaliser les jointures année par année\n",
    "for dataframe in liste_caract:\n",
    "    data_caract = spark.read.load(dataframe, format = 'csv', header=True)     # Chargement du fichier csv\n",
    "    df1 = df1.unionByName(data_caract)                                        # Jointure sur les colonnes\n",
    "\n",
    "# Affiche seulement les premières lignes de df1\n",
    "df1.show()\n",
    "\n",
    "# Vérification que la jointure 2018 fonctionne bien\n",
    "#df1.tail(10)"
   ]
  },
  {
   "cell_type": "code",
   "execution_count": 5,
   "metadata": {
    "colab": {
     "base_uri": "https://localhost:8080/"
    },
    "id": "mTwE-KJdWw9i",
    "outputId": "bc2f01a5-8c1e-4791-d15f-34a3fa4867c5"
   },
   "outputs": [
    {
     "name": "stdout",
     "output_type": "stream",
     "text": [
      "Le jeu de données caractéristiques contient 551019 lignes.\n"
     ]
    }
   ],
   "source": [
    "# Nombre de lignes dans le dataframe\n",
    "df1.count()\n",
    "print(f\"Le jeu de données caractéristiques contient {df1.count()} lignes.\")"
   ]
  },
  {
   "cell_type": "markdown",
   "metadata": {
    "id": "tdH-2NWHG1V7"
   },
   "source": [
    "### Nombre d'accidents total"
   ]
  },
  {
   "cell_type": "markdown",
   "metadata": {
    "id": "vJIwUAeDg6NQ"
   },
   "source": [
    "Un enregistrement correspond à un véhicule accidenté. On s'assure qu'il n'y a pas de doublons dans ce jeu de données.\n",
    "C'est bien le cas car dans le jeu de données caractéristiques, un accident correspond à une ligne, on ne fait pas la distinction sur le véhicule touché (pas de colonne num_veh). Chaque ligne est bien unique."
   ]
  },
  {
   "cell_type": "code",
   "execution_count": null,
   "metadata": {
    "id": "zDySGrV5HIQX"
   },
   "outputs": [],
   "source": [
    "# Enlève les doublons dans la colonne Num_Acc du jeu de données caracteristiques\n",
    "df1_sans_doublons = df1.select(\"Num_Acc\")\n",
    "df1_sans_doublons.distinct()                # enlève les doublons dans le nouveau dataframe (colonne Num_Acc)\n",
    "df1_sans_doublons.show()                    \n",
    "df1_sans_doublons.count()                   # compter le nombre de lignes : 551019 qui correspond au nombre d'accidents"
   ]
  },
  {
   "cell_type": "code",
   "execution_count": 7,
   "metadata": {
    "colab": {
     "base_uri": "https://localhost:8080/"
    },
    "id": "CesakXedxmaS",
    "outputId": "9d946e8c-03c1-402b-a444-e0f38eb46f81"
   },
   "outputs": [
    {
     "name": "stdout",
     "output_type": "stream",
     "text": [
      "Il y a 551019 accidents enregistrés entre 2011 et 2018.\n"
     ]
    }
   ],
   "source": [
    "print(f\"Il y a {df1.count()} accidents enregistrés entre 2011 et 2018.\")"
   ]
  },
  {
   "cell_type": "markdown",
   "metadata": {
    "id": "XTpg3aN8iKPi"
   },
   "source": [
    "### Transformation du jeu de données caracteristiques en DataFrame Pandas."
   ]
  },
  {
   "cell_type": "code",
   "execution_count": 8,
   "metadata": {
    "colab": {
     "base_uri": "https://localhost:8080/"
    },
    "id": "OcW6vTL9isug",
    "outputId": "3ed4fff2-1cf5-4ed7-ea00-35c9f1bbe3e4"
   },
   "outputs": [
    {
     "name": "stdout",
     "output_type": "stream",
     "text": [
      "+------------+---+----+----+----+---+---+---+---+---+---+--------------------+---+-------+-------+---+\n",
      "|     Num_Acc| an|mois|jour|hrmn|lum|agg|int|atm|col|com|                 adr|gps|    lat|   long|dep|\n",
      "+------------+---+----+----+----+---+---+---+---+---+---+--------------------+---+-------+-------+---+\n",
      "|201100000001| 11|   1|  22|1400|  1|  2|  1|  1|  3|005|     RUE DE L'EGLISE|  M|5053589|0295262|590|\n",
      "|201100000002| 11|   6|  24|1500|  1|  1|  1|  1|  3|011|       Rue de Carvin|  M|5051652|0293898|590|\n",
      "|201100000003| 11|   9|  16| 645|  2|  2|  1|  1|  6|052|      rue de la gare|  M|5051080|0290322|590|\n",
      "|201100000004| 11|   9|  22|1515|  1|  2|  1|  1|  5|011|     rue de Touraine|  M|5051861|0293043|590|\n",
      "|201100000005| 11|  10|  24|1545|  1|  2|  1|  1|  6|011|    90 rue nationale|  M|5052506|0293541|590|\n",
      "|201100000006| 11|  11|  14|1745|  5|  2|  1|  1|  2|011|       RUE NATIONALE|  M|5052684|0293423|590|\n",
      "|201100000007| 11|   4|   8|1600|  1|  1|  1|  1|  3|320|                null|  M|5055959|0283988|590|\n",
      "|201100000008| 11|   4|  13|1830|  1|  1|  1|  8|  3|051|      Route de Lille|  M|5054176|0281974|590|\n",
      "|201100000009| 11|   4|  24| 130|  5|  1|  6|  1|  6|550|                null|  M|5054272|0283791|590|\n",
      "|201100000010| 11|   5|  27|1915|  1|  2|  9|  1|  6|257|           RUE NEUVE|  M|5060795|0285411|590|\n",
      "|201100000011| 11|   6|  13|1900|  1|  2|  1|  1|  6|257|62 rue du Vert to...|  M|5062633|0286057|590|\n",
      "|201100000012| 11|  10|  26|1500|  1|  2|  1|  1|  3|051| 18 Rue Gabriel PERI|  M|5053225|0281286|590|\n",
      "|201100000013| 11|  11|  11| 300|  5|  2|  6|  1|  6|388|   route de sainghin|  M|5055377|0287350|590|\n",
      "|201100000014| 11|  11|  16|1745|  5|  1|  1|  5|  1|320|rd point rte nati...|  M|5055752|0283702|590|\n",
      "|201100000015| 11|  11|  28| 815|  1|  2|  6|  1|  6|051|         Ave Pasteur|  M|5053838|0280836|590|\n",
      "|201100000016| 11|  11|  27|1615|  2|  1|  1|  1|  2|320|       rte nationale|  M|5055706|0283591|590|\n",
      "|201100000017| 11|   1|   7|1730|  5|  1|  1|  2|  3|256|Blvd du Petit Qui...|  M|5057680|0312425|590|\n",
      "|201100000018| 11|   1|  14|2100|  5|  2|  1|  1|  1|256|Bd du petit quinquin|  M|5057687|0312868|590|\n",
      "|201100000019| 11|   1|  20| 700|  2|  1|  1|  9|  7|071|  rue de la Carcasse|  M|5047118|0314093|590|\n",
      "|201100000020| 11|   1|  27|1800|  5|  2|  1|  1|  3|256|8 rue Calmette Gu...|  M|5055818|0313667|590|\n",
      "+------------+---+----+----+----+---+---+---+---+---+---+--------------------+---+-------+-------+---+\n",
      "only showing top 20 rows\n",
      "\n"
     ]
    }
   ],
   "source": [
    "# Visualisation du jeu de données en Dataframe de Spark\n",
    "df1.show()"
   ]
  },
  {
   "cell_type": "code",
   "execution_count": 9,
   "metadata": {
    "colab": {
     "base_uri": "https://localhost:8080/"
    },
    "id": "OFoab4Nx8FpN",
    "outputId": "0ac45f36-04b9-406d-f4a0-51c9a1fda8f1"
   },
   "outputs": [
    {
     "name": "stdout",
     "output_type": "stream",
     "text": [
      "root\n",
      " |-- Num_Acc: string (nullable = true)\n",
      " |-- an: string (nullable = true)\n",
      " |-- mois: string (nullable = true)\n",
      " |-- jour: string (nullable = true)\n",
      " |-- hrmn: string (nullable = true)\n",
      " |-- lum: string (nullable = true)\n",
      " |-- agg: string (nullable = true)\n",
      " |-- int: string (nullable = true)\n",
      " |-- atm: string (nullable = true)\n",
      " |-- col: string (nullable = true)\n",
      " |-- com: string (nullable = true)\n",
      " |-- adr: string (nullable = true)\n",
      " |-- gps: string (nullable = true)\n",
      " |-- lat: string (nullable = true)\n",
      " |-- long: string (nullable = true)\n",
      " |-- dep: string (nullable = true)\n",
      "\n"
     ]
    }
   ],
   "source": [
    "# Affichage du Schéma du dataframe\n",
    "df1.printSchema()"
   ]
  },
  {
   "cell_type": "code",
   "execution_count": 10,
   "metadata": {
    "colab": {
     "base_uri": "https://localhost:8080/"
    },
    "id": "OT_3lssECRqj",
    "outputId": "b95f9bbc-71f8-496a-a9a8-b788075a8bef"
   },
   "outputs": [
    {
     "data": {
      "text/plain": [
       "pyspark.sql.dataframe.DataFrame"
      ]
     },
     "execution_count": 10,
     "metadata": {},
     "output_type": "execute_result"
    }
   ],
   "source": [
    "type(df1)"
   ]
  },
  {
   "cell_type": "code",
   "execution_count": 11,
   "metadata": {
    "colab": {
     "base_uri": "https://localhost:8080/"
    },
    "id": "ovRGPttUDwYf",
    "outputId": "11783321-a1f9-48d8-f09d-ff742541cf0a"
   },
   "outputs": [
    {
     "name": "stdout",
     "output_type": "stream",
     "text": [
      "             Num_Acc  an mois jour  hrmn lum agg int atm col  com  \\\n",
      "0       201100000001  11    1   22  1400   1   2   1   1   3  005   \n",
      "1       201100000002  11    6   24  1500   1   1   1   1   3  011   \n",
      "2       201100000003  11    9   16   645   2   2   1   1   6  052   \n",
      "3       201100000004  11    9   22  1515   1   2   1   1   5  011   \n",
      "4       201100000005  11   10   24  1545   1   2   1   1   6  011   \n",
      "...              ...  ..  ...  ...   ...  ..  ..  ..  ..  ..  ...   \n",
      "551014  201800057779  18   12   15  1050   1   2   1   1   6  611   \n",
      "551015  201800057780  18   12   16   610   2   2   1   1   3  611   \n",
      "551016  201800057781  18   12   22  2150   5   2   1   1   6  611   \n",
      "551017  201800057782  18   12   23  1945   5   2   1   1   1  611   \n",
      "551018  201800057783  18   12   28  1425   1   2   1   1   1  611   \n",
      "\n",
      "                             adr gps      lat     long  dep  \n",
      "0                RUE DE L'EGLISE   M  5053589  0295262  590  \n",
      "1                  Rue de Carvin   M  5051652  0293898  590  \n",
      "2                 rue de la gare   M  5051080  0290322  590  \n",
      "3                rue de Touraine   M  5051861  0293043  590  \n",
      "4               90 rue nationale   M  5052506  0293541  590  \n",
      "...                          ...  ..      ...      ...  ...  \n",
      "551014  passamanty-Sada ( rue de   Y  1280217  4521356  976  \n",
      "551015  mamoudzou centre-Command   Y  1278120  4523436  976  \n",
      "551016   kaweni-SPPM ( rue de la   Y  1276930  4522409  976  \n",
      "551017   cavani-Kavani sud ( rue   Y  1278622  4522036  976  \n",
      "551018  m'tsapere-Nationale 2 (r   Y  1278943  4522408  976  \n",
      "\n",
      "[551019 rows x 16 columns]\n"
     ]
    }
   ],
   "source": [
    "# Convertir Dataframe de Spark en Dataframe de Pandas\n",
    "df_pandas = df1.toPandas()\n",
    "print(df_pandas)"
   ]
  },
  {
   "cell_type": "code",
   "execution_count": 12,
   "metadata": {
    "colab": {
     "base_uri": "https://localhost:8080/"
    },
    "id": "MnT6yawwD8to",
    "outputId": "1318449e-54fe-4621-a060-98025bdd4186"
   },
   "outputs": [
    {
     "data": {
      "text/plain": [
       "pandas.core.frame.DataFrame"
      ]
     },
     "execution_count": 12,
     "metadata": {},
     "output_type": "execute_result"
    }
   ],
   "source": [
    "type(df_pandas)"
   ]
  },
  {
   "cell_type": "markdown",
   "metadata": {
    "id": "KOUQEWd-ie-N"
   },
   "source": [
    "### Nombre d'accidents pour les différents types d'éclairage"
   ]
  },
  {
   "cell_type": "code",
   "execution_count": 13,
   "metadata": {
    "colab": {
     "base_uri": "https://localhost:8080/",
     "height": 206
    },
    "id": "_ChwVFalT_wq",
    "outputId": "fce3a18a-5367-4f12-dfa5-cb6d31f9d3bd"
   },
   "outputs": [
    {
     "data": {
      "text/html": [
       "\n",
       "  <div id=\"df-d26e3542-a1c5-439c-9c91-89d6ba9a420a\">\n",
       "    <div class=\"colab-df-container\">\n",
       "      <div>\n",
       "<style scoped>\n",
       "    .dataframe tbody tr th:only-of-type {\n",
       "        vertical-align: middle;\n",
       "    }\n",
       "\n",
       "    .dataframe tbody tr th {\n",
       "        vertical-align: top;\n",
       "    }\n",
       "\n",
       "    .dataframe thead th {\n",
       "        text-align: right;\n",
       "    }\n",
       "</style>\n",
       "<table border=\"1\" class=\"dataframe\">\n",
       "  <thead>\n",
       "    <tr style=\"text-align: right;\">\n",
       "      <th></th>\n",
       "      <th>lum</th>\n",
       "      <th>Num_Acc</th>\n",
       "    </tr>\n",
       "  </thead>\n",
       "  <tbody>\n",
       "    <tr>\n",
       "      <th>0</th>\n",
       "      <td>1</td>\n",
       "      <td>376779</td>\n",
       "    </tr>\n",
       "    <tr>\n",
       "      <th>1</th>\n",
       "      <td>2</td>\n",
       "      <td>33715</td>\n",
       "    </tr>\n",
       "    <tr>\n",
       "      <th>2</th>\n",
       "      <td>3</td>\n",
       "      <td>45326</td>\n",
       "    </tr>\n",
       "    <tr>\n",
       "      <th>3</th>\n",
       "      <td>4</td>\n",
       "      <td>4897</td>\n",
       "    </tr>\n",
       "    <tr>\n",
       "      <th>4</th>\n",
       "      <td>5</td>\n",
       "      <td>90302</td>\n",
       "    </tr>\n",
       "  </tbody>\n",
       "</table>\n",
       "</div>\n",
       "      <button class=\"colab-df-convert\" onclick=\"convertToInteractive('df-d26e3542-a1c5-439c-9c91-89d6ba9a420a')\"\n",
       "              title=\"Convert this dataframe to an interactive table.\"\n",
       "              style=\"display:none;\">\n",
       "        \n",
       "  <svg xmlns=\"http://www.w3.org/2000/svg\" height=\"24px\"viewBox=\"0 0 24 24\"\n",
       "       width=\"24px\">\n",
       "    <path d=\"M0 0h24v24H0V0z\" fill=\"none\"/>\n",
       "    <path d=\"M18.56 5.44l.94 2.06.94-2.06 2.06-.94-2.06-.94-.94-2.06-.94 2.06-2.06.94zm-11 1L8.5 8.5l.94-2.06 2.06-.94-2.06-.94L8.5 2.5l-.94 2.06-2.06.94zm10 10l.94 2.06.94-2.06 2.06-.94-2.06-.94-.94-2.06-.94 2.06-2.06.94z\"/><path d=\"M17.41 7.96l-1.37-1.37c-.4-.4-.92-.59-1.43-.59-.52 0-1.04.2-1.43.59L10.3 9.45l-7.72 7.72c-.78.78-.78 2.05 0 2.83L4 21.41c.39.39.9.59 1.41.59.51 0 1.02-.2 1.41-.59l7.78-7.78 2.81-2.81c.8-.78.8-2.07 0-2.86zM5.41 20L4 18.59l7.72-7.72 1.47 1.35L5.41 20z\"/>\n",
       "  </svg>\n",
       "      </button>\n",
       "      \n",
       "  <style>\n",
       "    .colab-df-container {\n",
       "      display:flex;\n",
       "      flex-wrap:wrap;\n",
       "      gap: 12px;\n",
       "    }\n",
       "\n",
       "    .colab-df-convert {\n",
       "      background-color: #E8F0FE;\n",
       "      border: none;\n",
       "      border-radius: 50%;\n",
       "      cursor: pointer;\n",
       "      display: none;\n",
       "      fill: #1967D2;\n",
       "      height: 32px;\n",
       "      padding: 0 0 0 0;\n",
       "      width: 32px;\n",
       "    }\n",
       "\n",
       "    .colab-df-convert:hover {\n",
       "      background-color: #E2EBFA;\n",
       "      box-shadow: 0px 1px 2px rgba(60, 64, 67, 0.3), 0px 1px 3px 1px rgba(60, 64, 67, 0.15);\n",
       "      fill: #174EA6;\n",
       "    }\n",
       "\n",
       "    [theme=dark] .colab-df-convert {\n",
       "      background-color: #3B4455;\n",
       "      fill: #D2E3FC;\n",
       "    }\n",
       "\n",
       "    [theme=dark] .colab-df-convert:hover {\n",
       "      background-color: #434B5C;\n",
       "      box-shadow: 0px 1px 3px 1px rgba(0, 0, 0, 0.15);\n",
       "      filter: drop-shadow(0px 1px 2px rgba(0, 0, 0, 0.3));\n",
       "      fill: #FFFFFF;\n",
       "    }\n",
       "  </style>\n",
       "\n",
       "      <script>\n",
       "        const buttonEl =\n",
       "          document.querySelector('#df-d26e3542-a1c5-439c-9c91-89d6ba9a420a button.colab-df-convert');\n",
       "        buttonEl.style.display =\n",
       "          google.colab.kernel.accessAllowed ? 'block' : 'none';\n",
       "\n",
       "        async function convertToInteractive(key) {\n",
       "          const element = document.querySelector('#df-d26e3542-a1c5-439c-9c91-89d6ba9a420a');\n",
       "          const dataTable =\n",
       "            await google.colab.kernel.invokeFunction('convertToInteractive',\n",
       "                                                     [key], {});\n",
       "          if (!dataTable) return;\n",
       "\n",
       "          const docLinkHtml = 'Like what you see? Visit the ' +\n",
       "            '<a target=\"_blank\" href=https://colab.research.google.com/notebooks/data_table.ipynb>data table notebook</a>'\n",
       "            + ' to learn more about interactive tables.';\n",
       "          element.innerHTML = '';\n",
       "          dataTable['output_type'] = 'display_data';\n",
       "          await google.colab.output.renderOutput(dataTable, element);\n",
       "          const docLink = document.createElement('div');\n",
       "          docLink.innerHTML = docLinkHtml;\n",
       "          element.appendChild(docLink);\n",
       "        }\n",
       "      </script>\n",
       "    </div>\n",
       "  </div>\n",
       "  "
      ],
      "text/plain": [
       "  lum  Num_Acc\n",
       "0   1   376779\n",
       "1   2    33715\n",
       "2   3    45326\n",
       "3   4     4897\n",
       "4   5    90302"
      ]
     },
     "execution_count": 13,
     "metadata": {},
     "output_type": "execute_result"
    }
   ],
   "source": [
    "data = df_pandas.groupby('lum')['Num_Acc'].count()\n",
    "data = data.reset_index()\n",
    "data"
   ]
  },
  {
   "cell_type": "markdown",
   "metadata": {
    "id": "BK9ASxOqZ_Y9"
   },
   "source": [
    "### Représentation graphique : Histogramme (Nombre d'accidents en fonction de l'éclairage)"
   ]
  },
  {
   "cell_type": "code",
   "execution_count": 15,
   "metadata": {
    "colab": {
     "base_uri": "https://localhost:8080/",
     "height": 406
    },
    "id": "e69Kd5D6zHaB",
    "outputId": "3b61561f-bced-42d3-f400-4e2350ef6cbc"
   },
   "outputs": [
    {
     "data": {
      "image/png": "[encoded data removed]",
      "text/plain": [
       "<Figure size 720x432 with 1 Axes>"
      ]
     },
     "metadata": {
      "needs_background": "light"
     },
     "output_type": "display_data"
    }
   ],
   "source": [
    "plt.figure(figsize=(10,6))\n",
    "\n",
    "# Représentation de l'histogramme\n",
    "plt.bar(data['lum'], data['Num_Acc'])\n",
    "\n",
    "plt.title(\"Nombre d'accidents en fonction de l'éclairage\", fontname =\"Liberation Sans\", fontsize=14, fontweight='bold')\n",
    "\n",
    "# Ajouter les titres des axes avec xlabel et ylabel\n",
    "plt.xlabel(\"Type d'éclairage\")\n",
    "plt.ylabel(\"Nombre d'accidents\")\n",
    "\n",
    "# Afficher valeurs textuelles des ordonnées\n",
    "ac = data['Num_Acc'].tolist() # variable Num_Acc dans une liste\n",
    "#print(ac)\n",
    "for i in range(5):\n",
    "  plt.text(i-0.2, ac[i]+2000, ac[i])\n",
    "\n",
    "plt.show()"
   ]
  },
  {
   "cell_type": "markdown",
   "metadata": {},
   "source": [
    "Sur ce graphique, on observe que la majorité des accidents ont lieu le jour."
   ]
  },
  {
   "cell_type": "markdown",
   "metadata": {
    "id": "nBy2fLelZ0LM"
   },
   "source": [
    "### Autre représentation graphique : Diagramme circulaire (Pourcentage d'accidents en fonction de l'éclairage)"
   ]
  },
  {
   "cell_type": "code",
   "execution_count": 16,
   "metadata": {
    "colab": {
     "base_uri": "https://localhost:8080/",
     "height": 381
    },
    "id": "xKtRn4wjzXP5",
    "outputId": "6b6fea73-9b79-4e56-f87a-72a37f732c0a"
   },
   "outputs": [
    {
     "data": {
      "image/png": "[encoded data removed]",
      "text/plain": [
       "<Figure size 720x432 with 1 Axes>"
      ]
     },
     "metadata": {},
     "output_type": "display_data"
    }
   ],
   "source": [
    "plt.figure(figsize=(10,6))\n",
    "lumiere=['1 : Plein jour', '2 : Crépuscule ou aube', '3 : Nuit sans éclairage public', '4 : Nuit avec éclairage public non allumé', '5 : Nuit avec éclairage public allumé']\n",
    "\n",
    "explode = (0.1, 0.0, 0.2, 0.3, 0.0)\n",
    "plt.pie(x=data['Num_Acc'], labels=data['lum'], explode = explode, autopct='%.2f%%', shadow=True)\n",
    "\n",
    "plt.title(\"Pourcentage d'accidents en fonction de l'éclairage\", fontname =\"Liberation Sans\", fontsize=14, fontweight='bold')\n",
    "plt.legend(lumiere, loc =\"center left\", bbox_to_anchor =(1, 0, 0.5, 1), title=\"Type d'éclairage\")\n",
    "plt.show()"
   ]
  },
  {
   "cell_type": "markdown",
   "metadata": {},
   "source": [
    "Cet autre représentation graphique nous montre la proportion des accidents en fonction de l'éclairage. \n",
    "\n",
    "On constate que 68% des accidents se produisent en plein jour (part en bleu).\n",
    "\n",
    "Par ailleurs, on remarque que seulement moins de 1% des accidents se produisent la nuit avec éclairage public non allumé contre 16% des accidents la nuit avec éclairage public allumé. Il semblerait que l'éclairage public allumé la nuit augmente les accidents, ce qui est une observation raisonnable.\n",
    "\n",
    "Par ailleurs, la proportion des accidents la nuit sans éclairage public est de l'ordre de 8% contre 1% pour la nuit avec éclairage public non allumé. Il semblerait ici qu'il existe un autre facteur supplémentaire que le type d'éclairage qui favorise les accidents, on peut supposer que c'est la vitesse (vitesse supérieure à 50km/h hors agglomération)."
   ]
  },
  {
   "cell_type": "markdown",
   "metadata": {
    "id": "9vqymOBHjoy5"
   },
   "source": [
    "### Agréger les données : sélection des colonnes utiles"
   ]
  },
  {
   "cell_type": "code",
   "execution_count": 17,
   "metadata": {
    "colab": {
     "base_uri": "https://localhost:8080/",
     "height": 1000
    },
    "id": "OBVYPxhFaRPT",
    "outputId": "262db090-c666-49da-bedd-43eee52bac3c"
   },
   "outputs": [
    {
     "data": {
      "text/html": [
       "\n",
       "  <div id=\"df-67d7b278-12b4-4415-b1b0-57b009c4a1f3\">\n",
       "    <div class=\"colab-df-container\">\n",
       "      <div>\n",
       "<style scoped>\n",
       "    .dataframe tbody tr th:only-of-type {\n",
       "        vertical-align: middle;\n",
       "    }\n",
       "\n",
       "    .dataframe tbody tr th {\n",
       "        vertical-align: top;\n",
       "    }\n",
       "\n",
       "    .dataframe thead th {\n",
       "        text-align: right;\n",
       "    }\n",
       "</style>\n",
       "<table border=\"1\" class=\"dataframe\">\n",
       "  <thead>\n",
       "    <tr style=\"text-align: right;\">\n",
       "      <th></th>\n",
       "      <th>lum</th>\n",
       "      <th>an</th>\n",
       "      <th>Num_Acc</th>\n",
       "    </tr>\n",
       "  </thead>\n",
       "  <tbody>\n",
       "    <tr>\n",
       "      <th>0</th>\n",
       "      <td>1</td>\n",
       "      <td>11</td>\n",
       "      <td>92538</td>\n",
       "    </tr>\n",
       "    <tr>\n",
       "      <th>1</th>\n",
       "      <td>1</td>\n",
       "      <td>12</td>\n",
       "      <td>42322</td>\n",
       "    </tr>\n",
       "    <tr>\n",
       "      <th>2</th>\n",
       "      <td>1</td>\n",
       "      <td>13</td>\n",
       "      <td>40098</td>\n",
       "    </tr>\n",
       "    <tr>\n",
       "      <th>3</th>\n",
       "      <td>1</td>\n",
       "      <td>14</td>\n",
       "      <td>41049</td>\n",
       "    </tr>\n",
       "    <tr>\n",
       "      <th>4</th>\n",
       "      <td>1</td>\n",
       "      <td>15</td>\n",
       "      <td>40598</td>\n",
       "    </tr>\n",
       "    <tr>\n",
       "      <th>5</th>\n",
       "      <td>1</td>\n",
       "      <td>16</td>\n",
       "      <td>40578</td>\n",
       "    </tr>\n",
       "    <tr>\n",
       "      <th>6</th>\n",
       "      <td>1</td>\n",
       "      <td>17</td>\n",
       "      <td>40895</td>\n",
       "    </tr>\n",
       "    <tr>\n",
       "      <th>7</th>\n",
       "      <td>1</td>\n",
       "      <td>18</td>\n",
       "      <td>38701</td>\n",
       "    </tr>\n",
       "    <tr>\n",
       "      <th>8</th>\n",
       "      <td>2</td>\n",
       "      <td>11</td>\n",
       "      <td>7726</td>\n",
       "    </tr>\n",
       "    <tr>\n",
       "      <th>9</th>\n",
       "      <td>2</td>\n",
       "      <td>12</td>\n",
       "      <td>3764</td>\n",
       "    </tr>\n",
       "    <tr>\n",
       "      <th>10</th>\n",
       "      <td>2</td>\n",
       "      <td>13</td>\n",
       "      <td>3564</td>\n",
       "    </tr>\n",
       "    <tr>\n",
       "      <th>11</th>\n",
       "      <td>2</td>\n",
       "      <td>14</td>\n",
       "      <td>3617</td>\n",
       "    </tr>\n",
       "    <tr>\n",
       "      <th>12</th>\n",
       "      <td>2</td>\n",
       "      <td>15</td>\n",
       "      <td>3479</td>\n",
       "    </tr>\n",
       "    <tr>\n",
       "      <th>13</th>\n",
       "      <td>2</td>\n",
       "      <td>16</td>\n",
       "      <td>3568</td>\n",
       "    </tr>\n",
       "    <tr>\n",
       "      <th>14</th>\n",
       "      <td>2</td>\n",
       "      <td>17</td>\n",
       "      <td>4158</td>\n",
       "    </tr>\n",
       "    <tr>\n",
       "      <th>15</th>\n",
       "      <td>2</td>\n",
       "      <td>18</td>\n",
       "      <td>3839</td>\n",
       "    </tr>\n",
       "    <tr>\n",
       "      <th>16</th>\n",
       "      <td>3</td>\n",
       "      <td>11</td>\n",
       "      <td>10416</td>\n",
       "    </tr>\n",
       "    <tr>\n",
       "      <th>17</th>\n",
       "      <td>3</td>\n",
       "      <td>12</td>\n",
       "      <td>4813</td>\n",
       "    </tr>\n",
       "    <tr>\n",
       "      <th>18</th>\n",
       "      <td>3</td>\n",
       "      <td>13</td>\n",
       "      <td>4467</td>\n",
       "    </tr>\n",
       "    <tr>\n",
       "      <th>19</th>\n",
       "      <td>3</td>\n",
       "      <td>14</td>\n",
       "      <td>4620</td>\n",
       "    </tr>\n",
       "    <tr>\n",
       "      <th>20</th>\n",
       "      <td>3</td>\n",
       "      <td>15</td>\n",
       "      <td>4746</td>\n",
       "    </tr>\n",
       "    <tr>\n",
       "      <th>21</th>\n",
       "      <td>3</td>\n",
       "      <td>16</td>\n",
       "      <td>5089</td>\n",
       "    </tr>\n",
       "    <tr>\n",
       "      <th>22</th>\n",
       "      <td>3</td>\n",
       "      <td>17</td>\n",
       "      <td>5601</td>\n",
       "    </tr>\n",
       "    <tr>\n",
       "      <th>23</th>\n",
       "      <td>3</td>\n",
       "      <td>18</td>\n",
       "      <td>5574</td>\n",
       "    </tr>\n",
       "    <tr>\n",
       "      <th>24</th>\n",
       "      <td>4</td>\n",
       "      <td>11</td>\n",
       "      <td>1114</td>\n",
       "    </tr>\n",
       "    <tr>\n",
       "      <th>25</th>\n",
       "      <td>4</td>\n",
       "      <td>12</td>\n",
       "      <td>619</td>\n",
       "    </tr>\n",
       "    <tr>\n",
       "      <th>26</th>\n",
       "      <td>4</td>\n",
       "      <td>13</td>\n",
       "      <td>565</td>\n",
       "    </tr>\n",
       "    <tr>\n",
       "      <th>27</th>\n",
       "      <td>4</td>\n",
       "      <td>14</td>\n",
       "      <td>548</td>\n",
       "    </tr>\n",
       "    <tr>\n",
       "      <th>28</th>\n",
       "      <td>4</td>\n",
       "      <td>15</td>\n",
       "      <td>454</td>\n",
       "    </tr>\n",
       "    <tr>\n",
       "      <th>29</th>\n",
       "      <td>4</td>\n",
       "      <td>16</td>\n",
       "      <td>508</td>\n",
       "    </tr>\n",
       "    <tr>\n",
       "      <th>30</th>\n",
       "      <td>4</td>\n",
       "      <td>17</td>\n",
       "      <td>514</td>\n",
       "    </tr>\n",
       "    <tr>\n",
       "      <th>31</th>\n",
       "      <td>4</td>\n",
       "      <td>18</td>\n",
       "      <td>575</td>\n",
       "    </tr>\n",
       "    <tr>\n",
       "      <th>32</th>\n",
       "      <td>5</td>\n",
       "      <td>11</td>\n",
       "      <td>22154</td>\n",
       "    </tr>\n",
       "    <tr>\n",
       "      <th>33</th>\n",
       "      <td>5</td>\n",
       "      <td>12</td>\n",
       "      <td>10732</td>\n",
       "    </tr>\n",
       "    <tr>\n",
       "      <th>34</th>\n",
       "      <td>5</td>\n",
       "      <td>13</td>\n",
       "      <td>9703</td>\n",
       "    </tr>\n",
       "    <tr>\n",
       "      <th>35</th>\n",
       "      <td>5</td>\n",
       "      <td>14</td>\n",
       "      <td>10020</td>\n",
       "    </tr>\n",
       "    <tr>\n",
       "      <th>36</th>\n",
       "      <td>5</td>\n",
       "      <td>15</td>\n",
       "      <td>9377</td>\n",
       "    </tr>\n",
       "    <tr>\n",
       "      <th>37</th>\n",
       "      <td>5</td>\n",
       "      <td>16</td>\n",
       "      <td>9689</td>\n",
       "    </tr>\n",
       "    <tr>\n",
       "      <th>38</th>\n",
       "      <td>5</td>\n",
       "      <td>17</td>\n",
       "      <td>9533</td>\n",
       "    </tr>\n",
       "    <tr>\n",
       "      <th>39</th>\n",
       "      <td>5</td>\n",
       "      <td>18</td>\n",
       "      <td>9094</td>\n",
       "    </tr>\n",
       "  </tbody>\n",
       "</table>\n",
       "</div>\n",
       "      <button class=\"colab-df-convert\" onclick=\"convertToInteractive('df-67d7b278-12b4-4415-b1b0-57b009c4a1f3')\"\n",
       "              title=\"Convert this dataframe to an interactive table.\"\n",
       "              style=\"display:none;\">\n",
       "        \n",
       "  <svg xmlns=\"http://www.w3.org/2000/svg\" height=\"24px\"viewBox=\"0 0 24 24\"\n",
       "       width=\"24px\">\n",
       "    <path d=\"M0 0h24v24H0V0z\" fill=\"none\"/>\n",
       "    <path d=\"M18.56 5.44l.94 2.06.94-2.06 2.06-.94-2.06-.94-.94-2.06-.94 2.06-2.06.94zm-11 1L8.5 8.5l.94-2.06 2.06-.94-2.06-.94L8.5 2.5l-.94 2.06-2.06.94zm10 10l.94 2.06.94-2.06 2.06-.94-2.06-.94-.94-2.06-.94 2.06-2.06.94z\"/><path d=\"M17.41 7.96l-1.37-1.37c-.4-.4-.92-.59-1.43-.59-.52 0-1.04.2-1.43.59L10.3 9.45l-7.72 7.72c-.78.78-.78 2.05 0 2.83L4 21.41c.39.39.9.59 1.41.59.51 0 1.02-.2 1.41-.59l7.78-7.78 2.81-2.81c.8-.78.8-2.07 0-2.86zM5.41 20L4 18.59l7.72-7.72 1.47 1.35L5.41 20z\"/>\n",
       "  </svg>\n",
       "      </button>\n",
       "      \n",
       "  <style>\n",
       "    .colab-df-container {\n",
       "      display:flex;\n",
       "      flex-wrap:wrap;\n",
       "      gap: 12px;\n",
       "    }\n",
       "\n",
       "    .colab-df-convert {\n",
       "      background-color: #E8F0FE;\n",
       "      border: none;\n",
       "      border-radius: 50%;\n",
       "      cursor: pointer;\n",
       "      display: none;\n",
       "      fill: #1967D2;\n",
       "      height: 32px;\n",
       "      padding: 0 0 0 0;\n",
       "      width: 32px;\n",
       "    }\n",
       "\n",
       "    .colab-df-convert:hover {\n",
       "      background-color: #E2EBFA;\n",
       "      box-shadow: 0px 1px 2px rgba(60, 64, 67, 0.3), 0px 1px 3px 1px rgba(60, 64, 67, 0.15);\n",
       "      fill: #174EA6;\n",
       "    }\n",
       "\n",
       "    [theme=dark] .colab-df-convert {\n",
       "      background-color: #3B4455;\n",
       "      fill: #D2E3FC;\n",
       "    }\n",
       "\n",
       "    [theme=dark] .colab-df-convert:hover {\n",
       "      background-color: #434B5C;\n",
       "      box-shadow: 0px 1px 3px 1px rgba(0, 0, 0, 0.15);\n",
       "      filter: drop-shadow(0px 1px 2px rgba(0, 0, 0, 0.3));\n",
       "      fill: #FFFFFF;\n",
       "    }\n",
       "  </style>\n",
       "\n",
       "      <script>\n",
       "        const buttonEl =\n",
       "          document.querySelector('#df-67d7b278-12b4-4415-b1b0-57b009c4a1f3 button.colab-df-convert');\n",
       "        buttonEl.style.display =\n",
       "          google.colab.kernel.accessAllowed ? 'block' : 'none';\n",
       "\n",
       "        async function convertToInteractive(key) {\n",
       "          const element = document.querySelector('#df-67d7b278-12b4-4415-b1b0-57b009c4a1f3');\n",
       "          const dataTable =\n",
       "            await google.colab.kernel.invokeFunction('convertToInteractive',\n",
       "                                                     [key], {});\n",
       "          if (!dataTable) return;\n",
       "\n",
       "          const docLinkHtml = 'Like what you see? Visit the ' +\n",
       "            '<a target=\"_blank\" href=https://colab.research.google.com/notebooks/data_table.ipynb>data table notebook</a>'\n",
       "            + ' to learn more about interactive tables.';\n",
       "          element.innerHTML = '';\n",
       "          dataTable['output_type'] = 'display_data';\n",
       "          await google.colab.output.renderOutput(dataTable, element);\n",
       "          const docLink = document.createElement('div');\n",
       "          docLink.innerHTML = docLinkHtml;\n",
       "          element.appendChild(docLink);\n",
       "        }\n",
       "      </script>\n",
       "    </div>\n",
       "  </div>\n",
       "  "
      ],
      "text/plain": [
       "   lum  an  Num_Acc\n",
       "0    1  11    92538\n",
       "1    1  12    42322\n",
       "2    1  13    40098\n",
       "3    1  14    41049\n",
       "4    1  15    40598\n",
       "5    1  16    40578\n",
       "6    1  17    40895\n",
       "7    1  18    38701\n",
       "8    2  11     7726\n",
       "9    2  12     3764\n",
       "10   2  13     3564\n",
       "11   2  14     3617\n",
       "12   2  15     3479\n",
       "13   2  16     3568\n",
       "14   2  17     4158\n",
       "15   2  18     3839\n",
       "16   3  11    10416\n",
       "17   3  12     4813\n",
       "18   3  13     4467\n",
       "19   3  14     4620\n",
       "20   3  15     4746\n",
       "21   3  16     5089\n",
       "22   3  17     5601\n",
       "23   3  18     5574\n",
       "24   4  11     1114\n",
       "25   4  12      619\n",
       "26   4  13      565\n",
       "27   4  14      548\n",
       "28   4  15      454\n",
       "29   4  16      508\n",
       "30   4  17      514\n",
       "31   4  18      575\n",
       "32   5  11    22154\n",
       "33   5  12    10732\n",
       "34   5  13     9703\n",
       "35   5  14    10020\n",
       "36   5  15     9377\n",
       "37   5  16     9689\n",
       "38   5  17     9533\n",
       "39   5  18     9094"
      ]
     },
     "execution_count": 17,
     "metadata": {},
     "output_type": "execute_result"
    }
   ],
   "source": [
    "# La fonction d'agrégation est la fonction count()\n",
    "data1 = df_pandas.groupby(['lum', 'an'])['Num_Acc'].count() # grouper les variables\n",
    "data2 = data1.reset_index()                                 # remplacer les index en colonnes\n",
    "data2"
   ]
  },
  {
   "cell_type": "code",
   "execution_count": 18,
   "metadata": {
    "colab": {
     "base_uri": "https://localhost:8080/",
     "height": 238
    },
    "id": "a2K4-EPNfQ4b",
    "outputId": "0a221079-509b-495c-9756-d982a889c329"
   },
   "outputs": [
    {
     "data": {
      "text/html": [
       "\n",
       "  <div id=\"df-60d3080a-e409-4944-8b6f-42964cdaf625\">\n",
       "    <div class=\"colab-df-container\">\n",
       "      <div>\n",
       "<style scoped>\n",
       "    .dataframe tbody tr th:only-of-type {\n",
       "        vertical-align: middle;\n",
       "    }\n",
       "\n",
       "    .dataframe tbody tr th {\n",
       "        vertical-align: top;\n",
       "    }\n",
       "\n",
       "    .dataframe thead th {\n",
       "        text-align: right;\n",
       "    }\n",
       "</style>\n",
       "<table border=\"1\" class=\"dataframe\">\n",
       "  <thead>\n",
       "    <tr style=\"text-align: right;\">\n",
       "      <th>an</th>\n",
       "      <th>11</th>\n",
       "      <th>12</th>\n",
       "      <th>13</th>\n",
       "      <th>14</th>\n",
       "      <th>15</th>\n",
       "      <th>16</th>\n",
       "      <th>17</th>\n",
       "      <th>18</th>\n",
       "    </tr>\n",
       "    <tr>\n",
       "      <th>lum</th>\n",
       "      <th></th>\n",
       "      <th></th>\n",
       "      <th></th>\n",
       "      <th></th>\n",
       "      <th></th>\n",
       "      <th></th>\n",
       "      <th></th>\n",
       "      <th></th>\n",
       "    </tr>\n",
       "  </thead>\n",
       "  <tbody>\n",
       "    <tr>\n",
       "      <th>1</th>\n",
       "      <td>92538</td>\n",
       "      <td>42322</td>\n",
       "      <td>40098</td>\n",
       "      <td>41049</td>\n",
       "      <td>40598</td>\n",
       "      <td>40578</td>\n",
       "      <td>40895</td>\n",
       "      <td>38701</td>\n",
       "    </tr>\n",
       "    <tr>\n",
       "      <th>2</th>\n",
       "      <td>7726</td>\n",
       "      <td>3764</td>\n",
       "      <td>3564</td>\n",
       "      <td>3617</td>\n",
       "      <td>3479</td>\n",
       "      <td>3568</td>\n",
       "      <td>4158</td>\n",
       "      <td>3839</td>\n",
       "    </tr>\n",
       "    <tr>\n",
       "      <th>3</th>\n",
       "      <td>10416</td>\n",
       "      <td>4813</td>\n",
       "      <td>4467</td>\n",
       "      <td>4620</td>\n",
       "      <td>4746</td>\n",
       "      <td>5089</td>\n",
       "      <td>5601</td>\n",
       "      <td>5574</td>\n",
       "    </tr>\n",
       "    <tr>\n",
       "      <th>4</th>\n",
       "      <td>1114</td>\n",
       "      <td>619</td>\n",
       "      <td>565</td>\n",
       "      <td>548</td>\n",
       "      <td>454</td>\n",
       "      <td>508</td>\n",
       "      <td>514</td>\n",
       "      <td>575</td>\n",
       "    </tr>\n",
       "    <tr>\n",
       "      <th>5</th>\n",
       "      <td>22154</td>\n",
       "      <td>10732</td>\n",
       "      <td>9703</td>\n",
       "      <td>10020</td>\n",
       "      <td>9377</td>\n",
       "      <td>9689</td>\n",
       "      <td>9533</td>\n",
       "      <td>9094</td>\n",
       "    </tr>\n",
       "  </tbody>\n",
       "</table>\n",
       "</div>\n",
       "      <button class=\"colab-df-convert\" onclick=\"convertToInteractive('df-60d3080a-e409-4944-8b6f-42964cdaf625')\"\n",
       "              title=\"Convert this dataframe to an interactive table.\"\n",
       "              style=\"display:none;\">\n",
       "        \n",
       "  <svg xmlns=\"http://www.w3.org/2000/svg\" height=\"24px\"viewBox=\"0 0 24 24\"\n",
       "       width=\"24px\">\n",
       "    <path d=\"M0 0h24v24H0V0z\" fill=\"none\"/>\n",
       "    <path d=\"M18.56 5.44l.94 2.06.94-2.06 2.06-.94-2.06-.94-.94-2.06-.94 2.06-2.06.94zm-11 1L8.5 8.5l.94-2.06 2.06-.94-2.06-.94L8.5 2.5l-.94 2.06-2.06.94zm10 10l.94 2.06.94-2.06 2.06-.94-2.06-.94-.94-2.06-.94 2.06-2.06.94z\"/><path d=\"M17.41 7.96l-1.37-1.37c-.4-.4-.92-.59-1.43-.59-.52 0-1.04.2-1.43.59L10.3 9.45l-7.72 7.72c-.78.78-.78 2.05 0 2.83L4 21.41c.39.39.9.59 1.41.59.51 0 1.02-.2 1.41-.59l7.78-7.78 2.81-2.81c.8-.78.8-2.07 0-2.86zM5.41 20L4 18.59l7.72-7.72 1.47 1.35L5.41 20z\"/>\n",
       "  </svg>\n",
       "      </button>\n",
       "      \n",
       "  <style>\n",
       "    .colab-df-container {\n",
       "      display:flex;\n",
       "      flex-wrap:wrap;\n",
       "      gap: 12px;\n",
       "    }\n",
       "\n",
       "    .colab-df-convert {\n",
       "      background-color: #E8F0FE;\n",
       "      border: none;\n",
       "      border-radius: 50%;\n",
       "      cursor: pointer;\n",
       "      display: none;\n",
       "      fill: #1967D2;\n",
       "      height: 32px;\n",
       "      padding: 0 0 0 0;\n",
       "      width: 32px;\n",
       "    }\n",
       "\n",
       "    .colab-df-convert:hover {\n",
       "      background-color: #E2EBFA;\n",
       "      box-shadow: 0px 1px 2px rgba(60, 64, 67, 0.3), 0px 1px 3px 1px rgba(60, 64, 67, 0.15);\n",
       "      fill: #174EA6;\n",
       "    }\n",
       "\n",
       "    [theme=dark] .colab-df-convert {\n",
       "      background-color: #3B4455;\n",
       "      fill: #D2E3FC;\n",
       "    }\n",
       "\n",
       "    [theme=dark] .colab-df-convert:hover {\n",
       "      background-color: #434B5C;\n",
       "      box-shadow: 0px 1px 3px 1px rgba(0, 0, 0, 0.15);\n",
       "      filter: drop-shadow(0px 1px 2px rgba(0, 0, 0, 0.3));\n",
       "      fill: #FFFFFF;\n",
       "    }\n",
       "  </style>\n",
       "\n",
       "      <script>\n",
       "        const buttonEl =\n",
       "          document.querySelector('#df-60d3080a-e409-4944-8b6f-42964cdaf625 button.colab-df-convert');\n",
       "        buttonEl.style.display =\n",
       "          google.colab.kernel.accessAllowed ? 'block' : 'none';\n",
       "\n",
       "        async function convertToInteractive(key) {\n",
       "          const element = document.querySelector('#df-60d3080a-e409-4944-8b6f-42964cdaf625');\n",
       "          const dataTable =\n",
       "            await google.colab.kernel.invokeFunction('convertToInteractive',\n",
       "                                                     [key], {});\n",
       "          if (!dataTable) return;\n",
       "\n",
       "          const docLinkHtml = 'Like what you see? Visit the ' +\n",
       "            '<a target=\"_blank\" href=https://colab.research.google.com/notebooks/data_table.ipynb>data table notebook</a>'\n",
       "            + ' to learn more about interactive tables.';\n",
       "          element.innerHTML = '';\n",
       "          dataTable['output_type'] = 'display_data';\n",
       "          await google.colab.output.renderOutput(dataTable, element);\n",
       "          const docLink = document.createElement('div');\n",
       "          docLink.innerHTML = docLinkHtml;\n",
       "          element.appendChild(docLink);\n",
       "        }\n",
       "      </script>\n",
       "    </div>\n",
       "  </div>\n",
       "  "
      ],
      "text/plain": [
       "an      11     12     13     14     15     16     17     18\n",
       "lum                                                        \n",
       "1    92538  42322  40098  41049  40598  40578  40895  38701\n",
       "2     7726   3764   3564   3617   3479   3568   4158   3839\n",
       "3    10416   4813   4467   4620   4746   5089   5601   5574\n",
       "4     1114    619    565    548    454    508    514    575\n",
       "5    22154  10732   9703  10020   9377   9689   9533   9094"
      ]
     },
     "execution_count": 18,
     "metadata": {},
     "output_type": "execute_result"
    }
   ],
   "source": [
    "# Représentation de la colonne 'lum' en lignes et la colonne 'an' en colonnes\n",
    "data3 = df_pandas.pivot_table(index='lum', columns='an', values='Num_Acc', aggfunc='count')\n",
    "data3"
   ]
  },
  {
   "cell_type": "markdown",
   "metadata": {
    "id": "NEskd0FQm2wR"
   },
   "source": [
    "### Histogramme par année"
   ]
  },
  {
   "cell_type": "code",
   "execution_count": 19,
   "metadata": {
    "id": "2wSPq1DRnj-J"
   },
   "outputs": [],
   "source": [
    "# Création de dataframes pour avoir la transposée du dataframes (data3)\n",
    "d1 = data3.loc['1',:]\n",
    "d2 = data3.loc['2',:]\n",
    "d3 = data3.loc['3',:]\n",
    "d4 = data3.loc['4',:]\n",
    "d5 = data3.loc['5',:]"
   ]
  },
  {
   "cell_type": "code",
   "execution_count": 20,
   "metadata": {
    "colab": {
     "base_uri": "https://localhost:8080/",
     "height": 332
    },
    "id": "40i9-UERk_6C",
    "outputId": "6dadc69d-2aed-4972-f533-03731b6e48ac"
   },
   "outputs": [
    {
     "data": {
      "text/html": [
       "\n",
       "  <div id=\"df-b7b5fc6f-b308-43ac-a0b8-6e6b7cca7d8c\">\n",
       "    <div class=\"colab-df-container\">\n",
       "      <div>\n",
       "<style scoped>\n",
       "    .dataframe tbody tr th:only-of-type {\n",
       "        vertical-align: middle;\n",
       "    }\n",
       "\n",
       "    .dataframe tbody tr th {\n",
       "        vertical-align: top;\n",
       "    }\n",
       "\n",
       "    .dataframe thead th {\n",
       "        text-align: right;\n",
       "    }\n",
       "</style>\n",
       "<table border=\"1\" class=\"dataframe\">\n",
       "  <thead>\n",
       "    <tr style=\"text-align: right;\">\n",
       "      <th></th>\n",
       "      <th>1</th>\n",
       "      <th>2</th>\n",
       "      <th>3</th>\n",
       "      <th>4</th>\n",
       "      <th>5</th>\n",
       "    </tr>\n",
       "    <tr>\n",
       "      <th>an</th>\n",
       "      <th></th>\n",
       "      <th></th>\n",
       "      <th></th>\n",
       "      <th></th>\n",
       "      <th></th>\n",
       "    </tr>\n",
       "  </thead>\n",
       "  <tbody>\n",
       "    <tr>\n",
       "      <th>11</th>\n",
       "      <td>92538</td>\n",
       "      <td>7726</td>\n",
       "      <td>10416</td>\n",
       "      <td>1114</td>\n",
       "      <td>22154</td>\n",
       "    </tr>\n",
       "    <tr>\n",
       "      <th>12</th>\n",
       "      <td>42322</td>\n",
       "      <td>3764</td>\n",
       "      <td>4813</td>\n",
       "      <td>619</td>\n",
       "      <td>10732</td>\n",
       "    </tr>\n",
       "    <tr>\n",
       "      <th>13</th>\n",
       "      <td>40098</td>\n",
       "      <td>3564</td>\n",
       "      <td>4467</td>\n",
       "      <td>565</td>\n",
       "      <td>9703</td>\n",
       "    </tr>\n",
       "    <tr>\n",
       "      <th>14</th>\n",
       "      <td>41049</td>\n",
       "      <td>3617</td>\n",
       "      <td>4620</td>\n",
       "      <td>548</td>\n",
       "      <td>10020</td>\n",
       "    </tr>\n",
       "    <tr>\n",
       "      <th>15</th>\n",
       "      <td>40598</td>\n",
       "      <td>3479</td>\n",
       "      <td>4746</td>\n",
       "      <td>454</td>\n",
       "      <td>9377</td>\n",
       "    </tr>\n",
       "    <tr>\n",
       "      <th>16</th>\n",
       "      <td>40578</td>\n",
       "      <td>3568</td>\n",
       "      <td>5089</td>\n",
       "      <td>508</td>\n",
       "      <td>9689</td>\n",
       "    </tr>\n",
       "    <tr>\n",
       "      <th>17</th>\n",
       "      <td>40895</td>\n",
       "      <td>4158</td>\n",
       "      <td>5601</td>\n",
       "      <td>514</td>\n",
       "      <td>9533</td>\n",
       "    </tr>\n",
       "    <tr>\n",
       "      <th>18</th>\n",
       "      <td>38701</td>\n",
       "      <td>3839</td>\n",
       "      <td>5574</td>\n",
       "      <td>575</td>\n",
       "      <td>9094</td>\n",
       "    </tr>\n",
       "  </tbody>\n",
       "</table>\n",
       "</div>\n",
       "      <button class=\"colab-df-convert\" onclick=\"convertToInteractive('df-b7b5fc6f-b308-43ac-a0b8-6e6b7cca7d8c')\"\n",
       "              title=\"Convert this dataframe to an interactive table.\"\n",
       "              style=\"display:none;\">\n",
       "        \n",
       "  <svg xmlns=\"http://www.w3.org/2000/svg\" height=\"24px\"viewBox=\"0 0 24 24\"\n",
       "       width=\"24px\">\n",
       "    <path d=\"M0 0h24v24H0V0z\" fill=\"none\"/>\n",
       "    <path d=\"M18.56 5.44l.94 2.06.94-2.06 2.06-.94-2.06-.94-.94-2.06-.94 2.06-2.06.94zm-11 1L8.5 8.5l.94-2.06 2.06-.94-2.06-.94L8.5 2.5l-.94 2.06-2.06.94zm10 10l.94 2.06.94-2.06 2.06-.94-2.06-.94-.94-2.06-.94 2.06-2.06.94z\"/><path d=\"M17.41 7.96l-1.37-1.37c-.4-.4-.92-.59-1.43-.59-.52 0-1.04.2-1.43.59L10.3 9.45l-7.72 7.72c-.78.78-.78 2.05 0 2.83L4 21.41c.39.39.9.59 1.41.59.51 0 1.02-.2 1.41-.59l7.78-7.78 2.81-2.81c.8-.78.8-2.07 0-2.86zM5.41 20L4 18.59l7.72-7.72 1.47 1.35L5.41 20z\"/>\n",
       "  </svg>\n",
       "      </button>\n",
       "      \n",
       "  <style>\n",
       "    .colab-df-container {\n",
       "      display:flex;\n",
       "      flex-wrap:wrap;\n",
       "      gap: 12px;\n",
       "    }\n",
       "\n",
       "    .colab-df-convert {\n",
       "      background-color: #E8F0FE;\n",
       "      border: none;\n",
       "      border-radius: 50%;\n",
       "      cursor: pointer;\n",
       "      display: none;\n",
       "      fill: #1967D2;\n",
       "      height: 32px;\n",
       "      padding: 0 0 0 0;\n",
       "      width: 32px;\n",
       "    }\n",
       "\n",
       "    .colab-df-convert:hover {\n",
       "      background-color: #E2EBFA;\n",
       "      box-shadow: 0px 1px 2px rgba(60, 64, 67, 0.3), 0px 1px 3px 1px rgba(60, 64, 67, 0.15);\n",
       "      fill: #174EA6;\n",
       "    }\n",
       "\n",
       "    [theme=dark] .colab-df-convert {\n",
       "      background-color: #3B4455;\n",
       "      fill: #D2E3FC;\n",
       "    }\n",
       "\n",
       "    [theme=dark] .colab-df-convert:hover {\n",
       "      background-color: #434B5C;\n",
       "      box-shadow: 0px 1px 3px 1px rgba(0, 0, 0, 0.15);\n",
       "      filter: drop-shadow(0px 1px 2px rgba(0, 0, 0, 0.3));\n",
       "      fill: #FFFFFF;\n",
       "    }\n",
       "  </style>\n",
       "\n",
       "      <script>\n",
       "        const buttonEl =\n",
       "          document.querySelector('#df-b7b5fc6f-b308-43ac-a0b8-6e6b7cca7d8c button.colab-df-convert');\n",
       "        buttonEl.style.display =\n",
       "          google.colab.kernel.accessAllowed ? 'block' : 'none';\n",
       "\n",
       "        async function convertToInteractive(key) {\n",
       "          const element = document.querySelector('#df-b7b5fc6f-b308-43ac-a0b8-6e6b7cca7d8c');\n",
       "          const dataTable =\n",
       "            await google.colab.kernel.invokeFunction('convertToInteractive',\n",
       "                                                     [key], {});\n",
       "          if (!dataTable) return;\n",
       "\n",
       "          const docLinkHtml = 'Like what you see? Visit the ' +\n",
       "            '<a target=\"_blank\" href=https://colab.research.google.com/notebooks/data_table.ipynb>data table notebook</a>'\n",
       "            + ' to learn more about interactive tables.';\n",
       "          element.innerHTML = '';\n",
       "          dataTable['output_type'] = 'display_data';\n",
       "          await google.colab.output.renderOutput(dataTable, element);\n",
       "          const docLink = document.createElement('div');\n",
       "          docLink.innerHTML = docLinkHtml;\n",
       "          element.appendChild(docLink);\n",
       "        }\n",
       "      </script>\n",
       "    </div>\n",
       "  </div>\n",
       "  "
      ],
      "text/plain": [
       "        1     2      3     4      5\n",
       "an                                 \n",
       "11  92538  7726  10416  1114  22154\n",
       "12  42322  3764   4813   619  10732\n",
       "13  40098  3564   4467   565   9703\n",
       "14  41049  3617   4620   548  10020\n",
       "15  40598  3479   4746   454   9377\n",
       "16  40578  3568   5089   508   9689\n",
       "17  40895  4158   5601   514   9533\n",
       "18  38701  3839   5574   575   9094"
      ]
     },
     "execution_count": 20,
     "metadata": {},
     "output_type": "execute_result"
    }
   ],
   "source": [
    "# Concaténer les dataframes\n",
    "df_finalannees = pd.concat([d1, d2, d3, d4, d5], axis=1)\n",
    "df_finalannees"
   ]
  },
  {
   "cell_type": "code",
   "execution_count": 21,
   "metadata": {
    "colab": {
     "base_uri": "https://localhost:8080/",
     "height": 310
    },
    "id": "xl7FQom9f4oO",
    "outputId": "dcbb453f-3940-4e1d-986b-8d5546530988"
   },
   "outputs": [
    {
     "data": {
      "text/plain": [
       "<Figure size 1080x576 with 0 Axes>"
      ]
     },
     "metadata": {},
     "output_type": "display_data"
    },
    {
     "data": {
      "image/png": "[encoded data removed]",
      "text/plain": [
       "<Figure size 432x288 with 1 Axes>"
      ]
     },
     "metadata": {
      "needs_background": "light"
     },
     "output_type": "display_data"
    }
   ],
   "source": [
    "plt.figure(figsize=(15,8))\n",
    "\n",
    "df_finalannees.plot.bar(logy=True)\n",
    "lumiere=['Plein jour', 'Crépuscule ou aube', 'Nuit sans éclairage public', 'Nuit avec éclairage public non allumé', 'Nuit avec éclairage public allumé']\n",
    "\n",
    "# Renommer aux des abscisses\n",
    "plt.xticks([0, 1, 2,3,4,5,6,7], labels=['2011', '2012', '2013', '2014', '2015', '2016', '2017', '2018'],rotation=0)\n",
    "plt.legend(labels = lumiere, title = \"Type d'éclairage\", bbox_to_anchor=(1,0.8), fontsize=8, loc='upper left')\n",
    "\n",
    "plt.title(\"Nombre d'accidents suivant l'éclairage pour chaque année (2011 à 2018)\", fontname =\"Liberation Sans\", fontsize=10, fontweight='bold')\n",
    "plt.xlabel(\"Années\", fontsize = 10)\n",
    "plt.ylabel(\"Nombre d'accidents\", fontsize = 10)\n",
    "plt.show()"
   ]
  },
  {
   "cell_type": "markdown",
   "metadata": {
    "id": "YIjnb3AEmU8Y"
   },
   "source": [
    "### Autre représentation graphique : courbes (Evolution du nombre d'accidents suivant l'éclairage pour chaque année (2011 à 2018))"
   ]
  },
  {
   "cell_type": "code",
   "execution_count": 22,
   "metadata": {
    "colab": {
     "base_uri": "https://localhost:8080/",
     "height": 310
    },
    "id": "rHeUNlU9l9vO",
    "outputId": "c0b3ba10-555d-4137-d116-5a967d4244e7"
   },
   "outputs": [
    {
     "data": {
      "text/plain": [
       "<Figure size 1080x576 with 0 Axes>"
      ]
     },
     "metadata": {},
     "output_type": "display_data"
    },
    {
     "data": {
      "image/png": "[encoded data removed]",
      "text/plain": [
       "<Figure size 432x288 with 1 Axes>"
      ]
     },
     "metadata": {
      "needs_background": "light"
     },
     "output_type": "display_data"
    }
   ],
   "source": [
    "plt.figure(figsize=(15,8))\n",
    "\n",
    "df_finalannees.plot(logy=True)\n",
    "lumiere=['Plein jour', 'Crépuscule ou aube', 'Nuit sans éclairage public', 'Nuit avec éclairage public non allumé', 'Nuit avec éclairage public allumé']\n",
    "\n",
    "# Renommer aux des abscisses\n",
    "plt.xticks([0, 1, 2,3,4,5,6,7], labels=['2011', '2012', '2013', '2014', '2015', '2016', '2017', '2018'],rotation=0)\n",
    "plt.legend(labels = lumiere, title = \"Type d'éclairage\", bbox_to_anchor=(1,0.8), fontsize=8, loc='upper left')\n",
    "\n",
    "plt.title(\"Evolution du nombre d'accidents suivant l'éclairage pour chaque année (2011 à 2018)\", \n",
    "          fontname =\"Liberation Sans\", fontsize=10, fontweight='bold')\n",
    "plt.xlabel(\"Années\", fontsize = 10)\n",
    "plt.ylabel(\"Nombre d'accidents\", fontsize = 10)\n",
    "plt.show()"
   ]
  },
  {
   "cell_type": "markdown",
   "metadata": {
    "id": "14FmRkzC5smY"
   },
   "source": [
    "**Observation :**\n",
    "\n",
    "On observe que le nombre d'accidents pour chaque type d'éclairage semble plutôt constant sur la plage des années (de 2012 à 2018).\n",
    "\n",
    "On remarque tout de même une nette diminution du nombre d'accidents à partir de l'année 2012 pour tous les niveaux d'éclairage.\n"
   ]
  },
  {
   "cell_type": "markdown",
   "metadata": {
    "id": "2ZrJtJlrv9az"
   },
   "source": [
    "## Deuxième partie : Prédiction du nombre d'accidents suivant l'éclairage"
   ]
  },
  {
   "cell_type": "markdown",
   "metadata": {
    "id": "VTtgkjE3oBAO"
   },
   "source": [
    "On souhaite alors utiliser le machine learning dans le but de prédire le nombre d'accidents pour chaque niveau d'éclairage."
   ]
  },
  {
   "cell_type": "code",
   "execution_count": 25,
   "metadata": {
    "colab": {
     "base_uri": "https://localhost:8080/",
     "height": 363
    },
    "id": "EKEE7SQwB2zJ",
    "outputId": "a76bf7d5-ad42-4126-8573-7e6e117391da"
   },
   "outputs": [
    {
     "data": {
      "text/html": [
       "\n",
       "  <div id=\"df-7676a9ff-2ead-43e1-a037-c6ad517d499d\">\n",
       "    <div class=\"colab-df-container\">\n",
       "      <div>\n",
       "<style scoped>\n",
       "    .dataframe tbody tr th:only-of-type {\n",
       "        vertical-align: middle;\n",
       "    }\n",
       "\n",
       "    .dataframe tbody tr th {\n",
       "        vertical-align: top;\n",
       "    }\n",
       "\n",
       "    .dataframe thead th {\n",
       "        text-align: right;\n",
       "    }\n",
       "</style>\n",
       "<table border=\"1\" class=\"dataframe\">\n",
       "  <thead>\n",
       "    <tr style=\"text-align: right;\">\n",
       "      <th></th>\n",
       "      <th>lum</th>\n",
       "      <th>an</th>\n",
       "      <th>Num_Acc</th>\n",
       "    </tr>\n",
       "  </thead>\n",
       "  <tbody>\n",
       "    <tr>\n",
       "      <th>0</th>\n",
       "      <td>1</td>\n",
       "      <td>11</td>\n",
       "      <td>92538</td>\n",
       "    </tr>\n",
       "    <tr>\n",
       "      <th>1</th>\n",
       "      <td>1</td>\n",
       "      <td>12</td>\n",
       "      <td>42322</td>\n",
       "    </tr>\n",
       "    <tr>\n",
       "      <th>2</th>\n",
       "      <td>1</td>\n",
       "      <td>13</td>\n",
       "      <td>40098</td>\n",
       "    </tr>\n",
       "    <tr>\n",
       "      <th>3</th>\n",
       "      <td>1</td>\n",
       "      <td>14</td>\n",
       "      <td>41049</td>\n",
       "    </tr>\n",
       "    <tr>\n",
       "      <th>4</th>\n",
       "      <td>1</td>\n",
       "      <td>15</td>\n",
       "      <td>40598</td>\n",
       "    </tr>\n",
       "    <tr>\n",
       "      <th>5</th>\n",
       "      <td>1</td>\n",
       "      <td>16</td>\n",
       "      <td>40578</td>\n",
       "    </tr>\n",
       "    <tr>\n",
       "      <th>6</th>\n",
       "      <td>1</td>\n",
       "      <td>17</td>\n",
       "      <td>40895</td>\n",
       "    </tr>\n",
       "    <tr>\n",
       "      <th>7</th>\n",
       "      <td>1</td>\n",
       "      <td>18</td>\n",
       "      <td>38701</td>\n",
       "    </tr>\n",
       "    <tr>\n",
       "      <th>8</th>\n",
       "      <td>2</td>\n",
       "      <td>11</td>\n",
       "      <td>7726</td>\n",
       "    </tr>\n",
       "    <tr>\n",
       "      <th>9</th>\n",
       "      <td>2</td>\n",
       "      <td>12</td>\n",
       "      <td>3764</td>\n",
       "    </tr>\n",
       "  </tbody>\n",
       "</table>\n",
       "</div>\n",
       "      <button class=\"colab-df-convert\" onclick=\"convertToInteractive('df-7676a9ff-2ead-43e1-a037-c6ad517d499d')\"\n",
       "              title=\"Convert this dataframe to an interactive table.\"\n",
       "              style=\"display:none;\">\n",
       "        \n",
       "  <svg xmlns=\"http://www.w3.org/2000/svg\" height=\"24px\"viewBox=\"0 0 24 24\"\n",
       "       width=\"24px\">\n",
       "    <path d=\"M0 0h24v24H0V0z\" fill=\"none\"/>\n",
       "    <path d=\"M18.56 5.44l.94 2.06.94-2.06 2.06-.94-2.06-.94-.94-2.06-.94 2.06-2.06.94zm-11 1L8.5 8.5l.94-2.06 2.06-.94-2.06-.94L8.5 2.5l-.94 2.06-2.06.94zm10 10l.94 2.06.94-2.06 2.06-.94-2.06-.94-.94-2.06-.94 2.06-2.06.94z\"/><path d=\"M17.41 7.96l-1.37-1.37c-.4-.4-.92-.59-1.43-.59-.52 0-1.04.2-1.43.59L10.3 9.45l-7.72 7.72c-.78.78-.78 2.05 0 2.83L4 21.41c.39.39.9.59 1.41.59.51 0 1.02-.2 1.41-.59l7.78-7.78 2.81-2.81c.8-.78.8-2.07 0-2.86zM5.41 20L4 18.59l7.72-7.72 1.47 1.35L5.41 20z\"/>\n",
       "  </svg>\n",
       "      </button>\n",
       "      \n",
       "  <style>\n",
       "    .colab-df-container {\n",
       "      display:flex;\n",
       "      flex-wrap:wrap;\n",
       "      gap: 12px;\n",
       "    }\n",
       "\n",
       "    .colab-df-convert {\n",
       "      background-color: #E8F0FE;\n",
       "      border: none;\n",
       "      border-radius: 50%;\n",
       "      cursor: pointer;\n",
       "      display: none;\n",
       "      fill: #1967D2;\n",
       "      height: 32px;\n",
       "      padding: 0 0 0 0;\n",
       "      width: 32px;\n",
       "    }\n",
       "\n",
       "    .colab-df-convert:hover {\n",
       "      background-color: #E2EBFA;\n",
       "      box-shadow: 0px 1px 2px rgba(60, 64, 67, 0.3), 0px 1px 3px 1px rgba(60, 64, 67, 0.15);\n",
       "      fill: #174EA6;\n",
       "    }\n",
       "\n",
       "    [theme=dark] .colab-df-convert {\n",
       "      background-color: #3B4455;\n",
       "      fill: #D2E3FC;\n",
       "    }\n",
       "\n",
       "    [theme=dark] .colab-df-convert:hover {\n",
       "      background-color: #434B5C;\n",
       "      box-shadow: 0px 1px 3px 1px rgba(0, 0, 0, 0.15);\n",
       "      filter: drop-shadow(0px 1px 2px rgba(0, 0, 0, 0.3));\n",
       "      fill: #FFFFFF;\n",
       "    }\n",
       "  </style>\n",
       "\n",
       "      <script>\n",
       "        const buttonEl =\n",
       "          document.querySelector('#df-7676a9ff-2ead-43e1-a037-c6ad517d499d button.colab-df-convert');\n",
       "        buttonEl.style.display =\n",
       "          google.colab.kernel.accessAllowed ? 'block' : 'none';\n",
       "\n",
       "        async function convertToInteractive(key) {\n",
       "          const element = document.querySelector('#df-7676a9ff-2ead-43e1-a037-c6ad517d499d');\n",
       "          const dataTable =\n",
       "            await google.colab.kernel.invokeFunction('convertToInteractive',\n",
       "                                                     [key], {});\n",
       "          if (!dataTable) return;\n",
       "\n",
       "          const docLinkHtml = 'Like what you see? Visit the ' +\n",
       "            '<a target=\"_blank\" href=https://colab.research.google.com/notebooks/data_table.ipynb>data table notebook</a>'\n",
       "            + ' to learn more about interactive tables.';\n",
       "          element.innerHTML = '';\n",
       "          dataTable['output_type'] = 'display_data';\n",
       "          await google.colab.output.renderOutput(dataTable, element);\n",
       "          const docLink = document.createElement('div');\n",
       "          docLink.innerHTML = docLinkHtml;\n",
       "          element.appendChild(docLink);\n",
       "        }\n",
       "      </script>\n",
       "    </div>\n",
       "  </div>\n",
       "  "
      ],
      "text/plain": [
       "  lum  an  Num_Acc\n",
       "0   1  11    92538\n",
       "1   1  12    42322\n",
       "2   1  13    40098\n",
       "3   1  14    41049\n",
       "4   1  15    40598\n",
       "5   1  16    40578\n",
       "6   1  17    40895\n",
       "7   1  18    38701\n",
       "8   2  11     7726\n",
       "9   2  12     3764"
      ]
     },
     "execution_count": 25,
     "metadata": {},
     "output_type": "execute_result"
    }
   ],
   "source": [
    "# Affichage des 10 premières valeurs du jeu de données\n",
    "data2.head(10)"
   ]
  },
  {
   "cell_type": "code",
   "execution_count": 26,
   "metadata": {
    "id": "e3_rofKXYO3E"
   },
   "outputs": [],
   "source": [
    "# Convertir un dataframe Pandas en un spark dataframe\n",
    "dffinal_spark = spark.createDataFrame(data2)"
   ]
  },
  {
   "cell_type": "code",
   "execution_count": 27,
   "metadata": {
    "colab": {
     "base_uri": "https://localhost:8080/"
    },
    "id": "_gaF0c3RB8jI",
    "outputId": "c99fcbb0-1671-493d-fb36-ffc3c0bb5e52"
   },
   "outputs": [
    {
     "name": "stdout",
     "output_type": "stream",
     "text": [
      "+---+---+-------+\n",
      "|lum| an|Num_Acc|\n",
      "+---+---+-------+\n",
      "|  1| 11|  92538|\n",
      "|  1| 12|  42322|\n",
      "|  1| 13|  40098|\n",
      "|  1| 14|  41049|\n",
      "|  1| 15|  40598|\n",
      "|  1| 16|  40578|\n",
      "|  1| 17|  40895|\n",
      "|  1| 18|  38701|\n",
      "|  2| 11|   7726|\n",
      "|  2| 12|   3764|\n",
      "|  2| 13|   3564|\n",
      "|  2| 14|   3617|\n",
      "|  2| 15|   3479|\n",
      "|  2| 16|   3568|\n",
      "|  2| 17|   4158|\n",
      "|  2| 18|   3839|\n",
      "|  3| 11|  10416|\n",
      "|  3| 12|   4813|\n",
      "|  3| 13|   4467|\n",
      "|  3| 14|   4620|\n",
      "+---+---+-------+\n",
      "only showing top 20 rows\n",
      "\n"
     ]
    }
   ],
   "source": [
    "dffinal_spark.show()"
   ]
  },
  {
   "cell_type": "code",
   "execution_count": 28,
   "metadata": {
    "colab": {
     "base_uri": "https://localhost:8080/"
    },
    "id": "_UrO0tuIRQhc",
    "outputId": "fb361dca-3531-4f20-997b-9c865bd4baf1"
   },
   "outputs": [
    {
     "data": {
      "text/plain": [
       "pyspark.sql.dataframe.DataFrame"
      ]
     },
     "execution_count": 28,
     "metadata": {},
     "output_type": "execute_result"
    }
   ],
   "source": [
    "type(dffinal_spark)"
   ]
  },
  {
   "cell_type": "code",
   "execution_count": 29,
   "metadata": {
    "id": "KcKsPvGC9Z-x"
   },
   "outputs": [],
   "source": [
    "# Modifier le type de variables en entier\n",
    "dffinal_spark = dffinal_spark.withColumn(\"lum\",col(\"lum\").cast(\"int\"))\n",
    "dffinal_spark = dffinal_spark.withColumn(\"an\",col(\"an\").cast(\"int\"))"
   ]
  },
  {
   "cell_type": "code",
   "execution_count": 30,
   "metadata": {
    "colab": {
     "base_uri": "https://localhost:8080/"
    },
    "id": "VrmIg-wwI-QW",
    "outputId": "dcefa5a1-3470-4c2e-c46a-f7149dc5848a"
   },
   "outputs": [
    {
     "name": "stdout",
     "output_type": "stream",
     "text": [
      "root\n",
      " |-- lum: integer (nullable = true)\n",
      " |-- an: integer (nullable = true)\n",
      " |-- Num_Acc: long (nullable = true)\n",
      "\n"
     ]
    }
   ],
   "source": [
    "dffinal_spark.cache()\n",
    "dffinal_spark.printSchema()"
   ]
  },
  {
   "cell_type": "markdown",
   "metadata": {
    "id": "KgyytXwt7TJc"
   },
   "source": [
    "### Dataframes filtrés suivant le niveau d'éclairage "
   ]
  },
  {
   "cell_type": "code",
   "execution_count": 31,
   "metadata": {
    "colab": {
     "base_uri": "https://localhost:8080/"
    },
    "id": "RFir-LdPFuhD",
    "outputId": "e65cb454-ef60-452f-c1d3-4e3eaffc1f9a"
   },
   "outputs": [
    {
     "name": "stdout",
     "output_type": "stream",
     "text": [
      "+---+---+-------+\n",
      "|lum| an|Num_Acc|\n",
      "+---+---+-------+\n",
      "|  1| 11|  92538|\n",
      "|  1| 12|  42322|\n",
      "|  1| 13|  40098|\n",
      "|  1| 14|  41049|\n",
      "|  1| 15|  40598|\n",
      "|  1| 16|  40578|\n",
      "|  1| 17|  40895|\n",
      "|  1| 18|  38701|\n",
      "+---+---+-------+\n",
      "\n",
      "+---+---+-------+\n",
      "|lum| an|Num_Acc|\n",
      "+---+---+-------+\n",
      "|  2| 11|   7726|\n",
      "|  2| 12|   3764|\n",
      "|  2| 13|   3564|\n",
      "|  2| 14|   3617|\n",
      "|  2| 15|   3479|\n",
      "|  2| 16|   3568|\n",
      "|  2| 17|   4158|\n",
      "|  2| 18|   3839|\n",
      "+---+---+-------+\n",
      "\n",
      "+---+---+-------+\n",
      "|lum| an|Num_Acc|\n",
      "+---+---+-------+\n",
      "|  3| 11|  10416|\n",
      "|  3| 12|   4813|\n",
      "|  3| 13|   4467|\n",
      "|  3| 14|   4620|\n",
      "|  3| 15|   4746|\n",
      "|  3| 16|   5089|\n",
      "|  3| 17|   5601|\n",
      "|  3| 18|   5574|\n",
      "+---+---+-------+\n",
      "\n",
      "+---+---+-------+\n",
      "|lum| an|Num_Acc|\n",
      "+---+---+-------+\n",
      "|  4| 11|   1114|\n",
      "|  4| 12|    619|\n",
      "|  4| 13|    565|\n",
      "|  4| 14|    548|\n",
      "|  4| 15|    454|\n",
      "|  4| 16|    508|\n",
      "|  4| 17|    514|\n",
      "|  4| 18|    575|\n",
      "+---+---+-------+\n",
      "\n",
      "+---+---+-------+\n",
      "|lum| an|Num_Acc|\n",
      "+---+---+-------+\n",
      "|  5| 11|  22154|\n",
      "|  5| 12|  10732|\n",
      "|  5| 13|   9703|\n",
      "|  5| 14|  10020|\n",
      "|  5| 15|   9377|\n",
      "|  5| 16|   9689|\n",
      "|  5| 17|   9533|\n",
      "|  5| 18|   9094|\n",
      "+---+---+-------+\n",
      "\n"
     ]
    }
   ],
   "source": [
    "dataRegLum1 = dffinal_spark.filter(dffinal_spark.lum == \"1\")\n",
    "dataRegLum1.show()\n",
    "dataRegLum2 = dffinal_spark.filter(dffinal_spark.lum == \"2\")\n",
    "dataRegLum2.show()\n",
    "dataRegLum3 = dffinal_spark.filter(dffinal_spark.lum == \"3\")\n",
    "dataRegLum3.show()\n",
    "dataRegLum4 = dffinal_spark.filter(dffinal_spark.lum == \"4\")\n",
    "dataRegLum4.show()\n",
    "dataRegLum5 = dffinal_spark.filter(dffinal_spark.lum == \"5\")\n",
    "dataRegLum5.show()"
   ]
  },
  {
   "cell_type": "markdown",
   "metadata": {
    "id": "DDzXYoDl7FOj"
   },
   "source": [
    "### Combine une liste de colonnes en une seule colonne vectorielle features"
   ]
  },
  {
   "cell_type": "code",
   "execution_count": 32,
   "metadata": {
    "colab": {
     "base_uri": "https://localhost:8080/"
    },
    "id": "iTADaIs-8DEs",
    "outputId": "a75f68d0-8c9a-4f23-df69-91f677b9d388"
   },
   "outputs": [
    {
     "name": "stdout",
     "output_type": "stream",
     "text": [
      "+--------+-------+\n",
      "|features|Num_Acc|\n",
      "+--------+-------+\n",
      "|   [1.0]|  92538|\n",
      "|   [1.0]|  42322|\n",
      "|   [1.0]|  40098|\n",
      "|   [1.0]|  41049|\n",
      "|   [1.0]|  40598|\n",
      "|   [1.0]|  40578|\n",
      "|   [1.0]|  40895|\n",
      "|   [1.0]|  38701|\n",
      "+--------+-------+\n",
      "\n",
      "+--------+-------+\n",
      "|features|Num_Acc|\n",
      "+--------+-------+\n",
      "|   [2.0]|   7726|\n",
      "|   [2.0]|   3764|\n",
      "|   [2.0]|   3564|\n",
      "|   [2.0]|   3617|\n",
      "|   [2.0]|   3479|\n",
      "|   [2.0]|   3568|\n",
      "|   [2.0]|   4158|\n",
      "|   [2.0]|   3839|\n",
      "+--------+-------+\n",
      "\n",
      "+--------+-------+\n",
      "|features|Num_Acc|\n",
      "+--------+-------+\n",
      "|   [3.0]|  10416|\n",
      "|   [3.0]|   4813|\n",
      "|   [3.0]|   4467|\n",
      "|   [3.0]|   4620|\n",
      "|   [3.0]|   4746|\n",
      "|   [3.0]|   5089|\n",
      "|   [3.0]|   5601|\n",
      "|   [3.0]|   5574|\n",
      "+--------+-------+\n",
      "\n",
      "+--------+-------+\n",
      "|features|Num_Acc|\n",
      "+--------+-------+\n",
      "|   [4.0]|   1114|\n",
      "|   [4.0]|    619|\n",
      "|   [4.0]|    565|\n",
      "|   [4.0]|    548|\n",
      "|   [4.0]|    454|\n",
      "|   [4.0]|    508|\n",
      "|   [4.0]|    514|\n",
      "|   [4.0]|    575|\n",
      "+--------+-------+\n",
      "\n",
      "+--------+-------+\n",
      "|features|Num_Acc|\n",
      "+--------+-------+\n",
      "|   [5.0]|  22154|\n",
      "|   [5.0]|  10732|\n",
      "|   [5.0]|   9703|\n",
      "|   [5.0]|  10020|\n",
      "|   [5.0]|   9377|\n",
      "|   [5.0]|   9689|\n",
      "|   [5.0]|   9533|\n",
      "|   [5.0]|   9094|\n",
      "+--------+-------+\n",
      "\n"
     ]
    }
   ],
   "source": [
    "vectorAssembler1 = VectorAssembler(inputCols = ['lum'], outputCol = 'features')\n",
    "datareg1 = vectorAssembler1.transform(dataRegLum1)\n",
    "dataregFinal1 = datareg1.select(['features', 'Num_Acc'])\n",
    "dataregFinal1.show()\n",
    "\n",
    "vectorAssembler2 = VectorAssembler(inputCols = ['lum'], outputCol = 'features')\n",
    "datareg2 = vectorAssembler2.transform(dataRegLum2)\n",
    "dataregFinal2 = datareg2.select(['features', 'Num_Acc'])\n",
    "dataregFinal2.show()\n",
    "\n",
    "vectorAssembler3 = VectorAssembler(inputCols = ['lum'], outputCol = 'features')\n",
    "datareg3 = vectorAssembler3.transform(dataRegLum3)\n",
    "dataregFinal3 = datareg3.select(['features', 'Num_Acc'])\n",
    "dataregFinal3.show()\n",
    "\n",
    "vectorAssembler4 = VectorAssembler(inputCols = ['lum'], outputCol = 'features')\n",
    "datareg4 = vectorAssembler4.transform(dataRegLum4)\n",
    "dataregFinal4 = datareg4.select(['features', 'Num_Acc'])\n",
    "dataregFinal4.show()\n",
    "\n",
    "vectorAssembler5 = VectorAssembler(inputCols = ['lum'], outputCol = 'features')\n",
    "datareg5 = vectorAssembler5.transform(dataRegLum5)\n",
    "dataregFinal5 = datareg5.select(['features', 'Num_Acc'])\n",
    "dataregFinal5.show()"
   ]
  },
  {
   "cell_type": "markdown",
   "metadata": {
    "id": "OryfpLM4DKZ5"
   },
   "source": [
    "### Régression linéaire pour chaque niveau d'éclairage\n",
    "\n",
    "On estime une droite de régression pour chaque niveau d'éclairage."
   ]
  },
  {
   "cell_type": "markdown",
   "metadata": {
    "id": "dFi_8kPK7MQC"
   },
   "source": [
    "#### Première droite"
   ]
  },
  {
   "cell_type": "code",
   "execution_count": 33,
   "metadata": {
    "colab": {
     "base_uri": "https://localhost:8080/"
    },
    "id": "TmE4kuUNJgm7",
    "outputId": "dfca2680-bba3-4b63-8a24-55e1f3d502c1"
   },
   "outputs": [
    {
     "name": "stdout",
     "output_type": "stream",
     "text": [
      "Intercept : 50972.2\n"
     ]
    }
   ],
   "source": [
    "# Préparer les données\n",
    "splits1 = dataregFinal1.randomSplit([0.7, 0.3])\n",
    "train_df1 = splits1[0]\n",
    "test_df1 = splits1[1]\n",
    "\n",
    "lr1 = LinearRegression(featuresCol = 'features', labelCol='Num_Acc', maxIter=10, regParam=0.3, elasticNetParam=0.8)\n",
    "lr_model1 = lr1.fit(train_df1)\n",
    "\n",
    "# Récupère les coefficients du modèle\n",
    "#print(\"Coefficients: \" + str(lr_model1.coefficients))\n",
    "print(\"Intercept : \" + str(lr_model1.intercept))"
   ]
  },
  {
   "cell_type": "markdown",
   "metadata": {
    "id": "rZNpbPdi7TI7"
   },
   "source": [
    "#### Deuxième droite"
   ]
  },
  {
   "cell_type": "code",
   "execution_count": 34,
   "metadata": {
    "colab": {
     "base_uri": "https://localhost:8080/"
    },
    "id": "VUTecLgRnfpU",
    "outputId": "17ac239f-5742-4b03-eb51-7a9312f99d62"
   },
   "outputs": [
    {
     "name": "stdout",
     "output_type": "stream",
     "text": [
      "Intercept: 4436.5\n"
     ]
    }
   ],
   "source": [
    "# Préparer les données\n",
    "splits2 = dataregFinal2.randomSplit([0.7, 0.3])\n",
    "train_df2 = splits2[0]\n",
    "test_df2 = splits2[1]\n",
    "\n",
    "lr2 = LinearRegression(featuresCol = 'features', labelCol='Num_Acc', maxIter=10, regParam=0.3, elasticNetParam=0.8)\n",
    "lr_model2 = lr2.fit(train_df2)\n",
    "\n",
    "# Récupère les coefficients du modèle\n",
    "#print(\"Coefficients: \" + str(lr_model2.coefficients))\n",
    "print(\"Intercept: \" + str(lr_model2.intercept))"
   ]
  },
  {
   "cell_type": "markdown",
   "metadata": {
    "id": "jEfFfRKC7bW1"
   },
   "source": [
    "#### Troisième droite"
   ]
  },
  {
   "cell_type": "code",
   "execution_count": 35,
   "metadata": {
    "colab": {
     "base_uri": "https://localhost:8080/"
    },
    "id": "puSZdgQi9qpF",
    "outputId": "362bebde-496c-4b04-8b7b-0d7489a94a17"
   },
   "outputs": [
    {
     "name": "stdout",
     "output_type": "stream",
     "text": [
      "Intercept: 4889.333333333333\n"
     ]
    }
   ],
   "source": [
    "# Préparer les données\n",
    "splits3 = dataregFinal3.randomSplit([0.7, 0.3])\n",
    "train_df3 = splits3[0]\n",
    "test_df3 = splits3[1]\n",
    "\n",
    "lr3 = LinearRegression(featuresCol = 'features', labelCol='Num_Acc', maxIter=10, regParam=0.3, elasticNetParam=0.8)\n",
    "lr_model3 = lr3.fit(train_df3)\n",
    "\n",
    "# Récupère les coefficients du modèle\n",
    "#print(\"Coefficients: \" + str(lr_model3.coefficients))\n",
    "print(\"Intercept: \" + str(lr_model3.intercept))"
   ]
  },
  {
   "cell_type": "markdown",
   "metadata": {
    "id": "zQ26d2q_7kjZ"
   },
   "source": [
    "#### Quatrième droite"
   ]
  },
  {
   "cell_type": "code",
   "execution_count": 36,
   "metadata": {
    "colab": {
     "base_uri": "https://localhost:8080/"
    },
    "id": "p3eN1YDP-AAg",
    "outputId": "e4381af4-5860-4618-e178-217b16a259e7"
   },
   "outputs": [
    {
     "name": "stdout",
     "output_type": "stream",
     "text": [
      "Intercept: 519.8\n"
     ]
    }
   ],
   "source": [
    "# Préparer les données\n",
    "splits4 = dataregFinal4.randomSplit([0.7, 0.3])\n",
    "train_df4 = splits4[0]\n",
    "test_df4 = splits4[1]\n",
    "\n",
    "lr4 = LinearRegression(featuresCol = 'features', labelCol='Num_Acc', maxIter=10, regParam=0.3, elasticNetParam=0.8)\n",
    "lr_model4 = lr4.fit(train_df4)\n",
    "\n",
    "# Récupère les coefficients du modèle\n",
    "#print(\"Coefficients: \" + str(lr_model4.coefficients))\n",
    "print(\"Intercept: \" + str(lr_model4.intercept))"
   ]
  },
  {
   "cell_type": "markdown",
   "metadata": {
    "id": "rkCuxHjv7hZ0"
   },
   "source": [
    "#### Cinquième droite"
   ]
  },
  {
   "cell_type": "code",
   "execution_count": 37,
   "metadata": {
    "colab": {
     "base_uri": "https://localhost:8080/"
    },
    "id": "6eVkNAZha4IL",
    "outputId": "76aa86e2-2577-46aa-bc7e-3c07f60a0593"
   },
   "outputs": [
    {
     "name": "stdout",
     "output_type": "stream",
     "text": [
      "Intercept: 11287.75\n"
     ]
    }
   ],
   "source": [
    "# Préparer les données\n",
    "splits5 = dataregFinal5.randomSplit([0.7, 0.3])\n",
    "train_df5 = splits5[0]\n",
    "test_df5 = splits5[1]\n",
    "\n",
    "lr5 = LinearRegression(featuresCol = 'features', labelCol='Num_Acc', maxIter=10, regParam=0.3, elasticNetParam=0.8)\n",
    "lr_model5 = lr5.fit(train_df5)\n",
    "\n",
    "# Récupère les coefficients du modèle\n",
    "#print(\"Coefficients: \" + str(lr_model5.coefficients))\n",
    "print(\"Intercept: \" + str(lr_model5.intercept))"
   ]
  },
  {
   "cell_type": "markdown",
   "metadata": {
    "id": "6WX7phAt7w6a"
   },
   "source": [
    "### Affichage des résultats de prédiction"
   ]
  },
  {
   "cell_type": "code",
   "execution_count": 38,
   "metadata": {
    "colab": {
     "base_uri": "https://localhost:8080/"
    },
    "id": "EXyE1IzvbXmf",
    "outputId": "19c127ac-1439-4cd3-e615-87e17f1d651c"
   },
   "outputs": [
    {
     "name": "stdout",
     "output_type": "stream",
     "text": [
      "La prédiction du nombre d'accidents pour lum=1 est 50972.\n",
      "La prédiction du nombre d'accidents pour lum=2 est 4436.\n",
      "La prédiction du nombre d'accidents pour lum=3 est 4889.\n",
      "La prédiction du nombre d'accidents pour lum=4 est 519.\n",
      "La prédiction du nombre d'accidents pour lum=5 est 11287.\n"
     ]
    }
   ],
   "source": [
    "print(f\"La prédiction du nombre d'accidents pour lum=1 est {int(lr_model1.intercept)}.\")\n",
    "print(f\"La prédiction du nombre d'accidents pour lum=2 est {int(lr_model2.intercept)}.\")\n",
    "print(f\"La prédiction du nombre d'accidents pour lum=3 est {int(lr_model3.intercept)}.\")\n",
    "print(f\"La prédiction du nombre d'accidents pour lum=4 est {int(lr_model4.intercept)}.\")\n",
    "print(f\"La prédiction du nombre d'accidents pour lum=5 est {int(lr_model5.intercept)}.\")"
   ]
  },
  {
   "cell_type": "code",
   "execution_count": 39,
   "metadata": {
    "colab": {
     "base_uri": "https://localhost:8080/",
     "height": 310
    },
    "id": "Qwr7-tmyzMea",
    "outputId": "a5951b17-9511-4204-8007-b0fb92a911be"
   },
   "outputs": [
    {
     "data": {
      "text/plain": [
       "<Figure size 1080x576 with 0 Axes>"
      ]
     },
     "metadata": {},
     "output_type": "display_data"
    },
    {
     "data": {
      "image/png": "[encoded data removed]",
      "text/plain": [
       "<Figure size 432x288 with 1 Axes>"
      ]
     },
     "metadata": {
      "needs_background": "light"
     },
     "output_type": "display_data"
    }
   ],
   "source": [
    "# Tracer des droites de régression superposés aux données observés\n",
    "\n",
    "plt.figure(figsize=(15,8))\n",
    "\n",
    "df_finalannees.plot(logy=True)\n",
    "temps = [0,1,2,3,4,5,6,7]\n",
    "\n",
    "plt.plot(temps,lr_model1.coefficients*temps+lr_model1.intercept, c='blue', linestyle='--',)\n",
    "plt.plot(temps,lr_model2.coefficients*temps+lr_model2.intercept, c='orange', linestyle='--',)\n",
    "plt.plot(temps,lr_model3.coefficients*temps+lr_model3.intercept, c='green', linestyle='--',)\n",
    "plt.plot(temps,lr_model4.coefficients*temps+lr_model4.intercept, c='red', linestyle='--',)\n",
    "plt.plot(temps,lr_model5.coefficients*temps+lr_model5.intercept, c='purple', linestyle='--',)\n",
    "\n",
    "lumiere=['Plein jour', 'Crépuscule ou aube', 'Nuit sans éclairage public', 'Nuit avec éclairage public non allumé', 'Nuit avec éclairage public allumé']\n",
    "\n",
    "# Renommer aux des abscisses\n",
    "plt.xticks(temps, labels=['2011', '2012', '2013', '2014', '2015', '2016', '2017', '2018'],rotation=0)\n",
    "plt.legend(labels = lumiere, title = \"Type d'éclairage\", bbox_to_anchor=(1,0.8), fontsize=8, loc='upper left')\n",
    "\n",
    "plt.title(\"Evolution du nombre d'accidents suivant l'éclairage pour chaque année (2011 à 2018)\", \n",
    "          fontname =\"Liberation Sans\", fontsize=10, fontweight='bold')\n",
    "plt.xlabel(\"Années\", fontsize = 10)\n",
    "plt.ylabel(\"Nombre d'accidents\", fontsize = 10)\n",
    "plt.show()"
   ]
  },
  {
   "cell_type": "markdown",
   "metadata": {
    "id": "txfPWB8M8UFJ"
   },
   "source": [
    "On observe que le droite estimée par machine learning se rapproche bien des données. En revanche, la prédiction semble moins fiable si on garde l'année 2011."
   ]
  },
  {
   "cell_type": "markdown",
   "metadata": {
    "id": "IPrHDHTD8lgT"
   },
   "source": [
    "### Représentation des prédictions en enlevant l'année 2011"
   ]
  },
  {
   "cell_type": "code",
   "execution_count": 40,
   "metadata": {
    "colab": {
     "base_uri": "https://localhost:8080/"
    },
    "id": "TB4kVGV39-5O",
    "outputId": "0ea936fe-0015-42e6-bbfc-d37071131351"
   },
   "outputs": [
    {
     "name": "stdout",
     "output_type": "stream",
     "text": [
      "+---+---+-------+\n",
      "|lum| an|Num_Acc|\n",
      "+---+---+-------+\n",
      "|  1| 12|  42322|\n",
      "|  1| 13|  40098|\n",
      "|  1| 14|  41049|\n",
      "|  1| 15|  40598|\n",
      "|  1| 16|  40578|\n",
      "|  1| 17|  40895|\n",
      "|  1| 18|  38701|\n",
      "|  2| 12|   3764|\n",
      "|  2| 13|   3564|\n",
      "|  2| 14|   3617|\n",
      "|  2| 15|   3479|\n",
      "|  2| 16|   3568|\n",
      "|  2| 17|   4158|\n",
      "|  2| 18|   3839|\n",
      "|  3| 12|   4813|\n",
      "|  3| 13|   4467|\n",
      "|  3| 14|   4620|\n",
      "|  3| 15|   4746|\n",
      "|  3| 16|   5089|\n",
      "|  3| 17|   5601|\n",
      "+---+---+-------+\n",
      "only showing top 20 rows\n",
      "\n"
     ]
    }
   ],
   "source": [
    "# Enlever l'année 2011\n",
    "dffinal_sparkbis = dffinal_spark.filter(dffinal_spark.an != 11)\n",
    "dffinal_sparkbis.show()"
   ]
  },
  {
   "cell_type": "code",
   "execution_count": 41,
   "metadata": {
    "colab": {
     "base_uri": "https://localhost:8080/"
    },
    "id": "aFJvCqGP_IVw",
    "outputId": "b0820ce4-a283-463d-cf0a-2e09d2dd2a03"
   },
   "outputs": [
    {
     "name": "stdout",
     "output_type": "stream",
     "text": [
      "+---+---+-------+\n",
      "|lum| an|Num_Acc|\n",
      "+---+---+-------+\n",
      "|  1| 12|  42322|\n",
      "|  1| 13|  40098|\n",
      "|  1| 14|  41049|\n",
      "|  1| 15|  40598|\n",
      "|  1| 16|  40578|\n",
      "|  1| 17|  40895|\n",
      "|  1| 18|  38701|\n",
      "+---+---+-------+\n",
      "\n",
      "+---+---+-------+\n",
      "|lum| an|Num_Acc|\n",
      "+---+---+-------+\n",
      "|  2| 12|   3764|\n",
      "|  2| 13|   3564|\n",
      "|  2| 14|   3617|\n",
      "|  2| 15|   3479|\n",
      "|  2| 16|   3568|\n",
      "|  2| 17|   4158|\n",
      "|  2| 18|   3839|\n",
      "+---+---+-------+\n",
      "\n",
      "+---+---+-------+\n",
      "|lum| an|Num_Acc|\n",
      "+---+---+-------+\n",
      "|  3| 12|   4813|\n",
      "|  3| 13|   4467|\n",
      "|  3| 14|   4620|\n",
      "|  3| 15|   4746|\n",
      "|  3| 16|   5089|\n",
      "|  3| 17|   5601|\n",
      "|  3| 18|   5574|\n",
      "+---+---+-------+\n",
      "\n",
      "+---+---+-------+\n",
      "|lum| an|Num_Acc|\n",
      "+---+---+-------+\n",
      "|  4| 12|    619|\n",
      "|  4| 13|    565|\n",
      "|  4| 14|    548|\n",
      "|  4| 15|    454|\n",
      "|  4| 16|    508|\n",
      "|  4| 17|    514|\n",
      "|  4| 18|    575|\n",
      "+---+---+-------+\n",
      "\n",
      "+---+---+-------+\n",
      "|lum| an|Num_Acc|\n",
      "+---+---+-------+\n",
      "|  5| 12|  10732|\n",
      "|  5| 13|   9703|\n",
      "|  5| 14|  10020|\n",
      "|  5| 15|   9377|\n",
      "|  5| 16|   9689|\n",
      "|  5| 17|   9533|\n",
      "|  5| 18|   9094|\n",
      "+---+---+-------+\n",
      "\n"
     ]
    }
   ],
   "source": [
    "dataRegLum1bis = dffinal_sparkbis.filter(dffinal_sparkbis.lum == \"1\")\n",
    "dataRegLum1bis.show()\n",
    "dataRegLum2bis = dffinal_sparkbis.filter(dffinal_sparkbis.lum == \"2\")\n",
    "dataRegLum2bis.show()\n",
    "dataRegLum3bis = dffinal_sparkbis.filter(dffinal_sparkbis.lum == \"3\")\n",
    "dataRegLum3bis.show()\n",
    "dataRegLum4bis = dffinal_sparkbis.filter(dffinal_sparkbis.lum == \"4\")\n",
    "dataRegLum4bis.show()\n",
    "dataRegLum5bis = dffinal_sparkbis.filter(dffinal_sparkbis.lum == \"5\")\n",
    "dataRegLum5bis.show()"
   ]
  },
  {
   "cell_type": "code",
   "execution_count": 42,
   "metadata": {
    "colab": {
     "base_uri": "https://localhost:8080/"
    },
    "id": "7a9pyKpS_ok_",
    "outputId": "ff733c0b-00c8-4485-b58d-8406a70476e8"
   },
   "outputs": [
    {
     "name": "stdout",
     "output_type": "stream",
     "text": [
      "+--------+-------+\n",
      "|features|Num_Acc|\n",
      "+--------+-------+\n",
      "|   [1.0]|  42322|\n",
      "|   [1.0]|  40098|\n",
      "|   [1.0]|  41049|\n",
      "|   [1.0]|  40598|\n",
      "|   [1.0]|  40578|\n",
      "|   [1.0]|  40895|\n",
      "|   [1.0]|  38701|\n",
      "+--------+-------+\n",
      "\n",
      "+--------+-------+\n",
      "|features|Num_Acc|\n",
      "+--------+-------+\n",
      "|   [2.0]|   3764|\n",
      "|   [2.0]|   3564|\n",
      "|   [2.0]|   3617|\n",
      "|   [2.0]|   3479|\n",
      "|   [2.0]|   3568|\n",
      "|   [2.0]|   4158|\n",
      "|   [2.0]|   3839|\n",
      "+--------+-------+\n",
      "\n",
      "+--------+-------+\n",
      "|features|Num_Acc|\n",
      "+--------+-------+\n",
      "|   [3.0]|   4813|\n",
      "|   [3.0]|   4467|\n",
      "|   [3.0]|   4620|\n",
      "|   [3.0]|   4746|\n",
      "|   [3.0]|   5089|\n",
      "|   [3.0]|   5601|\n",
      "|   [3.0]|   5574|\n",
      "+--------+-------+\n",
      "\n",
      "+--------+-------+\n",
      "|features|Num_Acc|\n",
      "+--------+-------+\n",
      "|   [4.0]|    619|\n",
      "|   [4.0]|    565|\n",
      "|   [4.0]|    548|\n",
      "|   [4.0]|    454|\n",
      "|   [4.0]|    508|\n",
      "|   [4.0]|    514|\n",
      "|   [4.0]|    575|\n",
      "+--------+-------+\n",
      "\n",
      "+--------+-------+\n",
      "|features|Num_Acc|\n",
      "+--------+-------+\n",
      "|   [5.0]|  10732|\n",
      "|   [5.0]|   9703|\n",
      "|   [5.0]|  10020|\n",
      "|   [5.0]|   9377|\n",
      "|   [5.0]|   9689|\n",
      "|   [5.0]|   9533|\n",
      "|   [5.0]|   9094|\n",
      "+--------+-------+\n",
      "\n"
     ]
    }
   ],
   "source": [
    "vectorAssembler1bis = VectorAssembler(inputCols = ['lum'], outputCol = 'features')\n",
    "datareg1bis = vectorAssembler1bis.transform(dataRegLum1bis)\n",
    "dataregFinal1bis = datareg1bis.select(['features', 'Num_Acc'])\n",
    "dataregFinal1bis.show()\n",
    "\n",
    "vectorAssembler2bis = VectorAssembler(inputCols = ['lum'], outputCol = 'features')\n",
    "datareg2bis = vectorAssembler2bis.transform(dataRegLum2bis)\n",
    "dataregFinal2bis = datareg2bis.select(['features', 'Num_Acc'])\n",
    "dataregFinal2bis.show()\n",
    "\n",
    "vectorAssembler3bis = VectorAssembler(inputCols = ['lum'], outputCol = 'features')\n",
    "datareg3bis = vectorAssembler3bis.transform(dataRegLum3bis)\n",
    "dataregFinal3bis = datareg3bis.select(['features', 'Num_Acc'])\n",
    "dataregFinal3bis.show()\n",
    "\n",
    "vectorAssembler4bis = VectorAssembler(inputCols = ['lum'], outputCol = 'features')\n",
    "datareg4bis = vectorAssembler4bis.transform(dataRegLum4bis)\n",
    "dataregFinal4bis = datareg4bis.select(['features', 'Num_Acc'])\n",
    "dataregFinal4bis.show()\n",
    "\n",
    "vectorAssembler5bis = VectorAssembler(inputCols = ['lum'], outputCol = 'features')\n",
    "datareg5bis = vectorAssembler5bis.transform(dataRegLum5bis)\n",
    "dataregFinal5bis = datareg5bis.select(['features', 'Num_Acc'])\n",
    "dataregFinal5bis.show()"
   ]
  },
  {
   "cell_type": "markdown",
   "metadata": {
    "id": "GJpU_XxcAr3o"
   },
   "source": [
    "#### Première droite"
   ]
  },
  {
   "cell_type": "code",
   "execution_count": 43,
   "metadata": {
    "colab": {
     "base_uri": "https://localhost:8080/"
    },
    "id": "KgX45MuLAr3p",
    "outputId": "6ad87ed2-4a84-49ef-bd98-6701cb9ff576"
   },
   "outputs": [
    {
     "name": "stdout",
     "output_type": "stream",
     "text": [
      "Intercept : 40992.4\n"
     ]
    }
   ],
   "source": [
    "# Préparer les données\n",
    "splits1bis = dataregFinal1bis.randomSplit([0.7, 0.3])\n",
    "train_df1bis = splits1bis[0]\n",
    "test_df1bis = splits1bis[1]\n",
    "\n",
    "lr1bis = LinearRegression(featuresCol = 'features', labelCol='Num_Acc', maxIter=10, regParam=0.3, elasticNetParam=0.8)\n",
    "lr_model1bis = lr1bis.fit(train_df1bis)\n",
    "\n",
    "# Récupère les coefficients du modèle\n",
    "#print(\"Coefficients: \" + str(lr_model1bis.coefficients))\n",
    "print(\"Intercept : \" + str(lr_model1bis.intercept))"
   ]
  },
  {
   "cell_type": "markdown",
   "metadata": {
    "id": "F6JtonJ-Ar3p"
   },
   "source": [
    "#### Deuxième droite"
   ]
  },
  {
   "cell_type": "code",
   "execution_count": 44,
   "metadata": {
    "colab": {
     "base_uri": "https://localhost:8080/"
    },
    "id": "wTBVICS0Ar3p",
    "outputId": "3b2131d4-ed14-4dff-9f97-94a0314be062"
   },
   "outputs": [
    {
     "name": "stdout",
     "output_type": "stream",
     "text": [
      "Intercept: 3674.75\n"
     ]
    }
   ],
   "source": [
    "# Préparer les données\n",
    "splits2bis = dataregFinal2bis.randomSplit([0.7, 0.3])\n",
    "train_df2bis = splits2bis[0]\n",
    "test_df2bis = splits2bis[1]\n",
    "\n",
    "lr2bis = LinearRegression(featuresCol = 'features', labelCol='Num_Acc', maxIter=10, regParam=0.3, elasticNetParam=0.8)\n",
    "lr_model2bis = lr2bis.fit(train_df2bis)\n",
    "\n",
    "# Récupère les coefficients du modèle\n",
    "#print(\"Coefficients: \" + str(lr_model2bis.coefficients))\n",
    "print(\"Intercept: \" + str(lr_model2bis.intercept))"
   ]
  },
  {
   "cell_type": "markdown",
   "metadata": {
    "id": "mDjFpgNtAr3p"
   },
   "source": [
    "#### Troisième droite"
   ]
  },
  {
   "cell_type": "code",
   "execution_count": 45,
   "metadata": {
    "colab": {
     "base_uri": "https://localhost:8080/"
    },
    "id": "Sl1hCZrIAr3q",
    "outputId": "6794d484-88e1-476d-c285-371b611a06cd"
   },
   "outputs": [
    {
     "name": "stdout",
     "output_type": "stream",
     "text": [
      "Intercept: 4937.8\n"
     ]
    }
   ],
   "source": [
    "# Préparer les données\n",
    "splits3bis = dataregFinal3bis.randomSplit([0.7, 0.3])\n",
    "train_df3bis = splits3bis[0]\n",
    "test_df3bis = splits3bis[1]\n",
    "\n",
    "lr3bis = LinearRegression(featuresCol = 'features', labelCol='Num_Acc', maxIter=10, regParam=0.3, elasticNetParam=0.8)\n",
    "lr_model3bis = lr3bis.fit(train_df3bis)\n",
    "\n",
    "# Récupère les coefficients du modèle\n",
    "#print(\"Coefficients: \" + str(lr_model3bis.coefficients))\n",
    "print(\"Intercept: \" + str(lr_model3bis.intercept))"
   ]
  },
  {
   "cell_type": "markdown",
   "metadata": {
    "id": "vc6Q9freAwvF"
   },
   "source": [
    "#### Quatrième droite"
   ]
  },
  {
   "cell_type": "code",
   "execution_count": 46,
   "metadata": {
    "colab": {
     "base_uri": "https://localhost:8080/"
    },
    "id": "Vd7uKQR9AjrF",
    "outputId": "235e9c3b-180e-497a-cd0b-dbf07d0d9a7d"
   },
   "outputs": [
    {
     "name": "stdout",
     "output_type": "stream",
     "text": [
      "Intercept: 532.0\n"
     ]
    }
   ],
   "source": [
    "# Préparer les données\n",
    "splits4bis = dataregFinal4bis.randomSplit([0.7, 0.3])\n",
    "train_df4bis = splits4bis[0]\n",
    "test_df4bis = splits4bis[1]\n",
    "\n",
    "lr4bis = LinearRegression(featuresCol = 'features', labelCol='Num_Acc', maxIter=10, regParam=0.3, elasticNetParam=0.8)\n",
    "lr_model4bis = lr4bis.fit(train_df4bis)\n",
    "\n",
    "# Récupère les coefficients du modèle\n",
    "#print(\"Coefficients: \" + str(lr_model4bis.coefficients))\n",
    "print(\"Intercept: \" + str(lr_model4bis.intercept))"
   ]
  },
  {
   "cell_type": "markdown",
   "metadata": {
    "id": "NH6xvWYlAjrG"
   },
   "source": [
    "#### Cinquième droite"
   ]
  },
  {
   "cell_type": "code",
   "execution_count": 47,
   "metadata": {
    "colab": {
     "base_uri": "https://localhost:8080/"
    },
    "id": "bni-vjPJAjrG",
    "outputId": "50601821-fcf8-483d-ce21-1c7d35afce97"
   },
   "outputs": [
    {
     "name": "stdout",
     "output_type": "stream",
     "text": [
      "Intercept: 9658.25\n"
     ]
    }
   ],
   "source": [
    "# Préparer les données\n",
    "splits5bis = dataregFinal5bis.randomSplit([0.7, 0.3])\n",
    "train_df5bis = splits5bis[0]\n",
    "test_df5bis = splits5bis[1]\n",
    "\n",
    "lr5bis = LinearRegression(featuresCol = 'features', labelCol='Num_Acc', maxIter=10, regParam=0.3, elasticNetParam=0.8)\n",
    "lr_model5bis = lr5bis.fit(train_df5bis)\n",
    "\n",
    "# Récupère les coefficients du modèle\n",
    "#print(\"Coefficients: \" + str(lr_model5bis.coefficients))\n",
    "print(\"Intercept: \" + str(lr_model5bis.intercept))"
   ]
  },
  {
   "cell_type": "markdown",
   "metadata": {
    "id": "d2Zb9DonAjrG"
   },
   "source": [
    "### Affichage des résultats de prédiction"
   ]
  },
  {
   "cell_type": "code",
   "execution_count": 48,
   "metadata": {
    "colab": {
     "base_uri": "https://localhost:8080/"
    },
    "id": "2xq8-34CAjrG",
    "outputId": "3f7e9ca2-96b1-4f6d-d398-3cb204d880cd"
   },
   "outputs": [
    {
     "name": "stdout",
     "output_type": "stream",
     "text": [
      "La prédiction du nombre d'accidents pour lum=1 est 40992.\n",
      "La prédiction du nombre d'accidents pour lum=2 est 3674.\n",
      "La prédiction du nombre d'accidents pour lum=3 est 4937.\n",
      "La prédiction du nombre d'accidents pour lum=4 est 532.\n",
      "La prédiction du nombre d'accidents pour lum=5 est 9658.\n"
     ]
    }
   ],
   "source": [
    "print(f\"La prédiction du nombre d'accidents pour lum=1 est {int(lr_model1bis.intercept)}.\")\n",
    "print(f\"La prédiction du nombre d'accidents pour lum=2 est {int(lr_model2bis.intercept)}.\")\n",
    "print(f\"La prédiction du nombre d'accidents pour lum=3 est {int(lr_model3bis.intercept)}.\")\n",
    "print(f\"La prédiction du nombre d'accidents pour lum=4 est {int(lr_model4bis.intercept)}.\")\n",
    "print(f\"La prédiction du nombre d'accidents pour lum=5 est {int(lr_model5bis.intercept)}.\")"
   ]
  },
  {
   "cell_type": "markdown",
   "metadata": {
    "id": "r6JkbLxZUny6"
   },
   "source": [
    "### Représenttation finales des données et des droites de régression prédites"
   ]
  },
  {
   "cell_type": "code",
   "execution_count": 49,
   "metadata": {
    "colab": {
     "base_uri": "https://localhost:8080/",
     "height": 310
    },
    "id": "4PP-qgD4AjrG",
    "outputId": "a3af42fd-33a9-469d-83a2-c7798b62d85c"
   },
   "outputs": [
    {
     "data": {
      "text/plain": [
       "<Figure size 1440x720 with 0 Axes>"
      ]
     },
     "metadata": {},
     "output_type": "display_data"
    },
    {
     "data": {
      "image/png": "[encoded data removed]",
      "text/plain": [
       "<Figure size 432x288 with 1 Axes>"
      ]
     },
     "metadata": {
      "needs_background": "light"
     },
     "output_type": "display_data"
    }
   ],
   "source": [
    "# Tracer des droites de régression des 2 modèles (avec et sans année 2011) superposés aux données observés\n",
    "\n",
    "plt.figure(figsize=(20,10))\n",
    "\n",
    "temps = [0,1,2,3,4,5,6,7]\n",
    "\n",
    "# Evolution du nombre d'accidents par année\n",
    "df_finalannees.plot(logy=True)\n",
    "\n",
    "# Prédictions de 2011 à 2018 (pointillés)\n",
    "plt.plot(temps,lr_model1.coefficients*temps+lr_model1.intercept, c='blue', linestyle='dotted',)\n",
    "plt.plot(temps,lr_model2.coefficients*temps+lr_model2.intercept, c='orange', linestyle='dotted',)\n",
    "plt.plot(temps,lr_model3.coefficients*temps+lr_model3.intercept, c='green', linestyle='dotted',)\n",
    "plt.plot(temps,lr_model4.coefficients*temps+lr_model4.intercept, c='red', linestyle='dotted',)\n",
    "plt.plot(temps,lr_model5.coefficients*temps+lr_model5.intercept, c='purple', linestyle='dotted',)\n",
    "\n",
    "# Prédictions nouvelles en considérant de 2012 à 2018 (tirets)\n",
    "plt.plot(temps,lr_model1bis.coefficients*temps+lr_model1bis.intercept, c='blue', linestyle='--',)\n",
    "plt.plot(temps,lr_model2bis.coefficients*temps+lr_model2bis.intercept, c='orange', linestyle='--',)\n",
    "plt.plot(temps,lr_model3bis.coefficients*temps+lr_model3bis.intercept, c='green', linestyle='--',)\n",
    "plt.plot(temps,lr_model4bis.coefficients*temps+lr_model4bis.intercept, c='red', linestyle='--',)\n",
    "plt.plot(temps,lr_model5bis.coefficients*temps+lr_model5bis.intercept, c='purple', linestyle='--',)\n",
    "\n",
    "lumiere=['Plein jour', 'Crépuscule ou aube', 'Nuit sans éclairage public', 'Nuit avec éclairage public non allumé', 'Nuit avec éclairage public allumé']\n",
    "\n",
    "# Renommer aux des abscisses\n",
    "plt.xticks(temps, labels=['2011', '2012', '2013', '2014', '2015', '2016', '2017', '2018'],rotation=0)\n",
    "plt.legend(labels = lumiere, title = \"Type d'éclairage\", bbox_to_anchor=(1,0.8), fontsize=8, loc='upper left')\n",
    "\n",
    "plt.title(\"Evolution du nombre d'accidents suivant l'éclairage pour chaque année (2011 à 2018)\", \n",
    "          fontname =\"Liberation Sans\", fontsize=10, fontweight='bold')\n",
    "plt.xlabel(\"Années\", fontsize = 10)\n",
    "plt.ylabel(\"Nombre d'accidents\", fontsize = 10)\n",
    "plt.show()"
   ]
  },
  {
   "cell_type": "code",
   "execution_count": 54,
   "metadata": {
    "colab": {
     "base_uri": "https://localhost:8080/",
     "height": 617
    },
    "id": "6o381-6EFbgJ",
    "outputId": "e8d1f082-846a-49f1-9256-d1389185f889"
   },
   "outputs": [
    {
     "data": {
      "text/html": [
       "<html>\n",
       "<head><meta charset=\"utf-8\" /></head>\n",
       "<body>\n",
       "    <div>            <script src=\"https://cdnjs.cloudflare.com/ajax/libs/mathjax/2.7.5/MathJax.js?config=TeX-AMS-MML_SVG\"></script><script type=\"text/javascript\">if (window.MathJax) {MathJax.Hub.Config({SVG: {font: \"STIX-Web\"}});}</script>                <script type=\"text/javascript\">window.PlotlyConfig = {MathJaxConfig: 'local'};</script>\n",
       "        <script src=\"https://cdn.plot.ly/plotly-2.8.3.min.js\"></script>                <div id=\"80176c4c-b0e7-45c6-b899-710124e7af78\" class=\"plotly-graph-div\" style=\"height:600px; width:1000px;\"></div>            <script type=\"text/javascript\">                                    window.PLOTLYENV=window.PLOTLYENV || {};                                    if (document.getElementById(\"80176c4c-b0e7-45c6-b899-710124e7af78\")) {                    Plotly.newPlot(                        \"80176c4c-b0e7-45c6-b899-710124e7af78\",                        [{\"marker\":{\"color\":\"blue\"},\"mode\":\"lines\",\"name\":\"Plein jour\",\"x\":[2011,2012,2013,2014,2015,2016,2017,2018],\"y\":[92538,42322,40098,41049,40598,40578,40895,38701],\"type\":\"scatter\"},{\"marker\":{\"color\":\"orange\"},\"mode\":\"lines\",\"name\":\"Cr\\u00e9puscule ou aube\",\"x\":[2011,2012,2013,2014,2015,2016,2017,2018],\"y\":[7726,3764,3564,3617,3479,3568,4158,3839],\"type\":\"scatter\"},{\"marker\":{\"color\":\"green\"},\"mode\":\"lines\",\"name\":\"Nuit sans \\u00e9clairage public\",\"x\":[2011,2012,2013,2014,2015,2016,2017,2018],\"y\":[10416,4813,4467,4620,4746,5089,5601,5574],\"type\":\"scatter\"},{\"marker\":{\"color\":\"red\"},\"mode\":\"lines\",\"name\":\"Nuit avec \\u00e9clairage public non allum\\u00e9\",\"x\":[2011,2012,2013,2014,2015,2016,2017,2018],\"y\":[1114,619,565,548,454,508,514,575],\"type\":\"scatter\"},{\"marker\":{\"color\":\"purple\"},\"mode\":\"lines\",\"name\":\"Nuit avec \\u00e9clairage public allum\\u00e9\",\"x\":[2011,2012,2013,2014,2015,2016,2017,2018],\"y\":[22154,10732,9703,10020,9377,9689,9533,9094],\"type\":\"scatter\"},{\"line\":{\"color\":\"blue\",\"dash\":\"dot\",\"width\":4},\"name\":\"Pr\\u00e9diction de Plein jour\",\"x\":[2011,2012,2013,2014,2015,2016,2017,2018],\"y\":[50972.2,50972.2,50972.2,50972.2,50972.2,50972.2,50972.2,50972.2],\"type\":\"scatter\"},{\"line\":{\"color\":\"orange\",\"dash\":\"dot\",\"width\":4},\"name\":\"Pr\\u00e9diction de Cr\\u00e9puscule ou aube\",\"x\":[2011,2012,2013,2014,2015,2016,2017,2018],\"y\":[4436.5,4436.5,4436.5,4436.5,4436.5,4436.5,4436.5,4436.5],\"type\":\"scatter\"},{\"line\":{\"color\":\"green\",\"dash\":\"dot\",\"width\":4},\"name\":\"Pr\\u00e9diction de Nuit sans \\u00e9clairage public\",\"x\":[2011,2012,2013,2014,2015,2016,2017,2018],\"y\":[4889.333333333333,4889.333333333333,4889.333333333333,4889.333333333333,4889.333333333333,4889.333333333333,4889.333333333333,4889.333333333333],\"type\":\"scatter\"},{\"line\":{\"color\":\"red\",\"dash\":\"dot\",\"width\":4},\"name\":\"Pr\\u00e9diction de Nuit avec \\u00e9clairage public non allum\\u00e9\",\"x\":[2011,2012,2013,2014,2015,2016,2017,2018],\"y\":[519.8,519.8,519.8,519.8,519.8,519.8,519.8,519.8],\"type\":\"scatter\"},{\"line\":{\"color\":\"purple\",\"dash\":\"dot\",\"width\":4},\"name\":\"Pr\\u00e9diction de Nuit avec \\u00e9clairage public allum\\u00e9\",\"x\":[2011,2012,2013,2014,2015,2016,2017,2018],\"y\":[11287.75,11287.75,11287.75,11287.75,11287.75,11287.75,11287.75,11287.75],\"type\":\"scatter\"},{\"line\":{\"color\":\"blue\",\"dash\":\"dash\",\"width\":1},\"name\":\"Nouvelle Pr\\u00e9diction de Plein jour\",\"x\":[2011,2012,2013,2014,2015,2016,2017,2018],\"y\":[40992.4,40992.4,40992.4,40992.4,40992.4,40992.4,40992.4,40992.4],\"type\":\"scatter\"},{\"line\":{\"color\":\"orange\",\"dash\":\"dash\",\"width\":1},\"name\":\"Nouvelle Pr\\u00e9diction de Cr\\u00e9puscule ou aube\",\"x\":[2011,2012,2013,2014,2015,2016,2017,2018],\"y\":[3674.75,3674.75,3674.75,3674.75,3674.75,3674.75,3674.75,3674.75],\"type\":\"scatter\"},{\"line\":{\"color\":\"green\",\"dash\":\"dash\",\"width\":1},\"name\":\"Nouvelle Pr\\u00e9diction de Nuit sans \\u00e9clairage public\",\"x\":[2011,2012,2013,2014,2015,2016,2017,2018],\"y\":[4937.8,4937.8,4937.8,4937.8,4937.8,4937.8,4937.8,4937.8],\"type\":\"scatter\"},{\"line\":{\"color\":\"red\",\"dash\":\"dash\",\"width\":1},\"name\":\"Nouvelle Pr\\u00e9diction de Nuit avec \\u00e9clairage public non allum\\u00e9\",\"x\":[2011,2012,2013,2014,2015,2016,2017,2018],\"y\":[532.0,532.0,532.0,532.0,532.0,532.0,532.0,532.0],\"type\":\"scatter\"},{\"line\":{\"color\":\"purple\",\"dash\":\"dash\",\"width\":1},\"name\":\"Nouvelle Pr\\u00e9diction de Nuit avec \\u00e9clairage public allum\\u00e9\",\"x\":[2011,2012,2013,2014,2015,2016,2017,2018],\"y\":[9658.25,9658.25,9658.25,9658.25,9658.25,9658.25,9658.25,9658.25],\"type\":\"scatter\"}],                        {\"template\":{\"data\":{\"bar\":[{\"error_x\":{\"color\":\"#2a3f5f\"},\"error_y\":{\"color\":\"#2a3f5f\"},\"marker\":{\"line\":{\"color\":\"#E5ECF6\",\"width\":0.5},\"pattern\":{\"fillmode\":\"overlay\",\"size\":10,\"solidity\":0.2}},\"type\":\"bar\"}],\"barpolar\":[{\"marker\":{\"line\":{\"color\":\"#E5ECF6\",\"width\":0.5},\"pattern\":{\"fillmode\":\"overlay\",\"size\":10,\"solidity\":0.2}},\"type\":\"barpolar\"}],\"carpet\":[{\"aaxis\":{\"endlinecolor\":\"#2a3f5f\",\"gridcolor\":\"white\",\"linecolor\":\"white\",\"minorgridcolor\":\"white\",\"startlinecolor\":\"#2a3f5f\"},\"baxis\":{\"endlinecolor\":\"#2a3f5f\",\"gridcolor\":\"white\",\"linecolor\":\"white\",\"minorgridcolor\":\"white\",\"startlinecolor\":\"#2a3f5f\"},\"type\":\"carpet\"}],\"choropleth\":[{\"colorbar\":{\"outlinewidth\":0,\"ticks\":\"\"},\"type\":\"choropleth\"}],\"contour\":[{\"colorbar\":{\"outlinewidth\":0,\"ticks\":\"\"},\"colorscale\":[[0.0,\"#0d0887\"],[0.1111111111111111,\"#46039f\"],[0.2222222222222222,\"#7201a8\"],[0.3333333333333333,\"#9c179e\"],[0.4444444444444444,\"#bd3786\"],[0.5555555555555556,\"#d8576b\"],[0.6666666666666666,\"#ed7953\"],[0.7777777777777778,\"#fb9f3a\"],[0.8888888888888888,\"#fdca26\"],[1.0,\"#f0f921\"]],\"type\":\"contour\"}],\"contourcarpet\":[{\"colorbar\":{\"outlinewidth\":0,\"ticks\":\"\"},\"type\":\"contourcarpet\"}],\"heatmap\":[{\"colorbar\":{\"outlinewidth\":0,\"ticks\":\"\"},\"colorscale\":[[0.0,\"#0d0887\"],[0.1111111111111111,\"#46039f\"],[0.2222222222222222,\"#7201a8\"],[0.3333333333333333,\"#9c179e\"],[0.4444444444444444,\"#bd3786\"],[0.5555555555555556,\"#d8576b\"],[0.6666666666666666,\"#ed7953\"],[0.7777777777777778,\"#fb9f3a\"],[0.8888888888888888,\"#fdca26\"],[1.0,\"#f0f921\"]],\"type\":\"heatmap\"}],\"heatmapgl\":[{\"colorbar\":{\"outlinewidth\":0,\"ticks\":\"\"},\"colorscale\":[[0.0,\"#0d0887\"],[0.1111111111111111,\"#46039f\"],[0.2222222222222222,\"#7201a8\"],[0.3333333333333333,\"#9c179e\"],[0.4444444444444444,\"#bd3786\"],[0.5555555555555556,\"#d8576b\"],[0.6666666666666666,\"#ed7953\"],[0.7777777777777778,\"#fb9f3a\"],[0.8888888888888888,\"#fdca26\"],[1.0,\"#f0f921\"]],\"type\":\"heatmapgl\"}],\"histogram\":[{\"marker\":{\"pattern\":{\"fillmode\":\"overlay\",\"size\":10,\"solidity\":0.2}},\"type\":\"histogram\"}],\"histogram2d\":[{\"colorbar\":{\"outlinewidth\":0,\"ticks\":\"\"},\"colorscale\":[[0.0,\"#0d0887\"],[0.1111111111111111,\"#46039f\"],[0.2222222222222222,\"#7201a8\"],[0.3333333333333333,\"#9c179e\"],[0.4444444444444444,\"#bd3786\"],[0.5555555555555556,\"#d8576b\"],[0.6666666666666666,\"#ed7953\"],[0.7777777777777778,\"#fb9f3a\"],[0.8888888888888888,\"#fdca26\"],[1.0,\"#f0f921\"]],\"type\":\"histogram2d\"}],\"histogram2dcontour\":[{\"colorbar\":{\"outlinewidth\":0,\"ticks\":\"\"},\"colorscale\":[[0.0,\"#0d0887\"],[0.1111111111111111,\"#46039f\"],[0.2222222222222222,\"#7201a8\"],[0.3333333333333333,\"#9c179e\"],[0.4444444444444444,\"#bd3786\"],[0.5555555555555556,\"#d8576b\"],[0.6666666666666666,\"#ed7953\"],[0.7777777777777778,\"#fb9f3a\"],[0.8888888888888888,\"#fdca26\"],[1.0,\"#f0f921\"]],\"type\":\"histogram2dcontour\"}],\"mesh3d\":[{\"colorbar\":{\"outlinewidth\":0,\"ticks\":\"\"},\"type\":\"mesh3d\"}],\"parcoords\":[{\"line\":{\"colorbar\":{\"outlinewidth\":0,\"ticks\":\"\"}},\"type\":\"parcoords\"}],\"pie\":[{\"automargin\":true,\"type\":\"pie\"}],\"scatter\":[{\"marker\":{\"colorbar\":{\"outlinewidth\":0,\"ticks\":\"\"}},\"type\":\"scatter\"}],\"scatter3d\":[{\"line\":{\"colorbar\":{\"outlinewidth\":0,\"ticks\":\"\"}},\"marker\":{\"colorbar\":{\"outlinewidth\":0,\"ticks\":\"\"}},\"type\":\"scatter3d\"}],\"scattercarpet\":[{\"marker\":{\"colorbar\":{\"outlinewidth\":0,\"ticks\":\"\"}},\"type\":\"scattercarpet\"}],\"scattergeo\":[{\"marker\":{\"colorbar\":{\"outlinewidth\":0,\"ticks\":\"\"}},\"type\":\"scattergeo\"}],\"scattergl\":[{\"marker\":{\"colorbar\":{\"outlinewidth\":0,\"ticks\":\"\"}},\"type\":\"scattergl\"}],\"scattermapbox\":[{\"marker\":{\"colorbar\":{\"outlinewidth\":0,\"ticks\":\"\"}},\"type\":\"scattermapbox\"}],\"scatterpolar\":[{\"marker\":{\"colorbar\":{\"outlinewidth\":0,\"ticks\":\"\"}},\"type\":\"scatterpolar\"}],\"scatterpolargl\":[{\"marker\":{\"colorbar\":{\"outlinewidth\":0,\"ticks\":\"\"}},\"type\":\"scatterpolargl\"}],\"scatterternary\":[{\"marker\":{\"colorbar\":{\"outlinewidth\":0,\"ticks\":\"\"}},\"type\":\"scatterternary\"}],\"surface\":[{\"colorbar\":{\"outlinewidth\":0,\"ticks\":\"\"},\"colorscale\":[[0.0,\"#0d0887\"],[0.1111111111111111,\"#46039f\"],[0.2222222222222222,\"#7201a8\"],[0.3333333333333333,\"#9c179e\"],[0.4444444444444444,\"#bd3786\"],[0.5555555555555556,\"#d8576b\"],[0.6666666666666666,\"#ed7953\"],[0.7777777777777778,\"#fb9f3a\"],[0.8888888888888888,\"#fdca26\"],[1.0,\"#f0f921\"]],\"type\":\"surface\"}],\"table\":[{\"cells\":{\"fill\":{\"color\":\"#EBF0F8\"},\"line\":{\"color\":\"white\"}},\"header\":{\"fill\":{\"color\":\"#C8D4E3\"},\"line\":{\"color\":\"white\"}},\"type\":\"table\"}]},\"layout\":{\"annotationdefaults\":{\"arrowcolor\":\"#2a3f5f\",\"arrowhead\":0,\"arrowwidth\":1},\"autotypenumbers\":\"strict\",\"coloraxis\":{\"colorbar\":{\"outlinewidth\":0,\"ticks\":\"\"}},\"colorscale\":{\"diverging\":[[0,\"#8e0152\"],[0.1,\"#c51b7d\"],[0.2,\"#de77ae\"],[0.3,\"#f1b6da\"],[0.4,\"#fde0ef\"],[0.5,\"#f7f7f7\"],[0.6,\"#e6f5d0\"],[0.7,\"#b8e186\"],[0.8,\"#7fbc41\"],[0.9,\"#4d9221\"],[1,\"#276419\"]],\"sequential\":[[0.0,\"#0d0887\"],[0.1111111111111111,\"#46039f\"],[0.2222222222222222,\"#7201a8\"],[0.3333333333333333,\"#9c179e\"],[0.4444444444444444,\"#bd3786\"],[0.5555555555555556,\"#d8576b\"],[0.6666666666666666,\"#ed7953\"],[0.7777777777777778,\"#fb9f3a\"],[0.8888888888888888,\"#fdca26\"],[1.0,\"#f0f921\"]],\"sequentialminus\":[[0.0,\"#0d0887\"],[0.1111111111111111,\"#46039f\"],[0.2222222222222222,\"#7201a8\"],[0.3333333333333333,\"#9c179e\"],[0.4444444444444444,\"#bd3786\"],[0.5555555555555556,\"#d8576b\"],[0.6666666666666666,\"#ed7953\"],[0.7777777777777778,\"#fb9f3a\"],[0.8888888888888888,\"#fdca26\"],[1.0,\"#f0f921\"]]},\"colorway\":[\"#636efa\",\"#EF553B\",\"#00cc96\",\"#ab63fa\",\"#FFA15A\",\"#19d3f3\",\"#FF6692\",\"#B6E880\",\"#FF97FF\",\"#FECB52\"],\"font\":{\"color\":\"#2a3f5f\"},\"geo\":{\"bgcolor\":\"white\",\"lakecolor\":\"white\",\"landcolor\":\"#E5ECF6\",\"showlakes\":true,\"showland\":true,\"subunitcolor\":\"white\"},\"hoverlabel\":{\"align\":\"left\"},\"hovermode\":\"closest\",\"mapbox\":{\"style\":\"light\"},\"paper_bgcolor\":\"white\",\"plot_bgcolor\":\"#E5ECF6\",\"polar\":{\"angularaxis\":{\"gridcolor\":\"white\",\"linecolor\":\"white\",\"ticks\":\"\"},\"bgcolor\":\"#E5ECF6\",\"radialaxis\":{\"gridcolor\":\"white\",\"linecolor\":\"white\",\"ticks\":\"\"}},\"scene\":{\"xaxis\":{\"backgroundcolor\":\"#E5ECF6\",\"gridcolor\":\"white\",\"gridwidth\":2,\"linecolor\":\"white\",\"showbackground\":true,\"ticks\":\"\",\"zerolinecolor\":\"white\"},\"yaxis\":{\"backgroundcolor\":\"#E5ECF6\",\"gridcolor\":\"white\",\"gridwidth\":2,\"linecolor\":\"white\",\"showbackground\":true,\"ticks\":\"\",\"zerolinecolor\":\"white\"},\"zaxis\":{\"backgroundcolor\":\"#E5ECF6\",\"gridcolor\":\"white\",\"gridwidth\":2,\"linecolor\":\"white\",\"showbackground\":true,\"ticks\":\"\",\"zerolinecolor\":\"white\"}},\"shapedefaults\":{\"line\":{\"color\":\"#2a3f5f\"}},\"ternary\":{\"aaxis\":{\"gridcolor\":\"white\",\"linecolor\":\"white\",\"ticks\":\"\"},\"baxis\":{\"gridcolor\":\"white\",\"linecolor\":\"white\",\"ticks\":\"\"},\"bgcolor\":\"#E5ECF6\",\"caxis\":{\"gridcolor\":\"white\",\"linecolor\":\"white\",\"ticks\":\"\"}},\"title\":{\"x\":0.05},\"xaxis\":{\"automargin\":true,\"gridcolor\":\"white\",\"linecolor\":\"white\",\"ticks\":\"\",\"title\":{\"standoff\":15},\"zerolinecolor\":\"white\",\"zerolinewidth\":2},\"yaxis\":{\"automargin\":true,\"gridcolor\":\"white\",\"linecolor\":\"white\",\"ticks\":\"\",\"title\":{\"standoff\":15},\"zerolinecolor\":\"white\",\"zerolinewidth\":2}}},\"title\":{\"text\":\"Evolution du nombre d'accidents suivant l'\\u00e9clairage pour chaque ann\\u00e9e (2011 \\u00e0 2018)\"},\"margin\":{\"l\":50,\"r\":20,\"t\":60,\"b\":10},\"yaxis\":{\"title\":{\"font\":{\"size\":15},\"text\":\"Nombre d'accidents\"}},\"xaxis\":{\"title\":{\"font\":{\"size\":15},\"text\":\"Ann\\u00e9es\"}},\"barmode\":\"group\",\"paper_bgcolor\":\"#f2f5f9\",\"width\":1000,\"height\":600,\"bargap\":0.5},                        {\"responsive\": true}                    ).then(function(){\n",
       "                            \n",
       "var gd = document.getElementById('80176c4c-b0e7-45c6-b899-710124e7af78');\n",
       "var x = new MutationObserver(function (mutations, observer) {{\n",
       "        var display = window.getComputedStyle(gd).display;\n",
       "        if (!display || display === 'none') {{\n",
       "            console.log([gd, 'removed!']);\n",
       "            Plotly.purge(gd);\n",
       "            observer.disconnect();\n",
       "        }}\n",
       "}});\n",
       "\n",
       "// Listen for the removal of the full notebook cells\n",
       "var notebookContainer = gd.closest('#notebook-container');\n",
       "if (notebookContainer) {{\n",
       "    x.observe(notebookContainer, {childList: true});\n",
       "}}\n",
       "\n",
       "// Listen for the clearing of the current output cell\n",
       "var outputEl = gd.closest('.output');\n",
       "if (outputEl) {{\n",
       "    x.observe(outputEl, {childList: true});\n",
       "}}\n",
       "\n",
       "                        })                };                            </script>        </div>\n",
       "</body>\n",
       "</html>"
      ]
     },
     "metadata": {},
     "output_type": "display_data"
    }
   ],
   "source": [
    "temps = [2011,2012,2013,2014,2015,2016,2017,2018]\n",
    "lumiere=['Plein jour', 'Crépuscule ou aube', 'Nuit sans éclairage public', 'Nuit avec éclairage public non allumé', 'Nuit avec éclairage public allumé']\n",
    "\n",
    "fig = go.Figure()\n",
    "\n",
    "# Evolution du Nombre d'accidents suivant l'année\n",
    "fig.add_trace(go.Scatter(x = temps, y = data3.iloc[0,:], mode='lines', name=lumiere[0], marker_color=\"blue\"))\n",
    "fig.add_trace(go.Scatter(x = temps, y = data3.iloc[1,:], mode='lines', name=lumiere[1], marker_color=\"orange\"))\n",
    "fig.add_trace(go.Scatter(x = temps, y = data3.iloc[2,:], mode='lines', name=lumiere[2], marker_color=\"green\"))\n",
    "fig.add_trace(go.Scatter(x = temps, y = data3.iloc[3,:], mode='lines', name=lumiere[3], marker_color=\"red\"))\n",
    "fig.add_trace(go.Scatter(x = temps, y = data3.iloc[4,:], mode='lines', name=lumiere[4], marker_color=\"purple\"))\n",
    "\n",
    "# Prédictions de 2011 à 2018\n",
    "fig.add_trace(go.Scatter(x = temps, y = lr_model1.coefficients*temps+lr_model1.intercept, \n",
    "                         line = dict(color='blue', width=4, dash='dot'), name='Prédiction de '+lumiere[0]))\n",
    "fig.add_trace(go.Scatter(x = temps, y = lr_model2.coefficients*temps+lr_model2.intercept, \n",
    "                         line = dict(color='orange', width=4, dash='dot'), name='Prédiction de '+lumiere[1]))\n",
    "fig.add_trace(go.Scatter(x = temps, y = lr_model3.coefficients*temps+lr_model3.intercept, \n",
    "                         line = dict(color='green', width=4, dash='dot'), name='Prédiction de '+lumiere[2]))\n",
    "fig.add_trace(go.Scatter(x = temps, y = lr_model4.coefficients*temps+lr_model4.intercept, \n",
    "                         line = dict(color='red', width=4, dash='dot'), name='Prédiction de '+lumiere[3]))\n",
    "fig.add_trace(go.Scatter(x = temps, y = lr_model5.coefficients*temps+lr_model5.intercept, \n",
    "                         line = dict(color='purple', width=4, dash='dot'), name='Prédiction de '+lumiere[4]))\n",
    "\n",
    "# Prédictions nouvelles en considérant de 2012 à 2018 (tirets)\n",
    "fig.add_trace(go.Scatter(x = temps, y = lr_model1bis.coefficients*temps+lr_model1bis.intercept, \n",
    "                         line = dict(color='blue', width=1, dash='dash'), name='Nouvelle Prédiction de '+lumiere[0]))\n",
    "fig.add_trace(go.Scatter(x = temps, y = lr_model2bis.coefficients*temps+lr_model2bis.intercept, \n",
    "                         line = dict(color='orange', width=1, dash='dash'), name='Nouvelle Prédiction de '+lumiere[1]))\n",
    "fig.add_trace(go.Scatter(x = temps, y = lr_model3bis.coefficients*temps+lr_model3bis.intercept, \n",
    "                         line = dict(color='green', width=1, dash='dash'), name='Nouvelle Prédiction de '+lumiere[2]))\n",
    "fig.add_trace(go.Scatter(x = temps, y = lr_model4bis.coefficients*temps+lr_model4bis.intercept, \n",
    "                         line = dict(color='red', width=1, dash='dash'), name='Nouvelle Prédiction de '+lumiere[3]))\n",
    "fig.add_trace(go.Scatter(x = temps, y = lr_model5bis.coefficients*temps+lr_model5bis.intercept, \n",
    "                         line = dict(color='purple', width=1, dash='dash'), name='Nouvelle Prédiction de '+lumiere[4]))\n",
    "\n",
    "\n",
    "# Paramètres de la fenêtre graphique et des axes\n",
    "fig.update_layout(\n",
    "    title_text=\"Evolution du nombre d'accidents suivant l'éclairage pour chaque année (2011 à 2018)\",\n",
    "    margin=dict(l=50, r=20, t=60, b=10), # marges du graphique\n",
    "    paper_bgcolor=\"#f2f5f9\",             # couleur de fond\n",
    "    width=1000,                          # largeur du graphique\n",
    "    height=600,                          # hauteur du graphique\n",
    "\n",
    "    yaxis=dict(\n",
    "        title_text=\"Nombre d'accidents\",\n",
    "        titlefont=dict(size=15),\n",
    "    ),\n",
    "    xaxis=dict(\n",
    "        title_text=\"Années\",\n",
    "        titlefont=dict(size=15),\n",
    "    )\n",
    ")\n",
    "fig.show()"
   ]
  },
  {
   "cell_type": "markdown",
   "metadata": {
    "id": "rybGiJwBAjrH"
   },
   "source": [
    "On observe que les droites estimées par machine learning se rapproche beaucoup mieux des données. \n",
    "\n",
    "A l'aide de ce graphique interactifs, ceci est nettement visible lorsque l'on zoome le graphique sur les droites en bleu et en violet (Plein Jour & Nuit avec éclairage public)."
   ]
  },
  {
   "cell_type": "code",
   "execution_count": null,
   "metadata": {
    "id": "sCBMB3T-ATjR"
   },
   "outputs": [],
   "source": []
  }
 ],
 "metadata": {
  "colab": {
   "collapsed_sections": [],
   "provenance": []
  },
  "kernelspec": {
   "display_name": "Python 3",
   "language": "python",
   "name": "python3"
  },
  "language_info": {
   "codemirror_mode": {
    "name": "ipython",
    "version": 3
   },
   "file_extension": ".py",
   "mimetype": "text/x-python",
   "name": "python",
   "nbconvert_exporter": "python",
   "pygments_lexer": "ipython3",
   "version": "3.11.0"
  },
  "vscode": {
   "interpreter": {
    "hash": "3c229d494069f20c3fcb5c0373f6331941eaec1d792fc1562f17e0a0636a531a"
   }
  }
 },
 "nbformat": 4,
 "nbformat_minor": 1
}
